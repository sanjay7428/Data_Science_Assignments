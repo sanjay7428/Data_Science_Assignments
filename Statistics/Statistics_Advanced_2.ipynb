{
 "cells": [
  {
   "cell_type": "markdown",
   "id": "d73c4512-1606-4f7b-ae29-ea03ff6e642d",
   "metadata": {},
   "source": [
    "## Statistics Advanced - 2| Assignment"
   ]
  },
  {
   "cell_type": "markdown",
   "id": "ec8b3144-8b9b-4068-b952-3d653711f9dc",
   "metadata": {},
   "source": [
    "## Question 1: What is hypothesis testing in statistics? "
   ]
  },
  {
   "cell_type": "markdown",
   "id": "f4479b24-2366-469a-8d2f-8bae67febdc5",
   "metadata": {},
   "source": [
    "It helps us determine whether there is enough statistical evidence to support a certain belief (hypothesis) about the data.\n",
    "\n",
    "Key Points:\n",
    "\n",
    "Hypotheses:\n",
    "\n",
    "Null hypothesis (H₀) → A default statement that there is no effect or no difference.\n",
    "\n",
    "Alternative hypothesis (H₁ or Ha) → A claim that contradicts the null; it suggests there is an effect or difference.\n",
    "\n",
    "Test Statistic:\n",
    "A numerical value (like t, z, χ²) calculated from the sample data, used to decide whether to reject H₀.\n",
    "\n",
    "Significance Level (α):\n",
    "A threshold (commonly 0.05) that defines the probability of rejecting H₀ when it is actually true (Type I error).\n",
    "\n",
    "p-value:\n",
    "The probability of observing results at least as extreme as the sample result, assuming H₀ is true.\n",
    "\n",
    "If p ≤ α → Reject H₀ (evidence supports H₁).\n",
    "\n",
    "If p > α → Fail to reject H₀ (not enough evidence against H₀).\n",
    "\n",
    "Decision:\n",
    "Based on the p-value or critical value approach, we conclude whether to reject or not reject the null hypothesis."
   ]
  },
  {
   "cell_type": "markdown",
   "id": "26265f99-5952-44e5-a261-1200cfeeaa48",
   "metadata": {},
   "source": [
    "## Question 2: What is the null hypothesis, and how does it differ from the alternative hypothesis? "
   ]
  },
  {
   "cell_type": "markdown",
   "id": "cf8f2d3c-405d-427c-bd78-b23a6bcfa1bf",
   "metadata": {},
   "source": [
    "Null Hypothesis (H₀):\n",
    "\n",
    "It is the default assumption in statistics.\n",
    "\n",
    "States that there is no effect, no difference, or no relationship in the population.\n",
    "\n",
    "It represents the status quo or what we assume to be true until evidence suggests otherwise.\n",
    "\n",
    "👉Example: “The average height of students is 170 cm.” (H₀: μ = 170)\n",
    "\n",
    "Alternative Hypothesis (H₁ or Ha):\n",
    "\n",
    "It is the opposite claim to the null hypothesis.\n",
    "\n",
    "States that there is an effect, a difference, or a relationship in the population.\n",
    "\n",
    "What the researcher usually wants to prove.\n",
    "\n",
    " Example: “The average height of students is not 170 cm.” (H₁: μ ≠ 170)\n",
    "\n",
    "In short:\n",
    "\n",
    "H₀ = \"nothing new / no change\"\n",
    "\n",
    "H₁ = \"something new / a change exists\""
   ]
  },
  {
   "cell_type": "markdown",
   "id": "6c6835c7-58bc-45b0-8f03-baf7214f2dd8",
   "metadata": {},
   "source": [
    "## Question 3: Explain the significance level in hypothesis testing and its role in deciding the outcome of a test. "
   ]
  },
  {
   "cell_type": "markdown",
   "id": "05b26655-a579-4c35-bd0b-9ac0656e72c2",
   "metadata": {},
   "source": [
    "Significance Level (α):\n",
    "\n",
    "The significance level (denoted by α) is the threshold probability used in hypothesis testing to decide whether to reject the null hypothesis (H₀).\n",
    "\n",
    "It represents the risk of making a Type I error, i.e., rejecting H₀ when it is actually true.\n",
    "\n",
    "Common choices:\n",
    "\n",
    "α = 0.05 (5%) → Most widely used.\n",
    "\n",
    "α = 0.01 (1%) → Stricter, used in scientific/medical research.\n",
    "\n",
    "α = 0.10 (10%) → More lenient, used in exploratory studies.\n",
    "\n",
    "Role in Hypothesis Testing:\n",
    "\n",
    "Compare with p-value\n",
    "\n",
    "If p ≤ α → Reject H₀ (evidence supports H₁).\n",
    "\n",
    "If p > α → Fail to reject H₀ (not enough evidence against H₀).\n",
    "\n",
    "Sets the confidence level\n",
    "\n",
    "Confidence level = (1 − α).\n",
    "\n",
    "Example: If α = 0.05 → confidence level = 95%.\n",
    "\n",
    "Controls error risk\n",
    "\n",
    "Smaller α reduces the chance of Type I error (false positive), but increases the chance of Type II error (false negative).\n",
    "\n",
    "Example:\n",
    "\n",
    "A medicine company claims their pill lowers blood pressure by 10 mmHg.\n",
    "\n",
    "H₀: μ = 10\n",
    "\n",
    "H₁: μ ≠ 10\n",
    "\n",
    "α = 0.05\n",
    "\n",
    "If the p-value from your sample test = 0.03 → since 0.03 < 0.05, you reject H₀ and conclude the pill effect is statistically different from 10 mmHg."
   ]
  },
  {
   "cell_type": "markdown",
   "id": "356c2315-a824-4c1f-ac84-81c392fead95",
   "metadata": {},
   "source": [
    "## Question 4: What are Type I and Type II errors? Give examples of each. "
   ]
  },
  {
   "cell_type": "markdown",
   "id": "e2d57d55-6a84-4c11-830d-49d391fc74b0",
   "metadata": {},
   "source": [
    "Type I Error (False Positive):\n",
    "\n",
    "Happens when you reject the null hypothesis (H₀) even though it is actually true.\n",
    "\n",
    "In other words, you detect an effect or difference that does not really exist.\n",
    "\n",
    "The probability of making a Type I error is equal to the significance level (α).\n",
    "\n",
    "Example:\n",
    "A court trial:\n",
    "\n",
    "H₀: The person is innocent.\n",
    "\n",
    "H₁: The person is guilty.\n",
    "\n",
    "Type I Error = Convicting an innocent person.\n",
    "\n",
    "Another example: A medical test shows a patient has a disease when they are actually healthy.\n",
    "\n",
    "Type II Error (False Negative):\n",
    "\n",
    "Happens when you fail to reject the null hypothesis (H₀) even though it is actually false.\n",
    "\n",
    "In other words, you miss an effect or difference that really exists.\n",
    "\n",
    "The probability of making a Type II error is denoted by β. (1 − β = Power of the test).\n",
    "\n",
    "Example:\n",
    "Court trial again:\n",
    "\n",
    "H₀: The person is innocent.\n",
    "\n",
    "H₁: The person is guilty.\n",
    "\n",
    "Type II Error = Letting a guilty person go free.\n",
    "\n",
    "Another example: A medical test says a patient is healthy when they actually have the disease."
   ]
  },
  {
   "cell_type": "markdown",
   "id": "d6ba4e88-f901-41e7-ba5e-015681928646",
   "metadata": {},
   "source": [
    "## Question 5: What is the difference between a Z-test and a T-test? Explain when to use each. "
   ]
  },
  {
   "cell_type": "markdown",
   "id": "ccd4d355-1bfb-4dff-bdc4-04be114d3a63",
   "metadata": {},
   "source": [
    "Z-test\n",
    "\n",
    "A statistical test used when:\n",
    "\n",
    "The population variance (σ²) is known.\n",
    "\n",
    "The sample size is large (n ≥ 30, by Central Limit Theorem).\n",
    "\n",
    "Based on the standard normal distribution (Z-distribution) with mean 0 and standard deviation 1.\n",
    "\n",
    "More accurate when we have complete knowledge of the population standard deviation.\n",
    "\n",
    " Example use cases:\n",
    "\n",
    "Testing whether the average height of students = 170 cm when σ is known.\n",
    "\n",
    "Comparing sample proportion to a population proportion.\n",
    "\n",
    "T-test\n",
    "\n",
    "A statistical test used when:\n",
    "\n",
    "The population variance is unknown (we only have sample data).\n",
    "\n",
    "The sample size is small (n < 30).\n",
    "\n",
    "Based on the Student’s t-distribution, which is similar to the normal distribution but has heavier tails (to account for extra uncertainty).\n",
    "\n",
    "As sample size increases, t-distribution approaches the Z-distribution.\n",
    "\n",
    " Example use cases:\n",
    "\n",
    "Testing whether the mean exam score of a small class of 20 students = 50, when σ is unknown.\n",
    "\n",
    "Comparing the means of two small independent samples (Independent samples t-test).\n",
    "\n",
    "Paired t-test for before-and-after studies."
   ]
  },
  {
   "cell_type": "markdown",
   "id": "096a2972-a793-46ee-8891-ab0987ccdc77",
   "metadata": {},
   "source": [
    "## Question 6: Write a Python program to generate a binomial distribution with n=10 and p=0.5, then plot its histogram. "
   ]
  },
  {
   "cell_type": "code",
   "execution_count": 1,
   "id": "e65b5e48-92c7-4ba3-8a43-fcdd9074cab7",
   "metadata": {},
   "outputs": [
    {
     "data": {
      "image/png": "[encoded data removed]",
      "text/plain": [
       "<Figure size 640x480 with 1 Axes>"
      ]
     },
     "metadata": {},
     "output_type": "display_data"
    }
   ],
   "source": [
    "import numpy as np\n",
    "import matplotlib.pyplot as plt\n",
    "\n",
    "# Parameters\n",
    "n = 10      # number of trials\n",
    "p = 0.5     # probability of success\n",
    "size = 1000 # number of random samples\n",
    "\n",
    "# Generate binomial distribution\n",
    "data = np.random.binomial(n, p, size)\n",
    "\n",
    "# Plot histogram\n",
    "plt.hist(data, bins=range(n+2), edgecolor='black', alpha=0.7)\n",
    "plt.title(\"Binomial Distribution (n=10, p=0.5)\")\n",
    "plt.xlabel(\"Number of Successes\")\n",
    "plt.ylabel(\"Frequency\")\n",
    "plt.show()\n"
   ]
  },
  {
   "cell_type": "markdown",
   "id": "5406c933-6c8a-465c-8764-b5746269edcd",
   "metadata": {},
   "source": [
    "## Question 7: Implement hypothesis testing using Z-statistics for a sample dataset in Python. Show the Python code and interpret the results."
   ]
  },
  {
   "cell_type": "markdown",
   "id": "ba0092f8-7509-46c6-81ed-9d30884e225c",
   "metadata": {},
   "source": [
    "sample_data = [49.1, 50.2, 51.0, 48.7, 50.5, 49.8, 50.3, 50.7, 50.2, 49.6, \n",
    "                        50.1, 49.9, 50.8, 50.4, 48.9, 50.6, 50.0, 49.7, 50.2, 49.5, \n",
    "                        50.1, 50.3, 50.4, 50.5, 50.0, 50.7, 49.3, 49.8, 50.2, 50.9, \n",
    "                        50.3, 50.4, 50.0, 49.7, 50.5, 49.9] "
   ]
  },
  {
   "cell_type": "code",
   "execution_count": 2,
   "id": "3a4154be-b051-47c4-a3fb-f0fd066919c6",
   "metadata": {},
   "outputs": [
    {
     "name": "stdout",
     "output_type": "stream",
     "text": [
      "Sample Mean: 50.08888888888889\n",
      "Sample Std Dev: 0.5365379910807955\n",
      "Z-statistic: 0.9940271559503017\n",
      "p-value: 0.3202096468890012\n",
      "Fail to reject H0: No significant evidence that mean ≠ 50\n"
     ]
    }
   ],
   "source": [
    "import numpy as np\n",
    "from scipy.stats import norm\n",
    "\n",
    "# Sample data\n",
    "sample_data = [49.1, 50.2, 51.0, 48.7, 50.5, 49.8, 50.3, 50.7, 50.2, 49.6, \n",
    "               50.1, 49.9, 50.8, 50.4, 48.9, 50.6, 50.0, 49.7, 50.2, 49.5, \n",
    "               50.1, 50.3, 50.4, 50.5, 50.0, 50.7, 49.3, 49.8, 50.2, 50.9, \n",
    "               50.3, 50.4, 50.0, 49.7, 50.5, 49.9]\n",
    "\n",
    "# Hypothesized population mean\n",
    "mu_0 = 50\n",
    "\n",
    "# Sample statistics\n",
    "sample_mean = np.mean(sample_data)\n",
    "sample_std = np.std(sample_data, ddof=1)   # sample standard deviation\n",
    "n = len(sample_data)\n",
    "\n",
    "# Z-statistic\n",
    "z_stat = (sample_mean - mu_0) / (sample_std / np.sqrt(n))\n",
    "\n",
    "# p-value for two-tailed test\n",
    "p_value = 2 * (1 - norm.cdf(abs(z_stat)))\n",
    "\n",
    "# Significance level\n",
    "alpha = 0.05\n",
    "\n",
    "# Print results\n",
    "print(\"Sample Mean:\", sample_mean)\n",
    "print(\"Sample Std Dev:\", sample_std)\n",
    "print(\"Z-statistic:\", z_stat)\n",
    "print(\"p-value:\", p_value)\n",
    "\n",
    "# Decision\n",
    "if p_value < alpha:\n",
    "    print(\"Reject H0: Significant evidence that mean ≠ 50\")\n",
    "else:\n",
    "    print(\"Fail to reject H0: No significant evidence that mean ≠ 50\")\n"
   ]
  },
  {
   "cell_type": "markdown",
   "id": "9eda0053-6f87-4812-9db9-a4ad1ccf941a",
   "metadata": {},
   "source": [
    "## Question 8: Write a Python script to simulate data from a normal distribution and calculate the 95% confidence interval for its mean. Plot the data using Matplotlib. "
   ]
  },
  {
   "cell_type": "code",
   "execution_count": 3,
   "id": "7eec7d9d-cfd6-4517-959d-5699ccd2e714",
   "metadata": {},
   "outputs": [
    {
     "name": "stdout",
     "output_type": "stream",
     "text": [
      "Sample Mean: 49.48076741302953\n",
      "95% Confidence Interval: (48.579765818190495, 50.38176900786857)\n"
     ]
    },
    {
     "data": {
      "image/png": "[encoded data removed]",
      "text/plain": [
       "<Figure size 640x480 with 1 Axes>"
      ]
     },
     "metadata": {},
     "output_type": "display_data"
    }
   ],
   "source": [
    "import numpy as np\n",
    "import matplotlib.pyplot as plt\n",
    "from scipy import stats\n",
    "\n",
    "# Step 1: Simulate normal distribution data\n",
    "np.random.seed(42)  # for reproducibility\n",
    "data = np.random.normal(loc=50, scale=5, size=100)  # mean=50, std=5, n=100\n",
    "\n",
    "# Step 2: Calculate 95% confidence interval for the mean\n",
    "sample_mean = np.mean(data)\n",
    "sample_std = np.std(data, ddof=1)  # sample std\n",
    "n = len(data)\n",
    "\n",
    "# Standard error of the mean\n",
    "sem = sample_std / np.sqrt(n)\n",
    "\n",
    "# Confidence Interval using t-distribution (better for sample data)\n",
    "confidence_level = 0.95\n",
    "ci = stats.t.interval(confidence_level, df=n-1, loc=sample_mean, scale=sem)\n",
    "\n",
    "# Print results\n",
    "print(\"Sample Mean:\", sample_mean)\n",
    "print(\"95% Confidence Interval:\", ci)\n",
    "\n",
    "# Step 3: Plot histogram of the data\n",
    "plt.hist(data, bins=15, edgecolor='black', alpha=0.7, color='skyblue')\n",
    "plt.axvline(sample_mean, color='red', linestyle='dashed', linewidth=2, label=f\"Mean = {sample_mean:.2f}\")\n",
    "plt.axvline(ci[0], color='green', linestyle='dashed', linewidth=2, label=f\"Lower CI = {ci[0]:.2f}\")\n",
    "plt.axvline(ci[1], color='green', linestyle='dashed', linewidth=2, label=f\"Upper CI = {ci[1]:.2f}\")\n",
    "\n",
    "plt.title(\"Normal Distribution with 95% CI for Mean\")\n",
    "plt.xlabel(\"Value\")\n",
    "plt.ylabel(\"Frequency\")\n",
    "plt.legend()\n",
    "plt.show()\n"
   ]
  },
  {
   "cell_type": "markdown",
   "id": "b7fa0169-a364-416a-a537-0de90674c3a1",
   "metadata": {},
   "source": [
    "## Question 9: Write a Python function to calculate the Z-scores from a dataset and visualize the standardized data using a histogram. Explain what the Z-scores represent in terms of standard deviations from the mean. "
   ]
  },
  {
   "cell_type": "markdown",
   "id": "97376864-8661-4b2e-a2a1-51d62a8872ca",
   "metadata": {},
   "source": [
    "What is a Z-score?\n",
    "\n",
    "A Z-score tells you how many standard deviations a data point is away from the mean.\n",
    "\n",
    "Formula:\n",
    "\n",
    " $Z = \\frac{X - \\mu}{\\sigma}$\n",
    "\n",
    "\n",
    "\n",
    "where:\n",
    "\n",
    "\n",
    "X = data point\n",
    "\n",
    "μ = mean of dataset\n",
    "\n",
    "σ = standard deviation\n",
    "\n",
    " Example: If a student scores 85 on a test with mean = 75 and std = 5, then:\n",
    "\n",
    "$$\n",
    "Z = \\frac{85 - 75}{5} = 2\n",
    "$$\n",
    "\n",
    "\n",
    "This means the student scored 2 standard deviations above the mean."
   ]
  },
  {
   "cell_type": "code",
   "execution_count": 4,
   "id": "a84dcc78-2042-41c5-bdf5-28784a194d31",
   "metadata": {},
   "outputs": [
    {
     "name": "stdout",
     "output_type": "stream",
     "text": [
      "First 5 Z-scores: [-0.710046946804694, -0.22592402852876692, 0.2581988897471602, 0.7423218080230874, 1.2264447262990146]\n"
     ]
    },
    {
     "data": {
      "image/png": "[encoded data removed]",
      "text/plain": [
       "<Figure size 640x480 with 1 Axes>"
      ]
     },
     "metadata": {},
     "output_type": "display_data"
    }
   ],
   "source": [
    "import numpy as np\n",
    "import matplotlib.pyplot as plt\n",
    "\n",
    "def calculate_z_scores(data):\n",
    "    \"\"\"\n",
    "    Calculate Z-scores for a dataset and plot histogram of standardized values.\n",
    "    \"\"\"\n",
    "    mean = np.mean(data)\n",
    "    std = np.std(data, ddof=1)  # sample std deviation\n",
    "    \n",
    "    # Calculate Z-scores\n",
    "    z_scores = [(x - mean) / std for x in data]\n",
    "    \n",
    "    # Print first few Z-scores\n",
    "    print(\"First 5 Z-scores:\", z_scores[:5])\n",
    "    \n",
    "    # Plot histogram of standardized data\n",
    "    plt.hist(z_scores, bins=15, color=\"skyblue\", edgecolor=\"black\", alpha=0.7)\n",
    "    plt.axvline(0, color=\"red\", linestyle=\"dashed\", linewidth=2, label=\"Mean (Z=0)\")\n",
    "    plt.title(\"Histogram of Standardized Data (Z-scores)\")\n",
    "    plt.xlabel(\"Z-score\")\n",
    "    plt.ylabel(\"Frequency\")\n",
    "    plt.legend()\n",
    "    plt.show()\n",
    "    \n",
    "    return z_scores\n",
    "\n",
    "# Example dataset\n",
    "data = [49, 50, 51, 52, 53, 47, 48, 50, 51, 49, 52, 50, 53, 54, 48]\n",
    "z_scores = calculate_z_scores(data)\n"
   ]
  },
  {
   "cell_type": "code",
   "execution_count": null,
   "id": "187dccaa-ac86-426d-99f8-8611b6f312bb",
   "metadata": {},
   "outputs": [],
   "source": []
  }
 ],
 "metadata": {
  "kernelspec": {
   "display_name": "Python 3 (ipykernel)",
   "language": "python",
   "name": "python3"
  },
  "language_info": {
   "codemirror_mode": {
    "name": "ipython",
    "version": 3
   },
   "file_extension": ".py",
   "mimetype": "text/x-python",
   "name": "python",
   "nbconvert_exporter": "python",
   "pygments_lexer": "ipython3",
   "version": "3.12.7"
  }
 },
 "nbformat": 4,
 "nbformat_minor": 5
}
