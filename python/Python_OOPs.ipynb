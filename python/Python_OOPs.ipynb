{
 "cells": [
  {
   "cell_type": "markdown",
   "id": "e8b20d78-f4c2-4abd-ada9-bf340c79025d",
   "metadata": {},
   "source": [
    "## Python OOPs"
   ]
  },
  {
   "cell_type": "markdown",
   "id": "3ca63a07-ca97-448f-8a77-61679d884a35",
   "metadata": {},
   "source": [
    "## 1. What is Object-Oriented Programming (OOP)?"
   ]
  },
  {
   "cell_type": "markdown",
   "id": "3aeb0b81-cede-4d30-8d67-ee95f5ce5702",
   "metadata": {},
   "source": [
    "Object-Oriented Programming (OOP) is a programming paradigm based on the concept of \"objects\", which can contain data (attributes or properties) and code (methods or functions).\n",
    "#Class\n",
    "\n",
    "A blueprint for creating objects.\n",
    "\n",
    "Defines properties (variables) and methods (functions).\n",
    "\n",
    "#Object\n",
    "\n",
    "An instance of a class.\n",
    "\n",
    "Represents a real-world entity.\n",
    "\n",
    "#Encapsulation\n",
    "\n",
    "Hides internal details of an object.\n",
    "\n",
    "Protects the object’s state using private variables and methods.\n",
    "\n",
    "#Inheritance\n",
    "\n",
    "A class (child) can inherit properties and methods from another class (parent).\n",
    "\n",
    "Promotes code reuse.\n",
    "\n",
    "#Polymorphism\n",
    "\n",
    "Allows the same method to have different behaviors based on the object.\n",
    "\n",
    "#Abstraction\n",
    "\n",
    "Hides complex implementation and shows only essential features.\n",
    "\n",
    "Typically used via abstract classes or interfaces.\n"
   ]
  },
  {
   "cell_type": "markdown",
   "id": "51a6ecf4-0a1f-4560-ba2c-743eb17b7f99",
   "metadata": {},
   "source": [
    "## 2. What is a class in OOP?"
   ]
  },
  {
   "cell_type": "markdown",
   "id": "93f7f386-fdc5-4b03-8dd5-d42b0f299f64",
   "metadata": {},
   "source": [
    "Class in Object-Oriented Programming (OOP):\n",
    "A class is a blueprint or template for creating objects.\n",
    "\n",
    "It defines the attributes (data) and methods (functions) that the objects created from the class will have.\n",
    "\n",
    "A blueprint for a house – it doesn’t represent a specific house but contains the design and instructions to build houses.\n",
    "Each house built from this blueprint is an object.\n",
    "\n"
   ]
  },
  {
   "cell_type": "markdown",
   "id": "d1110be6-512a-49a4-94f2-8e5ccc507141",
   "metadata": {},
   "source": [
    "## 3. What is an object in OOP?"
   ]
  },
  {
   "cell_type": "markdown",
   "id": "d3f36f1d-062d-434f-b19c-f9016ac53c4d",
   "metadata": {},
   "source": [
    "Object in Object-Oriented Programming (OOP):\n",
    "An object is a specific instance of a class.\n",
    "It contains data (called attributes) and behaviors (called methods) defined by the class. When you create an object from a class, you're building a real-world entity using the class blueprint.\n",
    "\n",
    "If a class is the blueprint for a car,\n",
    "an object is an actual car built from that blueprint."
   ]
  },
  {
   "cell_type": "markdown",
   "id": "1c90cc2d-b021-4727-a06e-d7bafcf3bae4",
   "metadata": {},
   "source": [
    "## 4. What is the difference between abstraction and encapsulation?"
   ]
  },
  {
   "cell_type": "markdown",
   "id": "2c1e27e6-ed36-4cb4-9cc4-226ed6f3c402",
   "metadata": {},
   "source": [
    "Abstraction:\n",
    "Abstraction is the process of hiding complex implementation details and showing only the essential features to the user. It helps reduce complexity by letting the user focus only on what an object does, not how it does it.\n",
    "\n",
    "For example, when you drive a car, you use the steering wheel, pedals, and gear – you don’t need to know how the engine or braking system works internally. That’s abstraction.\n",
    "\n",
    "In Python, abstraction is often implemented using abstract base classes and interfaces, where methods are defined but not implemented until subclassed.\n",
    "\n",
    "Encapsulation:\n",
    "Encapsulation is the practice of wrapping data (variables) and methods into a single unit (class) and restricting direct access to some of the object’s components. It’s like putting important parts of a car (engine, wiring) under the hood so users can't tamper with them directly.\n",
    "\n",
    "In Python, you can achieve encapsulation by using private variables (prefixing them with __), and exposing access only through getter/setter methods."
   ]
  },
  {
   "cell_type": "markdown",
   "id": "5037485a-7a74-4941-86b6-dd8ef9cd66a9",
   "metadata": {},
   "source": [
    "## 5. What are dunder methods in Python?"
   ]
  },
  {
   "cell_type": "markdown",
   "id": "9166e41a-0af5-422b-9add-3c4b19528ac0",
   "metadata": {},
   "source": [
    "Dunder Methods in Python:\n",
    "\n",
    "Dunder methods (short for \"double underscore methods\") are special built-in methods in Python that have double underscores at the beginning and end of their names, like __init__, __str__, __len__, etc.\n",
    "\n",
    "They are also called magic methods.\n",
    "\n"
   ]
  },
  {
   "cell_type": "markdown",
   "id": "9f088fd4-2c8d-4bf9-8ed5-aab3c8c3b9d5",
   "metadata": {},
   "source": [
    "## 6. Explain the concept of inheritance in OOP?"
   ]
  },
  {
   "cell_type": "markdown",
   "id": "c77c6656-299f-4710-bc98-a7f4ee259393",
   "metadata": {},
   "source": [
    "Inheritance in Object-Oriented Programming (OOP):\n",
    "\n",
    "Inheritance is a fundamental concept in OOP that allows a class (child or subclass) to inherit properties and methods from another class (parent or superclass).\n",
    "\n",
    "It promotes code reusability, hierarchy, and extensibility — instead of rewriting the same code in multiple classes, you can write it once in a base class and reuse it."
   ]
  },
  {
   "cell_type": "markdown",
   "id": "0ccc7061-7c68-40ab-8d0e-72935951ebd4",
   "metadata": {},
   "source": [
    "## 7. What is polymorphism in OOP?"
   ]
  },
  {
   "cell_type": "markdown",
   "id": "d797c17a-42b5-4ff3-b195-714a5ac6748b",
   "metadata": {},
   "source": [
    "Polymorphism in Object-Oriented Programming (OOP):\n",
    "\n",
    "Polymorphism means \"many forms\".\n",
    "\n",
    "In OOP, polymorphism allows objects of different classes to be treated as objects of a common base class, and still behave differently based on their actual class.\n",
    "\n",
    " Simple Terms:\n",
    " \n",
    "Polymorphism lets you use the same interface (like a method name) to perform different tasks, depending on the object calling it."
   ]
  },
  {
   "cell_type": "markdown",
   "id": "4df91646-585b-462f-9f7e-af7ed461d786",
   "metadata": {},
   "source": [
    "## 8. How is encapsulation achieved in Python?"
   ]
  },
  {
   "cell_type": "markdown",
   "id": "59268d0c-a2b3-4d36-9a49-802f2a1c8645",
   "metadata": {},
   "source": [
    "Encapsulation achieved in Python:\n",
    "\n",
    "Encapsulation in Python is achieved by:\n",
    "\n",
    "Wrapping data (attributes) and methods inside a class.\n",
    "\n",
    "Restricting direct access to some data using access modifiers like:\n",
    "\n",
    "Public (var)\n",
    "\n",
    "Protected (_var)\n",
    "\n",
    "Private (__var)\n",
    "\n",
    "This helps protect the internal state of an object and enforces controlled access through methods (like getters and setters)."
   ]
  },
  {
   "cell_type": "markdown",
   "id": "f5a67e90-a978-4151-9a79-3dbfe4b8bf9f",
   "metadata": {},
   "source": [
    "## 9. What is a constructor in Python?"
   ]
  },
  {
   "cell_type": "markdown",
   "id": "efe774fc-b379-442a-93fc-5f20e209baf9",
   "metadata": {},
   "source": [
    "Constructor in Python:\n",
    "A constructor in Python is a special method used to initialize objects when they are created from a class. It sets up the object’s initial state (like assigning default values to attributes).\n",
    "\n",
    "In Python, the constructor is always named __init__.\n",
    "\n"
   ]
  },
  {
   "cell_type": "markdown",
   "id": "c233faf9-bf48-40a0-a91b-7f7a76b19434",
   "metadata": {},
   "source": [
    "## 10. What are class and static methods in Python?"
   ]
  },
  {
   "cell_type": "markdown",
   "id": "21bc3afb-39bb-40ba-bda4-93a47cb81d74",
   "metadata": {},
   "source": [
    "class Method (@classmethod)\n",
    "\n",
    "A class method is a method that is bound to the class, not the object. It can access and modify class-level data.\n",
    "\n",
    "It takes cls as the first argument (not self).\n",
    "\n",
    "You define it using the @classmethod decorator.\n",
    "\n",
    "It can be called using either the class name or an instance."
   ]
  },
  {
   "cell_type": "markdown",
   "id": "2b7005ef-4e84-4c51-9fb4-07f0a0c58141",
   "metadata": {},
   "source": [
    "## 11. What is method overloading in Python?"
   ]
  },
  {
   "cell_type": "markdown",
   "id": "769524b6-dc01-4701-9380-d3aa56adc851",
   "metadata": {},
   "source": [
    "Method Overloading in Python:\n",
    "\n",
    "Method overloading is the ability to define multiple methods with the same name but with different numbers or types of parameters.\n",
    "\n",
    "Does Python Support Method Overloading:\n",
    "\n",
    "Python does not support traditional method overloading like Java or C++.\n",
    "In Python, if you define a method with the same name multiple times in a class, only the last one will be used — earlier ones are overwritten.\n",
    "\n",
    "So, how do we simulate method overloading in Python?\n",
    "Python uses default arguments, *args, or **kwargs to handle different numbers of arguments in a single method."
   ]
  },
  {
   "cell_type": "markdown",
   "id": "65eea4b3-556b-4bcc-bfc6-3b2517778c2c",
   "metadata": {},
   "source": [
    "## 12. What is method overriding in OOP?"
   ]
  },
  {
   "cell_type": "markdown",
   "id": "16b0fb38-c1a1-4427-b063-03134baa9ad2",
   "metadata": {},
   "source": [
    "Method Overriding in Object-Oriented Programming (OOP):\n",
    "\n",
    "Method overriding means redefining a method in a child class that already exists in its parent class, using the same name and parameters. This allows the child class to provide a specific implementation of a method that is already defined in the parent.\n",
    "\n",
    "Use Method Overriding:\n",
    "\n",
    "\n",
    "Customized behavior in the child class\n",
    "\n",
    "Polymorphism (i.e., same interface, different behavior)\n",
    "\n",
    "Reusing base class methods while allowing flexibility\n",
    "\n"
   ]
  },
  {
   "cell_type": "markdown",
   "id": "b12c2ddf-df76-4c03-b320-6910ae7262d1",
   "metadata": {},
   "source": [
    "## 13. What is a property decorator in Python?"
   ]
  },
  {
   "cell_type": "markdown",
   "id": "207c51ae-879c-4fd2-8542-c8cf96f2a785",
   "metadata": {},
   "source": [
    " Property Decorator in Python:\n",
    " \n",
    "The @property decorator is a built-in Python feature that allows you to define methods in a class that can be accessed like attributes. It helps you manage attribute access and implement getter, setter, and deleter methods easily, while keeping a clean and intuitive syntax.\n",
    "\n",
    "use @property:\n",
    "\n",
    "To control access to an attribute.\n",
    "\n",
    "To add logic when getting or setting a value.\n",
    "\n",
    "To make your class interface simpler and more Pythonic."
   ]
  },
  {
   "cell_type": "markdown",
   "id": "08e59976-b53b-49c9-8126-9b0c10c28503",
   "metadata": {},
   "source": [
    "## 14. Why is polymorphism important in OOP?"
   ]
  },
  {
   "cell_type": "markdown",
   "id": "e95666b4-ae75-4293-b3b7-b3a90dda43f7",
   "metadata": {},
   "source": [
    "Polymorphism is important in Object-Oriented Programming (OOP) because it enables flexibility, reusability, and maintainability of code by allowing objects of different classes to be treated through a common interface. Here’s why it matters:\n",
    "\n",
    "Simplifies Code and Interfaces:\n",
    "Polymorphism allows you to write functions or methods that can work with objects of different classes without knowing their specific types. This means you can use the same method name or function call to perform different behaviors depending on the object's class.\n",
    "\n",
    "Supports Code Reusability and Extensibility:\n",
    "You can add new classes with their own implementations of methods without changing the existing code. This makes it easier to extend programs without breaking existing functionality.\n",
    "\n",
    "Enables Dynamic Method Binding (Runtime Polymorphism):\n",
    "The program decides at runtime which method to invoke, allowing for more dynamic and flexible behavior.\n",
    "\n",
    "Promotes Loose Coupling:\n",
    "Code that depends on interfaces or base classes rather than concrete implementations is easier to maintain and modify.\n",
    "\n"
   ]
  },
  {
   "cell_type": "markdown",
   "id": "be9a8194-79c8-4860-8ebb-55d05f466701",
   "metadata": {},
   "source": [
    "## 15. What is an abstract class in Python?"
   ]
  },
  {
   "cell_type": "markdown",
   "id": "5e6a94e8-b9ee-45d8-bc5f-1daa2f167d6e",
   "metadata": {},
   "source": [
    "Abstract Class in Python:\n",
    "\n",
    "An abstract class is a class that cannot be instantiated on its own and is designed to be a blueprint for other classes. It can define abstract methods that must be implemented by any subclass.\n",
    "\n",
    "use Abstract Classes:\n",
    "To define a common interface for a group of related classes.\n",
    "\n",
    "To enforce that certain methods must be overridden in subclasses.\n",
    "\n",
    "To provide some common functionality while leaving details to subclasses.\n",
    "\n"
   ]
  },
  {
   "cell_type": "markdown",
   "id": "657052e3-a86c-4ba8-8722-b10a7bd81b64",
   "metadata": {},
   "source": [
    "## 16. What are the advantages of OOP?"
   ]
  },
  {
   "cell_type": "markdown",
   "id": "4782d0fc-cd00-4d06-8067-306c30a46d6c",
   "metadata": {},
   "source": [
    " key advantages of Object-Oriented Programming (OOP):\n",
    "\n",
    "Modularity:\n",
    "Code is organized into objects (classes and instances), making it easier to manage, understand, and debug.\n",
    "\n",
    "Reusability:\n",
    "Classes and objects can be reused across programs through inheritance and composition, reducing code duplication.\n",
    "\n",
    "Scalability:\n",
    "OOP makes it easier to scale programs by extending existing classes and adding new features without rewriting code.\n",
    "\n",
    "Maintainability:\n",
    "Encapsulation helps protect object data, making it easier to maintain and update without affecting other parts of the program.\n",
    "\n",
    "Flexibility through Polymorphism:\n",
    "Allows the same interface to work with different data types, enabling flexible and dynamic code.\n",
    "\n",
    "Real-world Modeling:\n",
    "OOP naturally models real-world entities as objects, making programs easier to conceptualize and design.\n",
    "\n",
    "Improved Productivity:\n",
    "Encourages code reuse and modular design, which speeds up development and testing."
   ]
  },
  {
   "cell_type": "markdown",
   "id": "0415f645-6395-47c1-ad1a-6a6b8a8d12f8",
   "metadata": {},
   "source": [
    "## 17. What is the difference between a class variable and an instance variable?"
   ]
  },
  {
   "cell_type": "markdown",
   "id": "1f74e480-78ad-48ca-aab2-150c85a21c3b",
   "metadata": {},
   "source": [
    "Instance Variable:\n",
    "\n",
    "Belongs to each object (instance) of a class.\n",
    "\n",
    "Each object has its own copy of instance variables.\n",
    "\n",
    "Defined inside methods (usually in __init__) using self.\n",
    "\n",
    "Used to store data unique to each object.\n",
    "\n",
    "Class Variable:\n",
    "\n",
    "Belongs to the class itself, shared among all instances.\n",
    "\n",
    "Only one copy exists, shared by all objects of that class.\n",
    "\n",
    "Defined directly inside the class (outside methods).\n",
    "\n",
    "Used to store data common to all instances."
   ]
  },
  {
   "cell_type": "markdown",
   "id": "d25e65d4-d39c-4ded-a19c-a12860fc6541",
   "metadata": {},
   "source": [
    "## 18. What is multiple inheritance in Python?"
   ]
  },
  {
   "cell_type": "markdown",
   "id": "5824328a-79ef-4f08-8a08-03c5bbbd89b5",
   "metadata": {},
   "source": [
    "Multiple Inheritance in Python:\n",
    "\n",
    "Multiple inheritance means that a class can inherit from more than one parent class. This allows the child class to access attributes and methods from multiple base classes.\n",
    "\n",
    "Python supports multiple inheritance directly.\n",
    "\n",
    "Use:\n",
    "\n",
    "To combine features from multiple classes into one. For example, you might have a Flyer class and a Swimmer class, and you want to create a Duck class that can both fly and swim.\n",
    "\n"
   ]
  },
  {
   "cell_type": "markdown",
   "id": "422cd44b-cde3-40d0-8ae5-a034dfc8383b",
   "metadata": {},
   "source": [
    "## 19. Explain the purpose of ‘’__str__’ and ‘__repr__’ ‘ methods in Python?"
   ]
  },
  {
   "cell_type": "markdown",
   "id": "09f6d9e3-b4a1-4519-b1df-8d0d59dcef1d",
   "metadata": {},
   "source": [
    " __str__ and __repr__ in Python:\n",
    "In Python, __str__ and __repr__ are special (dunder) methods used to define string representations of objects. They help control what gets printed when you display or inspect an object.\n",
    "\n",
    "__str__: User-friendly display\n",
    "Called by str(obj) or print(obj)\n",
    "\n",
    "Should return a readable, nicely formatted string\n",
    "\n",
    "Intended for end-users\n",
    "\n",
    " __repr__: Developer-focused display\n",
    "Called by repr(obj) or when typing the object directly in a shell\n",
    "\n",
    "Should return a valid Python expression, if possible\n",
    "\n",
    "Intended for debugging and development\n"
   ]
  },
  {
   "cell_type": "markdown",
   "id": "dae105cb-9dce-49eb-9b5a-206bab6c9c63",
   "metadata": {},
   "source": [
    "## 20. What is the significance of the ‘super()’ function in Python?"
   ]
  },
  {
   "cell_type": "markdown",
   "id": "bba8da2e-ca0a-43fd-904b-7f411fd0bcd6",
   "metadata": {},
   "source": [
    "significance of super() in Python:\n",
    "\n",
    "The super() function is used to call methods from a parent or superclass without explicitly naming it. It’s especially useful in inheritance, where a subclass wants to extend or customize behavior from the parent class.\n",
    "\n",
    " Purpose of super():\n",
    "Avoid hardcoding the parent class name — more maintainable.\n",
    "\n",
    "Support multiple inheritance cleanly using the MRO (Method Resolution Order).\n",
    "\n",
    "Allow subclasses to call the original implementation of a method from their parent."
   ]
  },
  {
   "cell_type": "markdown",
   "id": "ec95e35c-94aa-4707-b168-67494c33080d",
   "metadata": {},
   "source": [
    "## 21. What is the significance of the __del__ method in Python?"
   ]
  },
  {
   "cell_type": "markdown",
   "id": "3f72caef-0dc9-4f8a-916f-a661fd015a53",
   "metadata": {},
   "source": [
    "significance of the __del__() method in Python:\n",
    "\n",
    "The __del__() method is a special method in Python called a destructor. It is automatically invoked when an object is about to be destroyed — typically when there are no more references to it.\n",
    "\n",
    "Purpose of __del__():\n",
    "Used for cleanup actions before the object is deleted, like:\n",
    "\n",
    "Closing files\n",
    "\n",
    "Releasing network or database connections\n",
    "\n",
    "Deallocating resources"
   ]
  },
  {
   "cell_type": "markdown",
   "id": "945aa93e-25c8-4faf-a845-9829db10265e",
   "metadata": {},
   "source": [
    "## 22 What is the difference between @staticmethod and @classmethod in Python?"
   ]
  },
  {
   "cell_type": "markdown",
   "id": "40c3c36a-79a5-474e-80b8-fc04dda60746",
   "metadata": {},
   "source": [
    "Difference Between @staticmethod and @classmethod in Python\n",
    "Both are decorators used to define methods inside a class that don't behave like regular instance methods. Here's how they differ:\n",
    "\n",
    " @staticmethod:\n",
    " \n",
    "Does not take self or cls as the first argument.\n",
    "\n",
    "Cannot access or modify class or instance data.\n",
    "\n",
    "Used for utility/helper functions that logically belong to the class but don’t need access to class or instance.\n",
    "\n",
    "@classmethod:\n",
    "\n",
    "Takes cls as the first argument (refers to the class).\n",
    "\n",
    "Can access or modify class-level attributes.\n",
    "\n",
    "Often used for factory methods — methods that return instances of the class."
   ]
  },
  {
   "cell_type": "markdown",
   "id": "13b9f627-8a0a-4fcf-87a2-eecb3aaecdee",
   "metadata": {},
   "source": [
    "## 23. How does polymorphism work in Python with inheritance?"
   ]
  },
  {
   "cell_type": "markdown",
   "id": "df13b1d4-5ab7-4553-bfd2-51b3c46ea3d9",
   "metadata": {},
   "source": [
    "Polymorphism Works in Python with Inheritance:\n",
    "\n",
    "Polymorphism means \"many forms\" — it allows objects of different classes to be treated through a common interface. In Python, polymorphism is often achieved through inheritance by overriding methods in child classes.\n",
    "\n",
    " Key Idea:\n",
    "If a base class defines a method, and subclasses override it with their own implementation, Python can call the correct method based on the object's actual class, not the reference type.\n",
    "\n",
    "Benefits:\n",
    "Extensibility: You can add new subclasses without changing existing code.\n",
    "\n",
    "Code simplicity: You don’t need complex if-else or type() checks.\n",
    "\n",
    "Reusability: Functions and loops can work with any class implementing the same interface.\n",
    "\n"
   ]
  },
  {
   "cell_type": "markdown",
   "id": "14f0d746-b5ae-4a49-83d7-a4ac0318b2b9",
   "metadata": {},
   "source": [
    "## 24. What is method chaining in Python OOP?"
   ]
  },
  {
   "cell_type": "markdown",
   "id": "0da865e5-49bb-4dfb-bc58-22520b8279bc",
   "metadata": {},
   "source": [
    "Method Chaining in Python (OOP):\n",
    "\n",
    "Method chaining is a technique where multiple methods are called sequentially on the same object in a single line — each method call returns the object itself (self), allowing the next method to be called.\n",
    "\n",
    "Use:\n",
    "\n",
    "Makes code more compact, readable, and fluent.\n",
    "\n",
    "Common in builder patterns, data manipulation, and fluent APIs.\n",
    "\n",
    "Best Practices:\n",
    "Only use method chaining when methods are side-effect free or clearly ordered.\n",
    "Always return self in methods you want to chain."
   ]
  },
  {
   "cell_type": "markdown",
   "id": "6cb41e4a-73d1-4628-9c3f-83e3a1a0ec17",
   "metadata": {},
   "source": [
    "## 25. What is the purpose of the __call__ method in Python?"
   ]
  },
  {
   "cell_type": "markdown",
   "id": "269c6a6d-cd80-4d66-ba99-858295cce021",
   "metadata": {},
   "source": [
    "__call__():\n",
    "\n",
    "In Python, everything is an object — even functions. The __call__() method allows your custom class instances to be \"called\" like a regular function.\n",
    "\n",
    "Purpose:\n",
    "\n",
    "It makes your object behave like a function.\n",
    "\n",
    "Useful for creating callable objects with internal state or custom logic."
   ]
  },
  {
   "cell_type": "markdown",
   "id": "f5d55b47-5ded-4ec6-becd-432265feb427",
   "metadata": {},
   "source": [
    "## Practical Questions"
   ]
  },
  {
   "cell_type": "markdown",
   "id": "19c84cf9-9efc-42ee-b449-01425a561889",
   "metadata": {},
   "source": [
    "## 1. Create a parent class Animal with a method speak() that prints a generic message. Create a child class Dog that overrides the speak() method to print \"Bark!\"."
   ]
  },
  {
   "cell_type": "code",
   "execution_count": 4,
   "id": "92b4199a-324d-49b3-823d-b420c5ad8abf",
   "metadata": {},
   "outputs": [
    {
     "name": "stdout",
     "output_type": "stream",
     "text": [
      "The animal makes a sound\n",
      "Bark!\n"
     ]
    }
   ],
   "source": [
    "# Parent class\n",
    "class Animal:\n",
    "    def speak(self):\n",
    "        print(\"The animal makes a sound\")\n",
    "\n",
    "\n",
    "class Dog(Animal):\n",
    "    def speak(self):\n",
    "        print(\"Bark!\")\n",
    "\n",
    "# Example usage\n",
    "a = Animal()\n",
    "a.speak()   \n",
    "\n",
    "d = Dog()\n",
    "d.speak()   \n"
   ]
  },
  {
   "cell_type": "markdown",
   "id": "67926644-97a1-442b-9006-45c2b4cfc69e",
   "metadata": {},
   "source": [
    "## 2. Write a program to create an abstract class Shape with a method area(). Derive classes Circle and Rectangle from it and implement the area() method in both."
   ]
  },
  {
   "cell_type": "code",
   "execution_count": 5,
   "id": "52747577-a28c-4b77-9039-8186baea7ff4",
   "metadata": {},
   "outputs": [
    {
     "name": "stdout",
     "output_type": "stream",
     "text": [
      "Area of Circle: 78.54\n",
      "Area of Rectangle: 24\n"
     ]
    }
   ],
   "source": [
    "from abc import ABC, abstractmethod\n",
    "import math\n",
    "\n",
    "# Abstract base class\n",
    "class Shape(ABC):\n",
    "\n",
    "    @abstractmethod\n",
    "    def area(self):\n",
    "        pass  \n",
    "\n",
    "# Derived class Circle\n",
    "class Circle(Shape):\n",
    "    def __init__(self, radius):\n",
    "        self.radius = radius\n",
    "\n",
    "    def area(self):\n",
    "        return math.pi * self.radius ** 2\n",
    "\n",
    "\n",
    "class Rectangle(Shape):\n",
    "    def __init__(self, length, width):\n",
    "        self.length = length\n",
    "        self.width = width\n",
    "\n",
    "    def area(self):\n",
    "        return self.length * self.width\n",
    "\n",
    "# Example usage\n",
    "circle = Circle(5)\n",
    "rectangle = Rectangle(4, 6)\n",
    "\n",
    "print(f\"Area of Circle: {circle.area():.2f}\")      \n",
    "print(f\"Area of Rectangle: {rectangle.area()}\")   \n"
   ]
  },
  {
   "cell_type": "markdown",
   "id": "d8c95a2e-8d69-4676-b2ef-678b160ddf95",
   "metadata": {},
   "source": [
    "## 3. Implement a multi-level inheritance scenario where a class Vehicle has an attribute type. Derive a class Car and further derive a class ElectricCar that adds a battery attribute."
   ]
  },
  {
   "cell_type": "code",
   "execution_count": 6,
   "id": "df8fd7b6-f5b4-428e-90e6-7b66961118d3",
   "metadata": {},
   "outputs": [
    {
     "name": "stdout",
     "output_type": "stream",
     "text": [
      "Vehicle type: Electric\n",
      "Car brand: Tesla\n",
      "Battery capacity: 100 kWh\n"
     ]
    }
   ],
   "source": [
    "# Base class\n",
    "class Vehicle:\n",
    "    def __init__(self, vehicle_type):\n",
    "        self.type = vehicle_type\n",
    "\n",
    "    def show_type(self):\n",
    "        print(f\"Vehicle type: {self.type}\")\n",
    "\n",
    "\n",
    "class Car(Vehicle):\n",
    "    def __init__(self, vehicle_type, brand):\n",
    "        super().__init__(vehicle_type)  \n",
    "        self.brand = brand\n",
    "\n",
    "    def show_brand(self):\n",
    "        print(f\"Car brand: {self.brand}\")\n",
    "\n",
    "\n",
    "class ElectricCar(Car):\n",
    "    def __init__(self, vehicle_type, brand, battery_capacity):\n",
    "        super().__init__(vehicle_type, brand) \n",
    "        self.battery = battery_capacity  \n",
    "\n",
    "    def show_battery(self):\n",
    "        print(f\"Battery capacity: {self.battery} kWh\")\n",
    "\n",
    "# Example usage\n",
    "ecar = ElectricCar(\"Electric\", \"Tesla\", 100)\n",
    "ecar.show_type()      \n",
    "ecar.show_brand()     \n",
    "ecar.show_battery()   \n"
   ]
  },
  {
   "cell_type": "markdown",
   "id": "84532693-7115-468d-ab95-b7b0edb3104f",
   "metadata": {},
   "source": [
    "## 4. Demonstrate polymorphism by creating a base class Bird with a method fly(). Create two derived classes Sparrow and Penguin that override the fly() method.\n"
   ]
  },
  {
   "cell_type": "code",
   "execution_count": 7,
   "id": "a8f35134-835d-4bef-b0c6-4d390d277c0b",
   "metadata": {},
   "outputs": [
    {
     "name": "stdout",
     "output_type": "stream",
     "text": [
      "Sparrow can fly high\n",
      "Penguins cannot fly\n"
     ]
    }
   ],
   "source": [
    "# Base class\n",
    "class Bird:\n",
    "    def fly(self):\n",
    "        print(\"Some birds can fly\")\n",
    "\n",
    "\n",
    "class Sparrow(Bird):\n",
    "    def fly(self):\n",
    "        print(\"Sparrow can fly high\")\n",
    "\n",
    "\n",
    "class Penguin(Bird):\n",
    "    def fly(self):\n",
    "        print(\"Penguins cannot fly\")\n",
    "\n",
    "\n",
    "def make_bird_fly(bird):\n",
    "    bird.fly()\n",
    "\n",
    "# Create objects\n",
    "sparrow = Sparrow()\n",
    "penguin = Penguin()\n",
    "\n",
    "make_bird_fly(sparrow) \n",
    "make_bird_fly(penguin)  \n"
   ]
  },
  {
   "cell_type": "markdown",
   "id": "d087fe4a-9645-4e26-91f2-d309a920f1b8",
   "metadata": {},
   "source": [
    "## 5. Write a program to demonstrate encapsulation by creating a class BankAccount with private attributes balance and methods to deposit, withdraw, and check balance"
   ]
  },
  {
   "cell_type": "code",
   "execution_count": 11,
   "id": "9da80667-1051-4da7-86ac-ccd9f0dcba2b",
   "metadata": {},
   "outputs": [
    {
     "name": "stdout",
     "output_type": "stream",
     "text": [
      "Deposited: 500\n",
      "Withdrew: 200\n",
      "Current balance: 1300\n"
     ]
    }
   ],
   "source": [
    "class BankAccount:\n",
    "    def __init__(self, initial_balance=0):\n",
    "        self.__balance = initial_balance  # Private attribute\n",
    "\n",
    "    def deposit(self, amount):\n",
    "        if amount > 0:\n",
    "            self.__balance += amount\n",
    "            print(f\"Deposited: {amount}\")\n",
    "        else:\n",
    "            print(\"Deposit amount must be positive\")\n",
    "\n",
    "    def withdraw(self, amount):\n",
    "        if amount > 0:\n",
    "            if amount <= self.__balance:\n",
    "                self.__balance -= amount\n",
    "                print(f\"Withdrew: {amount}\")\n",
    "            else:\n",
    "                print(\"Insufficient balance\")\n",
    "        else:\n",
    "            print(\"Withdrawal amount must be positive\")\n",
    "\n",
    "    def check_balance(self):\n",
    "        print(f\"Current balance: {self.__balance}\")\n",
    "\n",
    "# Example usage\n",
    "account = BankAccount(1000)\n",
    "account.deposit(500)       \n",
    "account.withdraw(200)   \n",
    "account.check_balance()   \n",
    "\n",
    "\n",
    "#print(account.__balance)  # AttributeError\n"
   ]
  },
  {
   "cell_type": "markdown",
   "id": "25598100-8663-4cc5-b68d-0780e2b543e5",
   "metadata": {},
   "source": [
    "## 6. Demonstrate runtime polymorphism using a method play() in a base class Instrument. Derive classes Guitar and Piano that implement their own version of play()."
   ]
  },
  {
   "cell_type": "code",
   "execution_count": 12,
   "id": "1eb12cda-2336-49e7-adb7-d1cab87a0d96",
   "metadata": {},
   "outputs": [
    {
     "name": "stdout",
     "output_type": "stream",
     "text": [
      "Playing guitar\n",
      "Playing piano\n"
     ]
    }
   ],
   "source": [
    "# Base class\n",
    "class Instrument:\n",
    "    def play(self):\n",
    "        print(\"Playing instrument\")\n",
    "\n",
    "# Derived class Guitar\n",
    "class Guitar(Instrument):\n",
    "    def play(self):\n",
    "        print(\"Playing guitar\")\n",
    "\n",
    "# Derived class Piano\n",
    "class Piano(Instrument):\n",
    "    def play(self):\n",
    "        print(\"Playing piano\")\n",
    "\n",
    "# Function demonstrating runtime polymorphism\n",
    "def perform(instrument):\n",
    "    instrument.play()\n",
    "\n",
    "# Create objects\n",
    "guitar = Guitar()\n",
    "piano = Piano()\n",
    "\n",
    "perform(guitar) \n",
    "perform(piano)   \n"
   ]
  },
  {
   "cell_type": "markdown",
   "id": "643e60a5-4122-4a77-9ddb-af7a87726010",
   "metadata": {},
   "source": [
    "## 7. Create a class MathOperations with a class method add_numbers() to add two numbers and a static method subtract_numbers() to subtract two numbers."
   ]
  },
  {
   "cell_type": "code",
   "execution_count": 13,
   "id": "8752896c-8809-42eb-8b84-ada249bcee02",
   "metadata": {},
   "outputs": [
    {
     "name": "stdout",
     "output_type": "stream",
     "text": [
      "15\n",
      "5\n",
      "28\n",
      "12\n"
     ]
    }
   ],
   "source": [
    "class MathOperations:\n",
    "    @classmethod\n",
    "    def add_numbers(cls, a, b):\n",
    "        return a + b\n",
    "\n",
    "    @staticmethod\n",
    "    def subtract_numbers(a, b):\n",
    "        return a - b\n",
    "\n",
    "# Example usage\n",
    "print(MathOperations.add_numbers(10, 5))      \n",
    "print(MathOperations.subtract_numbers(10, 5)) \n",
    "\n",
    "# You can also call these methods on an instance\n",
    "math_ops = MathOperations()\n",
    "print(math_ops.add_numbers(20, 8))             \n",
    "print(math_ops.subtract_numbers(20, 8))        \n"
   ]
  },
  {
   "cell_type": "markdown",
   "id": "fe4b1d83-22d8-42e1-aa66-4fb52c776fae",
   "metadata": {},
   "source": [
    "## 8. Implement a class Person with a class method to count the total number of persons created."
   ]
  },
  {
   "cell_type": "code",
   "execution_count": 14,
   "id": "82b9cbe0-2673-4aa8-86aa-cea5bc14b695",
   "metadata": {},
   "outputs": [
    {
     "name": "stdout",
     "output_type": "stream",
     "text": [
      "3\n"
     ]
    }
   ],
   "source": [
    "class Person:\n",
    "    count = 0  \n",
    "\n",
    "    def __init__(self, name):\n",
    "        self.name = name\n",
    "        Person.count += 1  \n",
    "\n",
    "    @classmethod\n",
    "    def get_person_count(cls):\n",
    "        return cls.count\n",
    "\n",
    "# Example usage\n",
    "p1 = Person(\"Sanju\")\n",
    "p2 = Person(\"Shiv\")\n",
    "p3 = Person(\"Hemant\")\n",
    "\n",
    "print(Person.get_person_count())  \n"
   ]
  },
  {
   "cell_type": "markdown",
   "id": "eb00dd96-5b7c-4e75-99ed-55cdbcc86c3b",
   "metadata": {},
   "source": [
    "## 9. Write a class Fraction with attributes numerator and denominator. Override the str method to display the fraction as \"numerator/denominator\"."
   ]
  },
  {
   "cell_type": "code",
   "execution_count": 16,
   "id": "1f9ed3f5-1be2-4a89-b746-876ea664dcdf",
   "metadata": {},
   "outputs": [
    {
     "name": "stdout",
     "output_type": "stream",
     "text": [
      "3/4\n"
     ]
    }
   ],
   "source": [
    "class Fraction:\n",
    "    def __init__(self, numerator, denominator):\n",
    "        self.numerator = numerator\n",
    "        self.denominator = denominator\n",
    "\n",
    "    def __str__(self):\n",
    "        return f\"{self.numerator}/{self.denominator}\"\n",
    "\n",
    "# Example usage\n",
    "frac = Fraction(3, 4)\n",
    "print(frac)  \n"
   ]
  },
  {
   "cell_type": "markdown",
   "id": "b834f9a9-32f8-4318-b6ec-e70b551cd760",
   "metadata": {},
   "source": [
    "## 10. Demonstrate operator overloading by creating a class Vector and overriding the add method to add two vectors"
   ]
  },
  {
   "cell_type": "code",
   "execution_count": 17,
   "id": "f7a61e23-b808-498d-9119-38b6c2a7c120",
   "metadata": {},
   "outputs": [
    {
     "name": "stdout",
     "output_type": "stream",
     "text": [
      "Vector(6, 8)\n"
     ]
    }
   ],
   "source": [
    "class Vector:\n",
    "    def __init__(self, x, y):\n",
    "        self.x = x\n",
    "        self.y = y\n",
    "\n",
    "    def __add__(self, other):\n",
    "        if isinstance(other, Vector):\n",
    "            return Vector(self.x + other.x, self.y + other.y)\n",
    "        else:\n",
    "            return NotImplemented\n",
    "\n",
    "    def __str__(self):\n",
    "        return f\"Vector({self.x}, {self.y})\"\n",
    "\n",
    "# Example usage\n",
    "v1 = Vector(2, 3)\n",
    "v2 = Vector(4, 5)\n",
    "v3 = v1 + v2  \n",
    "\n",
    "print(v3)  \n"
   ]
  },
  {
   "cell_type": "markdown",
   "id": "b4234604-77ee-495b-aa05-139bbbaa36c6",
   "metadata": {},
   "source": [
    "## 11. Create a class Person with attributes name and age. Add a method greet() that prints \"Hello, my name is {name} and I am {age} years old.\""
   ]
  },
  {
   "cell_type": "code",
   "execution_count": 18,
   "id": "b65c4349-8d3b-4cfc-a2be-5bc35c857121",
   "metadata": {},
   "outputs": [
    {
     "name": "stdout",
     "output_type": "stream",
     "text": [
      "Hello, my name is Sanju and I am 22 years old.\n"
     ]
    }
   ],
   "source": [
    "class Person:\n",
    "    def __init__(self, name, age):\n",
    "        self.name = name\n",
    "        self.age = age\n",
    "\n",
    "    def greet(self):\n",
    "        print(f\"Hello, my name is {self.name} and I am {self.age} years old.\")\n",
    "\n",
    "# Example usage\n",
    "p = Person(\"Sanju\", 22)\n",
    "p.greet()\n"
   ]
  },
  {
   "cell_type": "markdown",
   "id": "4f9e1b38-354c-42b0-9bc9-cf0e6a30265c",
   "metadata": {},
   "source": [
    "## 12. Implement a class Student with attributes name and grades. Create a method average_grade() to compute the average of the grades"
   ]
  },
  {
   "cell_type": "code",
   "execution_count": 19,
   "id": "3a732473-b10c-49c7-912e-9a37fa945425",
   "metadata": {},
   "outputs": [
    {
     "name": "stdout",
     "output_type": "stream",
     "text": [
      "bittu's average grade is 86.25\n"
     ]
    }
   ],
   "source": [
    "class Student:\n",
    "    def __init__(self, name, grades):\n",
    "        self.name = name\n",
    "        self.grades = grades  # Expecting a list of numbers\n",
    "\n",
    "    def average_grade(self):\n",
    "        if not self.grades:\n",
    "            return 0  # Avoid division by zero if no grades\n",
    "        return sum(self.grades) / len(self.grades)\n",
    "\n",
    "# Example usage\n",
    "student = Student(\"bittu\", [85, 90, 78, 92])\n",
    "print(f\"{student.name}'s average grade is {student.average_grade():.2f}\")\n",
    "\n"
   ]
  },
  {
   "cell_type": "markdown",
   "id": "22b8b0e1-4abb-4c18-98bc-5c7b9ca3c71f",
   "metadata": {},
   "source": [
    "## 13. Create a class Rectangle with methods set_dimensions() to set the dimensions and area() to calculate the area."
   ]
  },
  {
   "cell_type": "code",
   "execution_count": 20,
   "id": "e7c3be1b-daf4-4e7a-bfcc-98fb7f717c6e",
   "metadata": {},
   "outputs": [
    {
     "name": "stdout",
     "output_type": "stream",
     "text": [
      "Area of rectangle: 15\n"
     ]
    }
   ],
   "source": [
    "class Rectangle:\n",
    "    def __init__(self):\n",
    "        self.length = 0\n",
    "        self.width = 0\n",
    "\n",
    "    def set_dimensions(self, length, width):\n",
    "        self.length = length\n",
    "        self.width = width\n",
    "\n",
    "    def area(self):\n",
    "        return self.length * self.width\n",
    "\n",
    "# Example usage\n",
    "rect = Rectangle()\n",
    "rect.set_dimensions(5, 3)\n",
    "print(f\"Area of rectangle: {rect.area()}\")  \n"
   ]
  },
  {
   "cell_type": "markdown",
   "id": "e6c5cca2-85dc-4797-90f4-392337b7cee7",
   "metadata": {},
   "source": [
    "## 14. Create a class Employee with a method calculate_salary() that computes the salary based on hours worked and hourly rate. Create a derived class Manager that adds a bonus to the salary."
   ]
  },
  {
   "cell_type": "code",
   "execution_count": 21,
   "id": "85dfce1f-0354-4e8d-bc4c-2e4dfbdb4a28",
   "metadata": {},
   "outputs": [
    {
     "name": "stdout",
     "output_type": "stream",
     "text": [
      "Sanjay's salary: $800\n",
      "Shivam's salary: $1700\n"
     ]
    }
   ],
   "source": [
    "class Employee:\n",
    "    def __init__(self, name, hours_worked, hourly_rate):\n",
    "        self.name = name\n",
    "        self.hours_worked = hours_worked\n",
    "        self.hourly_rate = hourly_rate\n",
    "\n",
    "    def calculate_salary(self):\n",
    "        return self.hours_worked * self.hourly_rate\n",
    "\n",
    "class Manager(Employee):\n",
    "    def __init__(self, name, hours_worked, hourly_rate, bonus):\n",
    "        super().__init__(name, hours_worked, hourly_rate)\n",
    "        self.bonus = bonus\n",
    "\n",
    "    def calculate_salary(self):\n",
    "        base_salary = super().calculate_salary()\n",
    "        return base_salary + self.bonus\n",
    "\n",
    "# Example usage\n",
    "emp = Employee(\"Sanjay\", 40, 20)\n",
    "mgr = Manager(\"Shivam\", 40, 30, 500)\n",
    "\n",
    "print(f\"{emp.name}'s salary: ${emp.calculate_salary()}\")  \n",
    "print(f\"{mgr.name}'s salary: ${mgr.calculate_salary()}\")  \n"
   ]
  },
  {
   "cell_type": "markdown",
   "id": "405f49fb-190a-455b-a0e5-5c07adc76dac",
   "metadata": {},
   "source": [
    "## 15. Create a class Product with attributes name, price, and quantity. Implement a method total_price() that calculates the total price of the product."
   ]
  },
  {
   "cell_type": "code",
   "execution_count": 22,
   "id": "9fa55a7a-c713-410c-98aa-f9a7bff696b2",
   "metadata": {},
   "outputs": [
    {
     "name": "stdout",
     "output_type": "stream",
     "text": [
      "Total price for 3 Laptops: $3600\n"
     ]
    }
   ],
   "source": [
    "class Product:\n",
    "    def __init__(self, name, price, quantity):\n",
    "        self.name = name\n",
    "        self.price = price\n",
    "        self.quantity = quantity\n",
    "\n",
    "    def total_price(self):\n",
    "        return self.price * self.quantity\n",
    "\n",
    "# Example usage\n",
    "product = Product(\"Laptop\", 1200, 3)\n",
    "print(f\"Total price for {product.quantity} {product.name}s: ${product.total_price()}\")\n",
    "\n"
   ]
  },
  {
   "cell_type": "markdown",
   "id": "1ba16081-c11c-4fb4-be56-fc02a42be9fe",
   "metadata": {},
   "source": [
    "## 16. Create a class Animal with an abstract method sound(). Create two derived classes Cow and Sheep that implement the sound() method."
   ]
  },
  {
   "cell_type": "code",
   "execution_count": 23,
   "id": "e40451ef-e8cd-466c-852f-dfd1b94d6cb3",
   "metadata": {},
   "outputs": [
    {
     "name": "stdout",
     "output_type": "stream",
     "text": [
      "Moo\n",
      "Baa\n"
     ]
    }
   ],
   "source": [
    "from abc import ABC, abstractmethod\n",
    "\n",
    "# Abstract base class\n",
    "class Animal(ABC):\n",
    "    @abstractmethod\n",
    "    def sound(self):\n",
    "        pass\n",
    "\n",
    "# Derived class Cow\n",
    "class Cow(Animal):\n",
    "    def sound(self):\n",
    "        print(\"Moo\")\n",
    "\n",
    "# Derived class Sheep\n",
    "class Sheep(Animal):\n",
    "    def sound(self):\n",
    "        print(\"Baa\")\n",
    "\n",
    "# Example usage\n",
    "cow = Cow()\n",
    "sheep = Sheep()\n",
    "\n",
    "cow.sound()   \n",
    "sheep.sound() \n"
   ]
  },
  {
   "cell_type": "markdown",
   "id": "af50eaeb-c923-45e3-9f9c-29c5d9333d42",
   "metadata": {},
   "source": [
    "## 17. Create a class Book with attributes title, author, and year_published. Add a method get_book_info() that returns a formatted string with the book's details."
   ]
  },
  {
   "cell_type": "code",
   "execution_count": 24,
   "id": "da6508b1-bc4e-4bce-949a-691ecbd7a9a3",
   "metadata": {},
   "outputs": [
    {
     "name": "stdout",
     "output_type": "stream",
     "text": [
      "'1984' by George Orwell, published in 1949\n"
     ]
    }
   ],
   "source": [
    "class Book:\n",
    "    def __init__(self, title, author, year_published):\n",
    "        self.title = title\n",
    "        self.author = author\n",
    "        self.year_published = year_published\n",
    "\n",
    "    def get_book_info(self):\n",
    "        return f\"'{self.title}' by {self.author}, published in {self.year_published}\"\n",
    "\n",
    "# Example usage\n",
    "book = Book(\"1984\", \"George Orwell\", 1949)\n",
    "print(book.get_book_info())  \n",
    "\n"
   ]
  },
  {
   "cell_type": "markdown",
   "id": "cc82bb7e-f418-492a-bfaf-77c2ea5394a6",
   "metadata": {},
   "source": [
    "## 18. Create a class House with attributes address and price. Create a derived class Mansion that adds an attribute number_of_rooms."
   ]
  },
  {
   "cell_type": "code",
   "execution_count": 25,
   "id": "45edbc93-b2e1-44f3-addd-cab3a9a75a90",
   "metadata": {},
   "outputs": [
    {
     "name": "stdout",
     "output_type": "stream",
     "text": [
      "Address: 123 Maple St\n",
      "Price: $250000\n",
      "\n",
      "Address: 456 Oak Ave\n",
      "Price: $1500000\n",
      "Number of rooms: 10\n"
     ]
    }
   ],
   "source": [
    "class House:\n",
    "    def __init__(self, address, price):\n",
    "        self.address = address\n",
    "        self.price = price\n",
    "\n",
    "    def show_details(self):\n",
    "        print(f\"Address: {self.address}\")\n",
    "        print(f\"Price: ${self.price}\")\n",
    "\n",
    "class Mansion(House):\n",
    "    def __init__(self, address, price, number_of_rooms):\n",
    "        super().__init__(address, price)\n",
    "        self.number_of_rooms = number_of_rooms\n",
    "\n",
    "    def show_details(self):\n",
    "        super().show_details()\n",
    "        print(f\"Number of rooms: {self.number_of_rooms}\")\n",
    "\n",
    "# Example usage\n",
    "house = House(\"123 Maple St\", 250000)\n",
    "mansion = Mansion(\"456 Oak Ave\", 1500000, 10)\n",
    "\n",
    "house.show_details()\n",
    "\n",
    "\n",
    "print() \n",
    "\n",
    "mansion.show_details()\n",
    "\n"
   ]
  },
  {
   "cell_type": "code",
   "execution_count": null,
   "id": "0425f241-e5a8-4ad3-a104-97f72f961ace",
   "metadata": {},
   "outputs": [],
   "source": []
  }
 ],
 "metadata": {
  "kernelspec": {
   "display_name": "Python 3 (ipykernel)",
   "language": "python",
   "name": "python3"
  },
  "language_info": {
   "codemirror_mode": {
    "name": "ipython",
    "version": 3
   },
   "file_extension": ".py",
   "mimetype": "text/x-python",
   "name": "python",
   "nbconvert_exporter": "python",
   "pygments_lexer": "ipython3",
   "version": "3.12.7"
  }
 },
 "nbformat": 4,
 "nbformat_minor": 5
}
