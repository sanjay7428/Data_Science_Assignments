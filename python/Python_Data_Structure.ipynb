{
 "cells": [
  {
   "cell_type": "markdown",
   "id": "19d40855-f9ee-4da6-804a-825e5c4e6e55",
   "metadata": {},
   "source": [
    " ## Python - Data Structure"
   ]
  },
  {
   "cell_type": "markdown",
   "id": "16e7af2d-79da-49cc-9a6c-d2df5f90b1d5",
   "metadata": {},
   "source": [
    "## 1. What are data structures, and why are they important"
   ]
  },
  {
   "cell_type": "markdown",
   "id": "f0886782-56ca-404b-8813-3d9648aaa707",
   "metadata": {},
   "source": [
    "Ans:  Data Structures:\n",
    "Data structures are special formats used to organize, store, and manage data efficiently so that it can be used effectively in a computer program.\n",
    "\n",
    "In simple terms, think of a data structure as a container that helps you store and organize data in a particular way depending on what you want to do with it.\n",
    "\n",
    "Data Structures Importants:\n",
    "Efficient Data Access\n",
    "\n",
    "Quickly find or update data (e.g., searching for a name in a contact list).\n",
    "\n",
    "Example: Using a dictionary (hash table) to find a value by key.\n",
    "\n",
    "Better Performance\n",
    "\n",
    "Choosing the right data structure can reduce time and memory usage, making programs faster and more efficient.\n",
    "\n",
    "Example: A binary search tree can search faster than a regular list.\n",
    "\n",
    "Organized Storage\n",
    "\n",
    "Help in logically organizing data (like in stacks, queues, or graphs).\n",
    "\n",
    "Example: A queue helps manage tasks in the order they come (like printing documents).\n",
    "\n",
    "Real-World Problem Solving\n",
    "\n",
    "Many real-world problems (e.g., routing, recommendation systems) rely on proper data structures like graphs, heaps, etc.\n",
    "\n",
    "Foundation for Algorithms\n",
    "\n",
    "Most algorithms depend on specific data structures (e.g., sorting algorithms often use arrays or linked lists)."
   ]
  },
  {
   "cell_type": "markdown",
   "id": "8208453d-1b77-46dd-beac-083deb3b2d10",
   "metadata": {},
   "source": [
    "## 2. Explain the difference between mutable and immutable data types with examples"
   ]
  },
  {
   "cell_type": "markdown",
   "id": "2fcb165c-1bce-4ee6-bc12-1b85802a4aee",
   "metadata": {},
   "source": [
    "Ans:\n",
    "Mutable Data Types\n",
    "These can be changed after creation.\n",
    "\n",
    "You can add, remove, or modify elements without changing the object’s identity (memory address).\n",
    "\n",
    "🔹 Examples of Mutable Data Types:\n",
    "List\n",
    "\n",
    "Dictionary\n",
    "\n",
    "Set\n",
    "\n",
    "Immutable Data Types\n",
    "These cannot be changed after creation.\n",
    "\n",
    "Any modification results in the creation of a new object.\n",
    "\n",
    "🔹 Examples of Immutable Data Types:\n",
    "Integer\n",
    "\n",
    "Float\n",
    "\n",
    "String\n",
    "\n",
    "Tuple\n",
    "\n",
    "Boolean"
   ]
  },
  {
   "cell_type": "markdown",
   "id": "75d41311-b576-4a39-a441-e6ad011aa0e5",
   "metadata": {},
   "source": [
    "## 3. What are the main differences between lists and tuples in Python3"
   ]
  },
  {
   "cell_type": "markdown",
   "id": "015b35fd-caee-474a-a7e8-08cb63fe6bc4",
   "metadata": {},
   "source": [
    "Ans: \n",
    "1. Mutability\n",
    "The main difference between lists and tuples is that lists are mutable and tuples are immutable.\n",
    "\n",
    "A list can be changed after it's created. You can add, remove, or modify items in a list.\n",
    "\n",
    "A tuple cannot be changed once it's created. Any attempt to modify it will raise an error.\n",
    "2. Performance\n",
    "Because tuples are immutable, they are generally faster and use less memory than lists. So if you don’t need to change the data, using a tuple can make your code run a little faster.\n",
    "\n",
    " 3. Use Cases\n",
    "Use a list when:\n",
    "\n",
    "You need to change the data later (e.g., adding/removing items).\n",
    "\n",
    "You’re working with dynamic collections like a to-do list or shopping cart.\n",
    "\n",
    "Use a tuple when:\n",
    "\n",
    "You want to make sure the data stays constant (e.g., coordinates, dates).\n",
    "\n",
    "You want to use the collection as a key in a dictionary (because tuples are hashable and lists are not).\n",
    "\n",
    " 4. Methods and Functionality\n",
    "Lists support many built-in methods such as append(), remove(), reverse(), etc., because they’re designed to be flexible.\n",
    "\n",
    "Tuples, being fixed, support only a few methods like count() and index().\n",
    "\n",
    " 5. Syntax\n",
    "Lists are created using square brackets [].\n",
    "Tuples are created using parentheses ()."
   ]
  },
  {
   "cell_type": "markdown",
   "id": "d50a413a-9d72-40a8-9711-a5aabf083d9f",
   "metadata": {},
   "source": [
    "## 4. Describe how dictionaries store data."
   ]
  },
  {
   "cell_type": "markdown",
   "id": "a8c9080a-e167-4b32-b8a0-15a05922500f",
   "metadata": {},
   "source": [
    "Ans:\n",
    "How Dictionaries Store Data in Python\n",
    "A dictionary in Python is a built-in data structure that stores data in the form of key-value pairs.\n",
    "\n",
    "Think of it like a real-world dictionary: you look up a word (key) to get its definition (value).\n",
    "\n",
    "How Data is Stored Internally\n",
    "Dictionaries use a structure called a hash table:\n",
    "\n",
    "Keys are hashed (converted into a fixed-size number using a hash function).\n",
    "\n",
    "This hash value decides where in memory the value will be stored.\n",
    "\n",
    "When you look up a key, Python quickly finds the location using that hash — this makes dictionary lookups very fast."
   ]
  },
  {
   "cell_type": "markdown",
   "id": "e696e330-8ba8-4f79-bd76-013848bf5960",
   "metadata": {},
   "source": [
    "## 5. Why might you use a set instead of a list in Python."
   ]
  },
  {
   "cell_type": "markdown",
   "id": "db1ab63d-f39e-462f-8af6-8680a39b4683",
   "metadata": {},
   "source": [
    "Ans:\n",
    "Lists vs Sets — Why Choose a Set?\n",
    "A set is a built-in Python data type that stores unordered, unique elements. While lists allow duplicates and maintain order, sets are optimized for membership checks and uniqueness.\n",
    "\n",
    " Reasons to Use a Set Instead of a List\n",
    "1. You Want Only Unique Items\n",
    "A set automatically removes duplicates.\n",
    "\n",
    "If you're working with data where repetition doesn’t make sense (e.g. names in attendance), a set is ideal.\n",
    "\n",
    "\n",
    "\n",
    "2. Fast Membership Testing\n",
    "Sets use hashing, so checking if an item is in a set is much faster than in a list.\n",
    "\n",
    "For large datasets, this speed difference can be huge.\n",
    "\n",
    "\n",
    "3. Efficient Set Operations\n",
    "Sets support powerful operations like union, intersection, and difference.\n",
    "\n",
    "These are useful for comparing collections."
   ]
  },
  {
   "cell_type": "markdown",
   "id": "46a3fe7e-d804-45cf-8b39-15e63b5ce1c0",
   "metadata": {},
   "source": [
    "## 6. What is a string in Python, and how is it different from a list."
   ]
  },
  {
   "cell_type": "markdown",
   "id": "9d448783-ad0c-49dd-ae03-57a57bcbee34",
   "metadata": {},
   "source": [
    "Ans:\n",
    "\n",
    "String in Python\n",
    "A string in Python is a sequence of characters, enclosed in quotes — single ('...'), double (\"...\"), or triple ('''...''' or \"\"\"...\"\"\").\n",
    "How Is a String Different from a List?\n",
    "Although both strings and lists are sequences, they are different in the following key ways:\n",
    "\n",
    "1. Data Type of Elements\n",
    "A string contains only characters (text).\n",
    "\n",
    "A list can contain any data types — strings, numbers, booleans, even other lists.\n",
    "\n",
    "\n",
    "2. Mutability\n",
    "Strings are immutable: You cannot change a character in a string after it's created.\n",
    "\n",
    "Lists are mutable: You can modify any item in a list.\n",
    "\n",
    "\n",
    "3. Methods\n",
    "Strings have methods for text processing like .lower(), .upper(), .split(), etc.\n",
    "\n",
    "Lists have methods like .append(), .remove(), .sort(), which are used for managing collections of items.\n",
    "\n",
    "4. Use Case\n",
    "Use a string to represent and manipulate text (sentences, words, names).\n",
    "\n",
    "Use a list when you need a collection of multiple values — possibly of different types — that may need to be changed or iterated over.\n",
    "\n"
   ]
  },
  {
   "cell_type": "markdown",
   "id": "757def6c-184b-4930-94bb-e0df5ddc42b0",
   "metadata": {},
   "source": [
    "## 7. How do tuples ensure data integrity in Python."
   ]
  },
  {
   "cell_type": "markdown",
   "id": "b4714cd5-3ba3-4319-88b7-8bab170460ce",
   "metadata": {},
   "source": [
    "Ans:\n",
    "How Do Tuples Ensure Data Integrity in Python?\n",
    "In Python, tuples help ensure data integrity because they are immutable — once a tuple is created, its contents cannot be changed, added to, or removed.\n",
    "\n",
    "What Does Data Integrity Mean:\n",
    "Data integrity means keeping data:\n",
    "\n",
    "Accurate\n",
    "\n",
    "Consistent\n",
    "\n",
    "Untouched unless intended\n",
    "\n",
    "So, using a tuple helps prevent accidental changes to data.\n",
    "\n",
    " How Tuples Help Ensure Integrity\n",
    "1. Immutability = Safety\n",
    "Since tuples cannot be modified, they protect data from being changed:\n",
    "\n",
    "\n",
    "\n",
    "2. Used as Dictionary Keys\n",
    "Tuples can be used as keys in dictionaries (unlike lists), because their immutability makes them hashable.\n",
    "\n",
    "\n",
    "\n",
    "3. Safe in Functions\n",
    "When passing a tuple to a function, you can be sure that the function won’t accidentally change the original data.\n",
    "\n"
   ]
  },
  {
   "cell_type": "markdown",
   "id": "fd30d005-24af-4edb-a2e1-4ba890a99662",
   "metadata": {},
   "source": [
    "## 8  What is a hash table, and how does it relate to dictionaries in Python3"
   ]
  },
  {
   "cell_type": "markdown",
   "id": "ccd9142a-0166-49ef-9cc0-e94d7a546856",
   "metadata": {},
   "source": [
    "Ans:\n",
    " Hash Table:\n",
    "A hash table is a data structure that stores data in the form of key-value pairs and allows for fast data retrieval based on the key.\n",
    "\n",
    "It works by using a special function called a hash function, which:\n",
    "\n",
    "Takes a key as input,\n",
    "\n",
    "Converts it into a unique number (called a hash),\n",
    "\n",
    "Uses that number to decide where to store the value in memory.\n",
    "\n",
    " How It Relates to Dictionaries in Python\n",
    "In Python, a dictionary is an implementation of a hash table."
   ]
  },
  {
   "cell_type": "code",
   "execution_count": 8,
   "id": "e02f5239-216d-44bb-b231-c801fd347dea",
   "metadata": {},
   "outputs": [],
   "source": [
    "student = {\"name\": \"Alice\", \"age\": 21}\n"
   ]
  },
  {
   "cell_type": "markdown",
   "id": "59062d00-2277-45ff-9d57-7fd635aa3077",
   "metadata": {},
   "source": [
    "Hashes the key \"name\" → gets a unique index.\n",
    "\n",
    "Stores the value \"Alice\" at that location in memory."
   ]
  },
  {
   "cell_type": "code",
   "execution_count": 9,
   "id": "dd78cf21-3a37-410d-9ac5-f7184904bd73",
   "metadata": {},
   "outputs": [
    {
     "name": "stdout",
     "output_type": "stream",
     "text": [
      "Alice\n"
     ]
    }
   ],
   "source": [
    "print(student[\"name\"])  # Output: Alice\n"
   ]
  },
  {
   "cell_type": "markdown",
   "id": "704ae4d1-5ccb-4b30-b222-f33fcfb7a3a2",
   "metadata": {},
   "source": [
    "## 9. Can lists contain different data types in Python?"
   ]
  },
  {
   "cell_type": "markdown",
   "id": "eb6db75e-3deb-40ed-baa4-740c619031d8",
   "metadata": {},
   "source": [
    "Ans:\n",
    "Yes, Lists Can Contain Different Data Types in Python\n",
    "In Python, lists are very flexible and can store elements of different data types in the same list.\n",
    "\n",
    " Example:\n",
    "mixed_list = [42, \"hello\", 3.14, True, [1, 2], {\"key\": \"value\"}]\n",
    "This list contains:\n",
    "\n",
    "An integer (42)\n",
    "\n",
    "A string (\"hello\")\n",
    "\n",
    "A float (3.14)\n",
    "\n",
    "A boolean (True)\n",
    "\n",
    "Another list ([1, 2])\n",
    "\n",
    "A dictionary ({\"key\": \"value\"})"
   ]
  },
  {
   "cell_type": "markdown",
   "id": "4c066f46-1238-4916-9430-351b5e3c1169",
   "metadata": {},
   "source": [
    "## 10. Explain why strings are immutable in PythonP"
   ]
  },
  {
   "cell_type": "markdown",
   "id": "dfef6fc8-d6af-4664-9371-b42c43efbd6d",
   "metadata": {},
   "source": [
    "Ans:\n",
    "Strings Immutable in Python?\n",
    "In Python, strings are immutable, meaning once a string is created, it cannot be changed — you can't modify, delete, or replace characters in place.\n",
    "\n",
    "Reasons Why Strings Are Immutable:\n",
    "1. Efficiency and Performance\n",
    "Immutable objects like strings are stored in memory efficiently.\n",
    "\n",
    "Since they can’t change, Python reuses existing string objects, reducing memory usage.\n",
    "\n",
    "This helps with faster execution, especially when working with many strings.\n",
    "\n",
    "2. Safety and Predictability\n",
    "Since strings can’t be changed, there’s no risk of accidental modification in functions or loops.\n",
    "\n",
    "This makes string-related code more reliable and bug-free.\n",
    "\n",
    "\n",
    "3. Hashability\n",
    "Strings are hashable, meaning they can be used as keys in dictionaries or stored in sets.\n",
    "\n",
    "To be hashable, an object must not change — hence, immutability is required."
   ]
  },
  {
   "cell_type": "markdown",
   "id": "104de7bd-de6d-4549-a911-f522f67e75ee",
   "metadata": {},
   "source": [
    "## 11 What advantages do dictionaries offer over lists for certain tasks?"
   ]
  },
  {
   "cell_type": "markdown",
   "id": "c01b5e4a-3982-4014-9266-80980f2f8091",
   "metadata": {},
   "source": [
    "dvantages of Dictionaries Over Lists in Python\n",
    "While lists and dictionaries are both used to store data, dictionaries offer some clear advantages for certain tasks — especially when you need to associate values with specific keys.\n",
    "\n",
    " 1. Fast Lookup by Key (O(1) Time)\n",
    "In a list, searching for an item means going through elements one by one (linear search).\n",
    "\n",
    "In a dictionary, you can instantly access a value using its key.\n",
    "\n",
    "\n",
    " 2. Key-Value Pairing\n",
    "Dictionaries are ideal when each value needs to be labeled or identified uniquely.\n",
    "\n",
    "Unlike lists (which use numeric indexes), dictionaries use meaningful keys.\n",
    "\n",
    "\n",
    "\n",
    "3. No Need to Remember Index Positions\n",
    "With lists, you must remember or look up the index to get specific data.\n",
    "\n",
    "With dictionaries, you just use the key — much more readable and less error-prone.\n",
    "\n",
    " 4. Flexible and Dynamic\n",
    "You can easily add, update, or remove key-value pairs from a dictionary.\n",
    "\n",
    "It’s more natural for representing structured data like JSON or databases.\n",
    "\n",
    " 5. Perfect for Lookups, Caching, and Mappings\n",
    "Dictionaries are ideal for use cases like:\n",
    "\n",
    "Lookup tables\n",
    "\n",
    "Counting elements\n",
    "\n",
    "Caching results\n",
    "\n",
    "Storing configuration/settings"
   ]
  },
  {
   "cell_type": "markdown",
   "id": "988f6155-27b3-4217-87b2-c1d20dc80bc6",
   "metadata": {},
   "source": [
    "## 12. Describe a scenario where using a tuple would be preferable over a list?"
   ]
  },
  {
   "cell_type": "markdown",
   "id": "b52e81cc-8e0e-443c-9264-55b294f9d9c4",
   "metadata": {},
   "source": [
    "Scenario: When to Use a Tuple Instead of a List\n",
    "A tuple is preferable over a list when you want to store a fixed collection of values that should not change — in other words, when data integrity and immutability are important.\n",
    "\n",
    " Example Scenario: Storing Coordinates\n",
    "Imagine you're developing a mapping or GPS application. You need to store the (latitude, longitude) of various locations.\n",
    "\n",
    "Why use a tuple?\n",
    "\n",
    "location = (12.9716, 77.5946)  # A tuple\n",
    "These coordinates will not change — they represent a fixed physical location.\n",
    "\n",
    "Tuples ensure that no part of the coordinate can be accidentally modified in your code.\n",
    "\n",
    "Tuples are hashable, so you can safely use them as keys in a dictionary or store them in a set."
   ]
  },
  {
   "cell_type": "markdown",
   "id": "86f2bc41-fe07-44f5-ad22-5ac5df49033c",
   "metadata": {},
   "source": [
    "## 13. How do sets handle duplicate values in Python?"
   ]
  },
  {
   "cell_type": "markdown",
   "id": "63edee26-f5bb-4dee-9174-f1095478c4ed",
   "metadata": {},
   "source": [
    "Sets Handle Duplicate Values in Python:\n",
    "In Python, sets automatically eliminate duplicate values.\n",
    "\n",
    " Key Behavior of Sets:\n",
    "A set is an unordered collection of unique elements.\n",
    "\n",
    "If you try to add a duplicate value to a set, it will be ignored — no error, but the set won't grow.\n",
    "\n"
   ]
  },
  {
   "cell_type": "markdown",
   "id": "3a8f144d-fc7f-4f91-85b3-85a1f97728ae",
   "metadata": {},
   "source": [
    "## 14 How does the “in” keyword work differently for lists and dictionaries?"
   ]
  },
  {
   "cell_type": "code",
   "execution_count": 11,
   "id": "b94a9cf2-95ad-4d7b-aa1f-ec4bb97ef61a",
   "metadata": {},
   "outputs": [
    {
     "name": "stdout",
     "output_type": "stream",
     "text": [
      "True\n",
      "False\n"
     ]
    }
   ],
   "source": [
    "#Lists:\n",
    "#The in keyword checks if a value exists among the elements of the list.\n",
    "\n",
    "\n",
    "fruits = [\"apple\", \"banana\", \"cherry\"]\n",
    "print(\"banana\" in fruits)  # ✅ True\n",
    "print(\"mango\" in fruits)   # ❌ False"
   ]
  },
  {
   "cell_type": "code",
   "execution_count": 12,
   "id": "0aa4c3a5-042a-4440-861b-a13d5817a83f",
   "metadata": {},
   "outputs": [
    {
     "name": "stdout",
     "output_type": "stream",
     "text": [
      "True\n",
      "False\n"
     ]
    }
   ],
   "source": [
    "#Dictionaries:\n",
    "#The in keyword checks if a key exists in the dictionary — not the value.\n",
    "\n",
    "\n",
    "person = {\"name\": \"Alice\", \"age\": 30}\n",
    "print(\"name\" in person)    # ✅ True (it's a key)\n",
    "print(\"Alice\" in person)   # ❌ False (it's a value, not a key)"
   ]
  },
  {
   "cell_type": "markdown",
   "id": "1d2ad34c-cbfe-4d57-808d-35dfc560f178",
   "metadata": {},
   "source": [
    "## 15  Can you modify the elements of a tuple? Explain why or why not?"
   ]
  },
  {
   "cell_type": "markdown",
   "id": "e25fb874-673f-422a-bc99-5323a0b63746",
   "metadata": {},
   "source": [
    "No, you cannot modify the elements of a tuple.\n",
    "\n",
    " Why Not?\n",
    "Because tuples are immutable in Python, which means once a tuple is created, its elements cannot be changed, added, or removed.\n",
    "\n",
    "This immutability applies to:\n",
    "\n",
    "Changing an individual item\n",
    "\n",
    "Adding new items\n",
    "\n",
    "Removing items"
   ]
  },
  {
   "cell_type": "markdown",
   "id": "b042f284-462c-4f99-8126-87023c345884",
   "metadata": {},
   "source": [
    "## 16 What is a nested dictionary, and give an example of its use case?"
   ]
  },
  {
   "cell_type": "code",
   "execution_count": 15,
   "id": "af35fb5f-9c5c-47f3-b8f0-cb9e9f2a7cb7",
   "metadata": {},
   "outputs": [
    {
     "name": "stdout",
     "output_type": "stream",
     "text": [
      "85\n"
     ]
    }
   ],
   "source": [
    "#Nested Dictionary?\n",
    "#A nested dictionary is a dictionary where one or more values are themselves dictionaries. This allows you to store complex, hierarchical data in a structured way.\n",
    "\n",
    "# Why Use Nested Dictionaries?\n",
    "#They are useful when you want to represent data with multiple levels or categories.\n",
    "\n",
    "#Example:\n",
    "#Imagine you want to store information about students and their subjects with scores:\n",
    "\n",
    "\n",
    "students = {\n",
    "    \"Alice\": {\n",
    "        \"Math\": 85,\n",
    "        \"Science\": 90\n",
    "    },\n",
    "    \"Bob\": {\n",
    "        \"Math\": 78,\n",
    "        \"Science\": 82\n",
    "    }\n",
    "}\n",
    "#The outer dictionary has student names as keys.\n",
    "\n",
    "#Each student's value is another dictionary of subject-score pairs.\n",
    "\n",
    "# Accessing Nested Dictionary Values:\n",
    "\n",
    "print(students[\"Alice\"][\"Math\"])  # Output: 85\n"
   ]
  },
  {
   "cell_type": "markdown",
   "id": "eaa19c14-0b0d-4616-8a21-aaf0567133ec",
   "metadata": {},
   "source": [
    "## 17. Describe the time complexity of accessing elements in a dictionary?"
   ]
  },
  {
   "cell_type": "markdown",
   "id": "64a8aa9e-0d43-4640-b79d-1d48c3fcbdaf",
   "metadata": {},
   "source": [
    "Time Complexity of Accessing Elements in a Dictionary\n",
    "In Python, accessing an element in a dictionary by its key generally has a time complexity of O(1), which means it happens in constant time.\n",
    "\n",
    "Why Is It O(1):\n",
    "Python dictionaries are implemented using a hash table.\n",
    "\n",
    "When you access dict[key], Python:\n",
    "\n",
    "Computes the hash of the key.\n",
    "\n",
    "Uses the hash to find the exact location in memory where the value is stored.\n",
    "\n",
    "This direct addressing means it doesn’t need to scan through other elements, unlike a list.\n",
    "\n",
    "Important Notes:\n",
    "Best/Average case: O(1) — very fast lookups.\n",
    "\n",
    "Worst case: O(n) — rare, happens if many keys hash to the same location (hash collisions), causing Python to search through a small linked list or a probe sequence.\n",
    "\n",
    "Python’s hash function and collision resolution techniques keep collisions minimal.\n",
    "\n"
   ]
  },
  {
   "cell_type": "markdown",
   "id": "1d7ca166-1289-4807-9306-b2ff18426212",
   "metadata": {},
   "source": [
    "## 18. In what situations are lists preferred over dictionaries?"
   ]
  },
  {
   "cell_type": "markdown",
   "id": "b7bc0e9b-d665-450d-848b-35507034892b",
   "metadata": {},
   "source": [
    "While both lists and dictionaries are useful data structures, lists are better suited than dictionaries in certain situations:\n",
    "\n",
    "1. Ordered Collections\n",
    "Lists preserve the order of elements.\n",
    "\n",
    "When the order of items matters (like a sequence of steps or time-series data), lists are ideal.\n",
    "\n",
    "2. Index-Based Access\n",
    "Lists allow you to access elements by integer index (e.g., my_list[0]).\n",
    "\n",
    "If you need to access elements by position rather than by key, lists are simpler and more natural.\n",
    "\n",
    "3. Simple Collections of Similar Items\n",
    "When you have a collection of similar or homogeneous items (e.g., a list of numbers, names, or objects).\n",
    "\n",
    "Lists are straightforward and efficient for storing and iterating over such data.\n",
    "\n",
    "4. When Keys Aren’t Needed\n",
    "If you don’t need to associate data with unique keys, a list is simpler.\n",
    "\n",
    "Dictionaries require keys for each value; lists just store values.\n",
    "\n",
    "5. Memory Efficiency\n",
    "Lists use less memory than dictionaries for storing simple sequences of data.\n",
    "\n",
    "If memory usage is a concern and you only need a simple sequence, lists can be better.\n",
    "\n",
    "6. When You Need to Maintain Duplicates\n",
    "Lists allow duplicate elements.\n",
    "\n",
    "Dictionaries require unique keys, so lists are preferred when duplicates are meaningful.\n",
    "\n"
   ]
  },
  {
   "cell_type": "markdown",
   "id": "173f0de4-15a5-459f-85ae-b16a4e2e0f04",
   "metadata": {},
   "source": [
    "## 19 Why are dictionaries considered unordered, and how does that affect data retrieval?"
   ]
  },
  {
   "cell_type": "markdown",
   "id": "143a9bcc-bd86-4e39-b2c7-4c2cac01e6eb",
   "metadata": {},
   "source": [
    "Why Are Dictionaries Considered Unordered?\n",
    "Historically, Python dictionaries were unordered, meaning the items inside a dictionary didn’t have a guaranteed order.\n",
    "\n",
    "This is because dictionaries are implemented as hash tables, optimized for fast lookup by key rather than maintaining any order.\n",
    "\n",
    "The position of key-value pairs depended on the hash values and internal storage, which could change when you added or removed items.\n",
    "\n",
    " What About Modern Python?\n",
    "Starting from Python 3.7, dictionaries preserve insertion order as an official language feature.\n",
    "\n",
    "So now, when you iterate over a dictionary or convert it to a list, the items come out in the order you added them.\n",
    "\n",
    " How Does Being Unordered Affect Data Retrieval?\n",
    "When dictionaries were unordered, you could not rely on the order of items for iteration or display.\n",
    "\n",
    "However, this doesn’t affect key-based lookup speed — retrieving a value by key is still very fast (average O(1) time).\n",
    "\n",
    "For operations that depend on order (like sorting or ordered iteration), you had to use other data structures such as collections.OrderedDict (before Python 3.7) or now rely on the built-in order preservation.\n",
    "\n"
   ]
  },
  {
   "cell_type": "markdown",
   "id": "5750250d-0e86-44a9-87e4-099960ff189e",
   "metadata": {},
   "source": [
    "## 20. Explain the difference between a list and a dictionary in terms of data retrieval."
   ]
  },
  {
   "cell_type": "markdown",
   "id": "9abb7d34-789e-40d4-bc48-830479cee6fb",
   "metadata": {},
   "source": [
    "#Difference Between List and Dictionary in Terms of Data Retrieval\n",
    "1. How Data Is Retrieved in a List\n",
    "Data in a list is accessed by index position (an integer).\n",
    "\n",
    "To get an element, you use its position, like my_list[0] for the first item.\n",
    "\n",
    "If you want to find whether a specific value exists, Python searches sequentially from the start until it finds it.\n",
    "\n",
    "Time complexity:\n",
    "\n",
    "Access by index: O(1) (fast)\n",
    "\n",
    "Search by value: O(n) (slower for large lists)\n",
    "\n",
    "2. How Data Is Retrieved in a Dictionary\n",
    "Data in a dictionary is accessed by key, not position.\n",
    "\n",
    "When you look up a value with a key like my_dict[\"name\"], Python uses a hash function to find the exact location quickly.\n",
    "\n",
    "This means retrieval by key is very fast, even in large dictionaries.\n",
    "\n",
    "Time complexity:\n",
    "\n",
    "Access by key: O(1) on average (very fast)"
   ]
  },
  {
   "cell_type": "markdown",
   "id": "8f631765-3d5f-42cc-8bf2-86b62b161991",
   "metadata": {},
   "source": [
    "## Practical Questions"
   ]
  },
  {
   "cell_type": "markdown",
   "id": "0131be4a-078f-4393-9528-d48d3607bad4",
   "metadata": {},
   "source": [
    "## 1. Write a code to create a string with your name and print it?"
   ]
  },
  {
   "cell_type": "code",
   "execution_count": 17,
   "id": "739f27fe-2e3c-431d-8cbb-f10cfe2f76b9",
   "metadata": {},
   "outputs": [
    {
     "name": "stdout",
     "output_type": "stream",
     "text": [
      "My name is: Sanjay Kumar Saini\n"
     ]
    }
   ],
   "source": [
    "# Create a string with your name\n",
    "my_name = \"Sanjay Kumar Saini\"\n",
    "\n",
    "# Print the string\n",
    "print(\"My name is:\", my_name)\n"
   ]
  },
  {
   "cell_type": "markdown",
   "id": "e36315c6-4ae8-481c-b909-ff8f2fb68eb5",
   "metadata": {},
   "source": [
    "## 2.  Write a code to find the length of the string \"Hello World\"?"
   ]
  },
  {
   "cell_type": "code",
   "execution_count": 18,
   "id": "a23471dc-9a75-45bd-babd-aa8fbe12dabd",
   "metadata": {},
   "outputs": [
    {
     "name": "stdout",
     "output_type": "stream",
     "text": [
      "Length of the string is: 11\n"
     ]
    }
   ],
   "source": [
    "# Define the string\n",
    "text = \"Hello World\"\n",
    "\n",
    "# Find and print the length\n",
    "length = len(text)\n",
    "print(\"Length of the string is:\", length)\n"
   ]
  },
  {
   "cell_type": "markdown",
   "id": "2a841dd3-d0f0-4bd7-95b8-a30992d89bad",
   "metadata": {},
   "source": [
    "## 3.  Write a code to slice the first 3 characters from the string \"Python Programming\"?"
   ]
  },
  {
   "cell_type": "code",
   "execution_count": 19,
   "id": "64b9aee0-11dd-4d80-9eed-10bff62a118d",
   "metadata": {},
   "outputs": [
    {
     "name": "stdout",
     "output_type": "stream",
     "text": [
      "First 3 characters: Pyt\n"
     ]
    }
   ],
   "source": [
    "# Define the string\n",
    "text = \"Python Programming\"\n",
    "\n",
    "# Slice the first 3 characters\n",
    "first_three = text[:3]\n",
    "\n",
    "# Print the result\n",
    "print(\"First 3 characters:\", first_three)\n"
   ]
  },
  {
   "cell_type": "markdown",
   "id": "abcdbc6f-0c2b-4aa7-be0a-0261706076d0",
   "metadata": {},
   "source": [
    "## 4.  Write a code to convert the string \"hello\" to uppercase?"
   ]
  },
  {
   "cell_type": "code",
   "execution_count": 20,
   "id": "8f1f4667-0b52-4053-af7d-59678873a973",
   "metadata": {},
   "outputs": [
    {
     "name": "stdout",
     "output_type": "stream",
     "text": [
      "Uppercase: HELLO\n"
     ]
    }
   ],
   "source": [
    "# Define the string\n",
    "text = \"hello\"\n",
    "\n",
    "# Convert to uppercase\n",
    "uppercase_text = text.upper()\n",
    "\n",
    "# Print the result\n",
    "print(\"Uppercase:\", uppercase_text)\n"
   ]
  },
  {
   "cell_type": "markdown",
   "id": "08c39db0-029d-4e29-b4c6-0aa8a3992d1d",
   "metadata": {},
   "source": [
    "## 5. Write a code to replace the word \"apple\" with \"orange\" in the string \"I like apple\"?"
   ]
  },
  {
   "cell_type": "code",
   "execution_count": 21,
   "id": "7801c841-0af0-4402-9492-c8577402d9bc",
   "metadata": {},
   "outputs": [
    {
     "name": "stdout",
     "output_type": "stream",
     "text": [
      "Updated string: I like orange\n"
     ]
    }
   ],
   "source": [
    "# Define the string\n",
    "text = \"I like apple\"\n",
    "\n",
    "# Replace 'apple' with 'orange'\n",
    "new_text = text.replace(\"apple\", \"orange\")\n",
    "\n",
    "# Print the result\n",
    "print(\"Updated string:\", new_text)\n"
   ]
  },
  {
   "cell_type": "markdown",
   "id": "e35d6d9f-7df7-47f9-9fdc-29f17cd0d321",
   "metadata": {},
   "source": [
    "## 6.  Write a code to create a list with numbers 1 to 5 and print it?"
   ]
  },
  {
   "cell_type": "code",
   "execution_count": 22,
   "id": "25e8ea99-ab70-40e6-826c-0e025587254e",
   "metadata": {},
   "outputs": [
    {
     "name": "stdout",
     "output_type": "stream",
     "text": [
      "List of numbers: [1, 2, 3, 4, 5]\n"
     ]
    }
   ],
   "source": [
    "# Create a list with numbers 1 to 5\n",
    "numbers = [1, 2, 3, 4, 5]\n",
    "\n",
    "# Print the list\n",
    "print(\"List of numbers:\", numbers)\n"
   ]
  },
  {
   "cell_type": "markdown",
   "id": "0adf2e5f-78e4-4abd-8a29-47a2dc2f2a36",
   "metadata": {},
   "source": [
    "## 7.  Write a code to append the number 10 to the list [1, 2, 3, 4]?"
   ]
  },
  {
   "cell_type": "code",
   "execution_count": 23,
   "id": "3de7e096-b822-41a0-88e5-9d1d9305aa46",
   "metadata": {},
   "outputs": [
    {
     "name": "stdout",
     "output_type": "stream",
     "text": [
      "Updated list: [1, 2, 3, 4, 10]\n"
     ]
    }
   ],
   "source": [
    "# Define the original list\n",
    "numbers = [1, 2, 3, 4]\n",
    "\n",
    "# Append 10 to the list\n",
    "numbers.append(10)\n",
    "\n",
    "# Print the updated list\n",
    "print(\"Updated list:\", numbers)\n"
   ]
  },
  {
   "cell_type": "markdown",
   "id": "015043f0-749c-4a2a-b0ec-30303f4eea44",
   "metadata": {},
   "source": [
    "## 8. Write a code to remove the number 3 from the list [1, 2, 3, 4, 5]?"
   ]
  },
  {
   "cell_type": "code",
   "execution_count": 24,
   "id": "4cee147b-9791-432a-8c9a-8cd9f9989f71",
   "metadata": {},
   "outputs": [
    {
     "name": "stdout",
     "output_type": "stream",
     "text": [
      "Updated list: [1, 2, 4, 5]\n"
     ]
    }
   ],
   "source": [
    "# Define the original list\n",
    "numbers = [1, 2, 3, 4, 5]\n",
    "\n",
    "# Remove the number 3\n",
    "numbers.remove(3)\n",
    "\n",
    "# Print the updated list\n",
    "print(\"Updated list:\", numbers)\n"
   ]
  },
  {
   "cell_type": "markdown",
   "id": "1b06b45c-edb6-4bf9-af69-f8d7eaad887e",
   "metadata": {},
   "source": [
    "## 9. Write a code to access the second element in the list ['a', 'b', 'c', 'd']?"
   ]
  },
  {
   "cell_type": "code",
   "execution_count": 25,
   "id": "d05856ff-29e5-4625-8132-8fa8411bae66",
   "metadata": {},
   "outputs": [
    {
     "name": "stdout",
     "output_type": "stream",
     "text": [
      "Second element: b\n"
     ]
    }
   ],
   "source": [
    "# Define the list\n",
    "letters = ['a', 'b', 'c', 'd']\n",
    "\n",
    "# Access the second element (index 1)\n",
    "second_element = letters[1]\n",
    "\n",
    "# Print the result\n",
    "print(\"Second element:\", second_element)\n"
   ]
  },
  {
   "cell_type": "markdown",
   "id": "05516cdc-34d4-42c7-8b2b-8e3e69035211",
   "metadata": {},
   "source": [
    "## 10. Write a code to reverse the list [10, 20, 30, 40, 50]."
   ]
  },
  {
   "cell_type": "code",
   "execution_count": 26,
   "id": "413d8ad6-b5b6-4136-a1e7-0a63083648ed",
   "metadata": {},
   "outputs": [
    {
     "name": "stdout",
     "output_type": "stream",
     "text": [
      "Reversed list: [50, 40, 30, 20, 10]\n"
     ]
    }
   ],
   "source": [
    "# Define the list\n",
    "numbers = [10, 20, 30, 40, 50]\n",
    "\n",
    "# Reverse the list\n",
    "numbers.reverse()\n",
    "\n",
    "# Print the reversed list\n",
    "print(\"Reversed list:\", numbers)\n"
   ]
  },
  {
   "cell_type": "markdown",
   "id": "d217c39f-6425-4836-8b4d-dfe39102d104",
   "metadata": {},
   "source": [
    "## 11. Write a code to create a tuple with the elements 100, 200, 300 and print it."
   ]
  },
  {
   "cell_type": "code",
   "execution_count": 27,
   "id": "bfb10c18-4e33-484b-b56a-11876a10fa8f",
   "metadata": {},
   "outputs": [
    {
     "name": "stdout",
     "output_type": "stream",
     "text": [
      "Tuple: (100, 200, 300)\n"
     ]
    }
   ],
   "source": [
    "# Create a tuple with elements 100, 200, 300\n",
    "my_tuple = (100, 200, 300)\n",
    "\n",
    "# Print the tuple\n",
    "print(\"Tuple:\", my_tuple)\n"
   ]
  },
  {
   "cell_type": "markdown",
   "id": "92ce6e2d-9226-4fe9-b6e2-fdf28dee9b38",
   "metadata": {},
   "source": [
    "## 12. Write a code to access the second-to-last element of the tuple ('red', 'green', 'blue', 'yellow')."
   ]
  },
  {
   "cell_type": "code",
   "execution_count": 28,
   "id": "78f02549-5f48-4102-b81a-8d3867b90c1f",
   "metadata": {},
   "outputs": [
    {
     "name": "stdout",
     "output_type": "stream",
     "text": [
      "Second-to-last element: blue\n"
     ]
    }
   ],
   "source": [
    "\n",
    "colors = ('red', 'green', 'blue', 'yellow')\n",
    "\n",
    "# Access the second-to-last element using negative indexing\n",
    "second_to_last = colors[-2]\n",
    "\n",
    "# Print the result\n",
    "print(\"Second-to-last element:\", second_to_last)\n"
   ]
  },
  {
   "cell_type": "markdown",
   "id": "69e3ecc0-3e3e-4221-b680-3aaa321c3b81",
   "metadata": {},
   "source": [
    "## 13. Write a code to find the minimum number in the tuple (10, 20, 5, 15)."
   ]
  },
  {
   "cell_type": "code",
   "execution_count": 29,
   "id": "89a52299-5541-4cc2-a1bd-c98b3e064627",
   "metadata": {},
   "outputs": [
    {
     "name": "stdout",
     "output_type": "stream",
     "text": [
      "Minimum number: 5\n"
     ]
    }
   ],
   "source": [
    "\n",
    "numbers = (10, 20, 5, 15)\n",
    "\n",
    "# Find the minimum number\n",
    "min_number = min(numbers)\n",
    "\n",
    "# Print the result\n",
    "print(\"Minimum number:\", min_number)\n"
   ]
  },
  {
   "cell_type": "markdown",
   "id": "df67dd38-4f79-405a-b6e9-78a061fdde0f",
   "metadata": {},
   "source": [
    "## 14. Write a code to find the index of the element \"cat\" in the tuple ('dog', 'cat', 'rabbit')."
   ]
  },
  {
   "cell_type": "code",
   "execution_count": 30,
   "id": "7e8639d9-c486-433c-a5d5-42c5ba70f71c",
   "metadata": {},
   "outputs": [
    {
     "name": "stdout",
     "output_type": "stream",
     "text": [
      "Index of 'cat': 1\n"
     ]
    }
   ],
   "source": [
    "# Define the tuple\n",
    "animals = ('dog', 'cat', 'rabbit')\n",
    "\n",
    "# Find the index of 'cat'\n",
    "index_cat = animals.index('cat')\n",
    "\n",
    "# Print the result\n",
    "print(\"Index of 'cat':\", index_cat)\n"
   ]
  },
  {
   "cell_type": "markdown",
   "id": "1d315a4e-3d0c-4456-8f7e-677747d7c23f",
   "metadata": {},
   "source": [
    "## 15. Write a code to create a tuple containing three different fruits and check if \"kiwi\" is in it."
   ]
  },
  {
   "cell_type": "code",
   "execution_count": 31,
   "id": "8b88990e-099a-4edf-9cbd-de6f2c7d68a7",
   "metadata": {},
   "outputs": [
    {
     "name": "stdout",
     "output_type": "stream",
     "text": [
      "Kiwi is not in the tuple.\n"
     ]
    }
   ],
   "source": [
    "# Create a tuple with three fruits\n",
    "fruits = (\"apple\", \"banana\", \"orange\")\n",
    "\n",
    "# Check if 'kiwi' is in the tuple\n",
    "if \"kiwi\" in fruits:\n",
    "    print(\"Kiwi is in the tuple.\")\n",
    "else:\n",
    "    print(\"Kiwi is not in the tuple.\")\n",
    "\n"
   ]
  },
  {
   "cell_type": "markdown",
   "id": "dab69893-ecbf-4aec-b0c6-0f0742d0e87e",
   "metadata": {},
   "source": [
    "## 16. Write a code to create a set with the elements 'a', 'b', 'c' and print it."
   ]
  },
  {
   "cell_type": "code",
   "execution_count": 32,
   "id": "0e502726-a77a-4237-83f1-fba2f5bc0991",
   "metadata": {},
   "outputs": [
    {
     "name": "stdout",
     "output_type": "stream",
     "text": [
      "Set: {'b', 'c', 'a'}\n"
     ]
    }
   ],
   "source": [
    "\n",
    "my_set = {'a', 'b', 'c'}\n",
    "\n",
    "# Print the set\n",
    "print(\"Set:\", my_set)\n"
   ]
  },
  {
   "cell_type": "markdown",
   "id": "6db51a25-3777-4ef6-b4e1-88a503d658f1",
   "metadata": {},
   "source": [
    "## 17. Write a code to clear all elements from the set {1, 2, 3, 4, 5}."
   ]
  },
  {
   "cell_type": "code",
   "execution_count": 33,
   "id": "52168cb0-b2cd-44c5-af56-10453534a39c",
   "metadata": {},
   "outputs": [
    {
     "name": "stdout",
     "output_type": "stream",
     "text": [
      "Cleared set: set()\n"
     ]
    }
   ],
   "source": [
    "\n",
    "numbers = {1, 2, 3, 4, 5}\n",
    "\n",
    "# Clear all elements\n",
    "numbers.clear()\n",
    "\n",
    "# Print the emptied set\n",
    "print(\"Cleared set:\", numbers)\n"
   ]
  },
  {
   "cell_type": "markdown",
   "id": "c20a12fe-a7b0-4622-a924-9b098a472755",
   "metadata": {},
   "source": [
    "## 18. Write a code to remove the element 4 from the set {1, 2, 3, 4}."
   ]
  },
  {
   "cell_type": "code",
   "execution_count": 34,
   "id": "3e558996-e72c-4b46-8e0e-0023507a6293",
   "metadata": {},
   "outputs": [
    {
     "name": "stdout",
     "output_type": "stream",
     "text": [
      "Updated set: {1, 2, 3}\n"
     ]
    }
   ],
   "source": [
    "# Define the set\n",
    "numbers = {1, 2, 3, 4}\n",
    "\n",
    "# Remove the element 4\n",
    "numbers.remove(4)\n",
    "\n",
    "# Print the updated set\n",
    "print(\"Updated set:\", numbers)\n",
    "\n"
   ]
  },
  {
   "cell_type": "markdown",
   "id": "6f389d7f-c226-41c3-8d04-a643732a3816",
   "metadata": {},
   "source": [
    "## 19. Write a code to find the union of two sets {1, 2, 3} and {3, 4, 5}."
   ]
  },
  {
   "cell_type": "code",
   "execution_count": 35,
   "id": "5d40f6c7-40fc-4911-ba92-6d0787389995",
   "metadata": {},
   "outputs": [
    {
     "name": "stdout",
     "output_type": "stream",
     "text": [
      "Union of sets: {1, 2, 3, 4, 5}\n"
     ]
    }
   ],
   "source": [
    "\n",
    "set1 = {1, 2, 3}\n",
    "set2 = {3, 4, 5}\n",
    "\n",
    "# Find the union\n",
    "union_set = set1.union(set2)\n",
    "\n",
    "# Print the union set\n",
    "print(\"Union of sets:\", union_set)\n"
   ]
  },
  {
   "cell_type": "markdown",
   "id": "e3c0ee83-9c1c-41d1-bc78-62213e08c770",
   "metadata": {},
   "source": [
    "## 20. Write a code to find the intersection of two sets {1, 2, 3} and {2, 3, 4}."
   ]
  },
  {
   "cell_type": "code",
   "execution_count": 36,
   "id": "2091c7b9-8045-4050-bf82-a71975f63430",
   "metadata": {},
   "outputs": [
    {
     "name": "stdout",
     "output_type": "stream",
     "text": [
      "Intersection of sets: {2, 3}\n"
     ]
    }
   ],
   "source": [
    "\n",
    "set1 = {1, 2, 3}\n",
    "set2 = {2, 3, 4}\n",
    "\n",
    "# Find the intersection\n",
    "intersection_set = set1.intersection(set2)\n",
    "\n",
    "# Print the intersection set\n",
    "print(\"Intersection of sets:\", intersection_set)\n"
   ]
  },
  {
   "cell_type": "markdown",
   "id": "9e2c2e67-2c3d-4697-b0fe-2eec6f4e3290",
   "metadata": {},
   "source": [
    "## 21. Write a code to create a dictionary with the keys \"name\", \"age\", and \"city\", and print it."
   ]
  },
  {
   "cell_type": "code",
   "execution_count": 38,
   "id": "43210913-1ffe-4858-af1d-fc5c868e0aac",
   "metadata": {},
   "outputs": [
    {
     "name": "stdout",
     "output_type": "stream",
     "text": [
      "Dictionary: {'name': 'Sanju', 'age': 30, 'city': 'Jaipur'}\n"
     ]
    }
   ],
   "source": [
    "\n",
    "person = {\n",
    "    \"name\": \"Sanju\",\n",
    "    \"age\": 30,\n",
    "    \"city\": \"Jaipur\"\n",
    "}\n",
    "\n",
    "# Print the dictionary\n",
    "print(\"Dictionary:\", person)\n"
   ]
  },
  {
   "cell_type": "markdown",
   "id": "bf4dfcd4-96b8-4b9e-bf0b-c601077a664e",
   "metadata": {},
   "source": [
    "## 22. Write a code to add a new key-value pair \"country\": \"USA\" to the dictionary {'name': 'John', 'age': 25}."
   ]
  },
  {
   "cell_type": "code",
   "execution_count": 39,
   "id": "ebaa88c4-8ea6-4888-b488-3f13900afb5a",
   "metadata": {},
   "outputs": [
    {
     "name": "stdout",
     "output_type": "stream",
     "text": [
      "Updated dictionary: {'name': 'Sanju', 'age': 25, 'country': 'India'}\n"
     ]
    }
   ],
   "source": [
    "\n",
    "person = {'name': 'Sanju', 'age': 25}\n",
    "\n",
    "# Add new key-value pair\n",
    "person['country'] = 'India'\n",
    "\n",
    "# Print the updated dictionary\n",
    "print(\"Updated dictionary:\", person)\n"
   ]
  },
  {
   "cell_type": "markdown",
   "id": "57948498-2a5f-409b-8041-e9a5f70b3ab8",
   "metadata": {},
   "source": [
    "## 23. Write a code to access the value associated with the key \"name\" in the dictionary {'name': 'Alice', 'age': 30}."
   ]
  },
  {
   "cell_type": "code",
   "execution_count": 40,
   "id": "41086aa2-35da-494e-8d21-f49ae789d94f",
   "metadata": {},
   "outputs": [
    {
     "name": "stdout",
     "output_type": "stream",
     "text": [
      "Value associated with 'name': Alice\n"
     ]
    }
   ],
   "source": [
    "\n",
    "person = {'name': 'Alice', 'age': 30}\n",
    "\n",
    "# Access the value for key 'name'\n",
    "name_value = person['name']\n",
    "\n",
    "# Print the value\n",
    "print(\"Value associated with 'name':\", name_value)\n"
   ]
  },
  {
   "cell_type": "markdown",
   "id": "2e102a74-c988-4ee5-a73b-3082da8f72b4",
   "metadata": {},
   "source": [
    "## 24. Write a code to remove the key \"age\" from the dictionary {'name': 'Bob', 'age': 22, 'city': 'New York'}."
   ]
  },
  {
   "cell_type": "code",
   "execution_count": 41,
   "id": "b6c32c3e-d017-4361-81db-a327b42c123f",
   "metadata": {},
   "outputs": [
    {
     "name": "stdout",
     "output_type": "stream",
     "text": [
      "Updated dictionary: {'name': 'Bob', 'city': 'New York'}\n"
     ]
    }
   ],
   "source": [
    "\n",
    "person = {'name': 'Bob', 'age': 22, 'city': 'New York'}\n",
    "\n",
    "# Remove the key 'age'\n",
    "person.pop('age')\n",
    "\n",
    "# Print the updated dictionary\n",
    "print(\"Updated dictionary:\", person)\n"
   ]
  },
  {
   "cell_type": "markdown",
   "id": "6c643ae7-a876-4626-b490-b5d6d62d7572",
   "metadata": {},
   "source": [
    "## 25. Write a code to check if the key \"city\" exists in the dictionary {'name': 'Alice', 'city': 'Paris'}."
   ]
  },
  {
   "cell_type": "code",
   "execution_count": 43,
   "id": "34920dde-a610-43f4-a0a4-8d3dc955cd61",
   "metadata": {},
   "outputs": [
    {
     "name": "stdout",
     "output_type": "stream",
     "text": [
      "Key 'city' exists in the dictionary.\n"
     ]
    }
   ],
   "source": [
    "\n",
    "person = {'name': 'Alice', 'city': 'Paris'}\n",
    "\n",
    "# Check if 'city' key exists\n",
    "if 'city' in person:\n",
    "    print(\"Key 'city' exists in the dictionary.\")\n",
    "else:\n",
    "    print(\"Key 'city' does not exist in the dictionary.\")\n"
   ]
  },
  {
   "cell_type": "markdown",
   "id": "64a0aba0-8820-4b5d-bdea-42fa9b165501",
   "metadata": {},
   "source": [
    "## 26. Write a code to create a list, a tuple, and a dictionary, and print them all."
   ]
  },
  {
   "cell_type": "code",
   "execution_count": 45,
   "id": "b7dcf858-72ed-4c05-b4f7-20d816e254a1",
   "metadata": {},
   "outputs": [
    {
     "name": "stdout",
     "output_type": "stream",
     "text": [
      "List: [1, 2, 3]\n",
      "Tuple: ('a', 'b', 'c')\n",
      "Dictionary: {'name': 'Sanju', 'age': 25}\n"
     ]
    }
   ],
   "source": [
    "# Create a list\n",
    "my_list = [1, 2, 3]\n",
    "\n",
    "# Create a tuple\n",
    "my_tuple = ('a', 'b', 'c')\n",
    "\n",
    "# Create a dictionary\n",
    "my_dict = {'name': 'Sanju', 'age': 25}\n",
    "\n",
    "# Print all three\n",
    "print(\"List:\", my_list)\n",
    "print(\"Tuple:\", my_tuple)\n",
    "print(\"Dictionary:\", my_dict)\n"
   ]
  },
  {
   "cell_type": "markdown",
   "id": "5edcc212-4f62-4aee-8799-3c64eb79c102",
   "metadata": {},
   "source": [
    "## 27. Write a code to create a list of 5 random numbers between 1 and 100, sort it in ascending order, and print the result.(replaced)"
   ]
  },
  {
   "cell_type": "code",
   "execution_count": 46,
   "id": "ecec4cc1-edea-461a-bb78-159649a6ddc0",
   "metadata": {},
   "outputs": [
    {
     "name": "stdout",
     "output_type": "stream",
     "text": [
      "Sorted random numbers: [18, 25, 58, 68, 97]\n"
     ]
    }
   ],
   "source": [
    "import random\n",
    "\n",
    "# Generate a list of 5 random numbers between 1 and 100\n",
    "random_numbers = [random.randint(1, 100) for _ in range(5)]\n",
    "\n",
    "# Sort the list in ascending order\n",
    "random_numbers.sort()\n",
    "\n",
    "# Print the sorted list\n",
    "print(\"Sorted random numbers:\", random_numbers)\n"
   ]
  },
  {
   "cell_type": "markdown",
   "id": "a2ce15e4-79d8-4b73-bb3d-1636c6532819",
   "metadata": {},
   "source": [
    "## 28. Write a code to create a list with strings and print the element at the third index."
   ]
  },
  {
   "cell_type": "code",
   "execution_count": 47,
   "id": "66246bd9-b795-4a06-90bc-2ee70a796ec7",
   "metadata": {},
   "outputs": [
    {
     "name": "stdout",
     "output_type": "stream",
     "text": [
      "Element at index 3: date\n"
     ]
    }
   ],
   "source": [
    "# Create a list with strings\n",
    "fruits = [\"apple\", \"banana\", \"cherry\", \"date\", \"elderberry\"]\n",
    "\n",
    "# Access and print the element at index 3\n",
    "print(\"Element at index 3:\", fruits[3])\n"
   ]
  },
  {
   "cell_type": "markdown",
   "id": "589a4c3d-8bf0-4542-8cde-bbab15910db3",
   "metadata": {},
   "source": [
    "## 29. Write a code to combine two dictionaries into one and print the result."
   ]
  },
  {
   "cell_type": "code",
   "execution_count": 48,
   "id": "9cfe324a-b535-48d0-a67f-8dc977361421",
   "metadata": {},
   "outputs": [
    {
     "name": "stdout",
     "output_type": "stream",
     "text": [
      "Combined dictionary: {'name': 'Sanju', 'age': 25, 'city': 'Rajasthan', 'country': 'India'}\n"
     ]
    }
   ],
   "source": [
    "# Define two dictionaries\n",
    "dict1 = {'name': 'Sanju', 'age': 25}\n",
    "dict2 = {'city': 'Rajasthan', 'country': 'India'}\n",
    "\n",
    "# Combine dictionaries (Python 3.9+)\n",
    "combined_dict = dict1 | dict2\n",
    "\n",
    "# Print the combined dictionary\n",
    "print(\"Combined dictionary:\", combined_dict)\n"
   ]
  },
  {
   "cell_type": "markdown",
   "id": "a01a136e-fec4-4ea2-bb76-15e034f1d47a",
   "metadata": {},
   "source": [
    "## 30. Write a code to convert a list of strings into a set."
   ]
  },
  {
   "cell_type": "code",
   "execution_count": 49,
   "id": "6486d52a-017b-463b-97d6-d22d626eff35",
   "metadata": {},
   "outputs": [
    {
     "name": "stdout",
     "output_type": "stream",
     "text": [
      "Set: {'cherry', 'apple', 'banana'}\n"
     ]
    }
   ],
   "source": [
    "# Define a list of strings\n",
    "string_list = [\"apple\", \"banana\", \"apple\", \"cherry\", \"banana\"]\n",
    "\n",
    "# Convert the list to a set to remove duplicates\n",
    "string_set = set(string_list)\n",
    "\n",
    "# Print the set\n",
    "print(\"Set:\", string_set)\n"
   ]
  },
  {
   "cell_type": "code",
   "execution_count": null,
   "id": "3901fac2-27b0-4204-b42d-981261771f61",
   "metadata": {},
   "outputs": [],
   "source": []
  }
 ],
 "metadata": {
  "kernelspec": {
   "display_name": "Python 3 (ipykernel)",
   "language": "python",
   "name": "python3"
  },
  "language_info": {
   "codemirror_mode": {
    "name": "ipython",
    "version": 3
   },
   "file_extension": ".py",
   "mimetype": "text/x-python",
   "name": "python",
   "nbconvert_exporter": "python",
   "pygments_lexer": "ipython3",
   "version": "3.12.7"
  }
 },
 "nbformat": 4,
 "nbformat_minor": 5
}
