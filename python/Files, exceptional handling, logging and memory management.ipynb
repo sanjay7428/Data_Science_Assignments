{
 "cells": [
  {
   "cell_type": "markdown",
   "id": "a9caf58a-1c66-4317-9f77-d8a66aa4a23c",
   "metadata": {},
   "source": [
    "## Files, exceptional handling,logging and memory management"
   ]
  },
  {
   "cell_type": "markdown",
   "id": "b5d9e1bb-0065-4b99-8d0e-3a802f9f8ed2",
   "metadata": {},
   "source": [
    "## 1.  What is the difference between interpreted and compiled languages?"
   ]
  },
  {
   "cell_type": "markdown",
   "id": "9686d53b-16eb-44f5-8ec0-426d7933f85e",
   "metadata": {},
   "source": [
    "1. Compiled Languages\n",
    "\n",
    "Process:\n",
    "Source code → Compiler → Machine code → Executed by CPU\n",
    "\n",
    "The compiler translates the entire program into machine code before running it.\n",
    "\n",
    "Examples: C, C++, Rust, Go\n",
    "\n",
    "Pros:\n",
    "\n",
    "Faster execution (machine code runs directly on CPU)\n",
    "\n",
    "Optimizations by the compiler\n",
    "\n",
    "Cons:\n",
    "\n",
    "Must recompile after changes\n",
    "\n",
    "Less flexible for quick testing\n",
    "\n",
    "2. Interpreted Languages\n",
    "\n",
    "Process:\n",
    "Source code → Interpreter → Machine code (on the fly) → Executed by CPU\n",
    "\n",
    "The interpreter reads and executes the program line by line at runtime.\n",
    "\n",
    "Examples: Python, JavaScript, Ruby\n",
    "\n",
    "Pros:\n",
    "\n",
    "Easier to test and debug (run immediately)\n",
    "\n",
    "More flexible (good for scripting)\n",
    "\n",
    "Cons:\n",
    "\n",
    "Slower execution (extra step each time a line runs)\n",
    "\n",
    "More resource usage"
   ]
  },
  {
   "cell_type": "markdown",
   "id": "0366175b-1f29-4ace-a9ee-e7c16e53f79e",
   "metadata": {},
   "source": [
    "## 2. What is exception handling in Python?"
   ]
  },
  {
   "cell_type": "markdown",
   "id": "262966ca-396a-404d-ae9b-a5db24fd677e",
   "metadata": {},
   "source": [
    "Exception handling in Python is a way to manage errors so that your program doesn’t crash when something unexpected happens.\n",
    "Instead of stopping immediately when an error occurs, Python lets you catch the error, deal with it, and continue running.\n",
    "\n",
    "Keywords in Python Exception Handling\n",
    "\n",
    "try → Put risky code here.\n",
    "\n",
    "except → Code that runs if an exception happens.\n",
    "\n",
    "else → Runs if no exception occurs (optional).\n",
    "\n",
    "finally → Always runs, whether there’s an error or not (optional).\n",
    "\n",
    "Flow:\n",
    "Python runs code inside try.\n",
    "\n",
    "If an error occurs:\n",
    "\n",
    "It jumps to the matching except.\n",
    "\n",
    "If no error occurs:\n",
    "\n",
    "It skips except and runs else (if present).\n",
    "\n",
    "Afterward, it always runs finally (if present)."
   ]
  },
  {
   "cell_type": "markdown",
   "id": "b3b86947-fcbb-4ae3-9fa7-43bf35421b0c",
   "metadata": {},
   "source": [
    "## 3. What is the purpose of the finally block in exception handling?"
   ]
  },
  {
   "cell_type": "markdown",
   "id": "ee254598-1ec8-4282-9772-4f64fb20bd27",
   "metadata": {},
   "source": [
    "The finally block in Python’s exception handling is used to write code that must run no matter what happens — whether an exception occurs or not.\n",
    "\n",
    "Key points about finally:\n",
    "Runs always — after the try block and any except or else blocks.\n",
    "\n",
    "Commonly used for cleanup actions (closing files, releasing resources, disconnecting from a database, etc.).\n",
    "\n",
    "Executes even if:\n",
    "\n",
    "An exception occurs and is not caught\n",
    "\n",
    "The function has a return statement\n",
    "\n",
    "The program hits a break or continue inside try/except\n",
    "\n",
    "Purpose in one line:\n",
    "finally ensures necessary cleanup or final steps happen regardless of success or failure of the code in try."
   ]
  },
  {
   "cell_type": "markdown",
   "id": "0397344d-e845-4dc1-a718-89532c5fad6c",
   "metadata": {},
   "source": [
    "## 4. What is logging in Python?"
   ]
  },
  {
   "cell_type": "markdown",
   "id": "350d4235-3327-4964-a18c-035bb7f7c063",
   "metadata": {},
   "source": [
    "Logging in Python is a way to record messages about what your program is doing while it runs.\n",
    "It’s like keeping a journal for your code — useful for debugging, monitoring, and tracking issues without stopping the program.\n",
    "\n",
    "use logging instead of print():\n",
    "print() is only for quick checks; logging is for structured, permanent records.\n",
    "\n",
    "Logging lets you:\n",
    "\n",
    "Save messages to files\n",
    "\n",
    "Include timestamps, severity levels, and more\n",
    "\n",
    "Filter messages by importance\n",
    "\n",
    "Control output format and destination (file, console, network, etc.)\n",
    "\n",
    "Log Levels in Python\n",
    "From lowest to highest importance:\n",
    "\n",
    "DEBUG → Detailed information (for developers)\n",
    "\n",
    "INFO → General events (program running normally)\n",
    "\n",
    "WARNING → Something unexpected, but not a crash\n",
    "\n",
    "ERROR → A problem that caused part of the program to fail\n",
    "\n",
    "CRITICAL → A severe error that may stop the program"
   ]
  },
  {
   "cell_type": "markdown",
   "id": "ed6bea82-465b-450e-8c8b-5b4241dab970",
   "metadata": {},
   "source": [
    "## 5. What is the significance of the __del__ method in Python?"
   ]
  },
  {
   "cell_type": "markdown",
   "id": "b98e23d5-1172-48c3-979d-f8352fcded6f",
   "metadata": {},
   "source": [
    "In Python, the __del__ method is a special method (also called a destructor) that is called automatically when an object is about to be destroyed — usually when its reference count drops to zero and Python’s garbage collector is ready to free its memory.\n",
    "\n",
    "Purpose of __del__:\n",
    "To perform cleanup tasks before an object is deleted, such as:\n",
    "\n",
    "Closing files or network connections\n",
    "\n",
    "Releasing system resources\n",
    "\n",
    "Writing final log messages\n",
    "\n",
    "Similar to destructors in C++ but less commonly used in Python because Python has automatic garbage collection.\n",
    "\n",
    "Important Notes:\n",
    "__del__ is not guaranteed to be called immediately when you delete an object — it depends on garbage collection timing.\n",
    "\n",
    "In CPython (the most common Python implementation), it’s usually called right when the object’s reference count hits zero.\n",
    "\n",
    "Circular references may delay or prevent __del__ from running.\n",
    "\n",
    "For resource management, with statements and context managers are preferred over relying on __del__."
   ]
  },
  {
   "cell_type": "markdown",
   "id": "179b61a6-5b12-449d-bd48-b17d0a258fb2",
   "metadata": {},
   "source": [
    "## 6. What is the difference between import and from ... import in Python?"
   ]
  },
  {
   "cell_type": "markdown",
   "id": "d47f71f7-d83c-41f9-9217-1d191ef2ee52",
   "metadata": {},
   "source": [
    "The difference between import and from ... import in Python comes down to how you bring code from a module into your program and how you access it afterward.\n",
    "\n",
    "1. import statement\n",
    "Imports the entire module.\n",
    "\n",
    "You must use the module name to access its functions, classes, or variables\n",
    "\n",
    "Pros:\n",
    "\n",
    "Clear where each function comes from.\n",
    "\n",
    "Avoids naming conflicts.\n",
    "\n",
    "Cons:\n",
    "\n",
    "Slightly longer to type (math.sqrt instead of sqrt).\n",
    "\n",
    "2. from ... import statement\n",
    "Imports specific items from a module directly into your namespace.\n",
    "\n",
    "You can use them without the module name.\n",
    "\n",
    "Pros:\n",
    "\n",
    "Less typing.\n",
    "\n",
    "Can import only what you need.\n",
    "\n",
    "Cons:\n",
    "\n",
    "Risk of naming conflicts (if sqrt exists in multiple modules or your code)."
   ]
  },
  {
   "cell_type": "markdown",
   "id": "7d29f3b3-9051-43ab-96e3-913f936d5e43",
   "metadata": {},
   "source": [
    "## 7. How can you handle multiple exceptions in Python?"
   ]
  },
  {
   "cell_type": "markdown",
   "id": "b3b18ca5-f348-446d-8e68-e9dd3585e94f",
   "metadata": {},
   "source": [
    "You can handle multiple exceptions in Python in a few different ways, depending on how you want to respond to them.\n",
    "\n",
    "1. Multiple except blocks (recommended)\n",
    "Use separate blocks for each exception type so you can handle them differently:"
   ]
  },
  {
   "cell_type": "code",
   "execution_count": 2,
   "id": "8aaf62a3-f47a-427b-a40a-5602b2825776",
   "metadata": {},
   "outputs": [
    {
     "name": "stdin",
     "output_type": "stream",
     "text": [
      "Enter a number:  0\n"
     ]
    },
    {
     "name": "stdout",
     "output_type": "stream",
     "text": [
      "You cannot divide by zero.\n"
     ]
    }
   ],
   "source": [
    "try:\n",
    "    num = int(input(\"Enter a number: \"))\n",
    "    result = 10 / num\n",
    "except ValueError:\n",
    "    print(\"Please enter a valid number.\")\n",
    "except ZeroDivisionError:\n",
    "    print(\"You cannot divide by zero.\")\n"
   ]
  },
  {
   "cell_type": "markdown",
   "id": "d93b8d20-feef-4d50-9a54-4315f3e8bd28",
   "metadata": {},
   "source": [
    "2. Handling multiple exceptions in one block\n",
    "If you want the same handling for different exceptions, group them in parentheses:"
   ]
  },
  {
   "cell_type": "code",
   "execution_count": 3,
   "id": "859002e4-d06a-4355-866d-5dbac81cf4c4",
   "metadata": {},
   "outputs": [
    {
     "name": "stdin",
     "output_type": "stream",
     "text": [
      "Enter a number:  0\n"
     ]
    },
    {
     "name": "stdout",
     "output_type": "stream",
     "text": [
      "Invalid input or division by zero.\n"
     ]
    }
   ],
   "source": [
    "try:\n",
    "    num = int(input(\"Enter a number: \"))\n",
    "    result = 10 / num\n",
    "except (ValueError, ZeroDivisionError):\n",
    "    print(\"Invalid input or division by zero.\")\n"
   ]
  },
  {
   "cell_type": "markdown",
   "id": "53c49cd9-38cf-4316-b45d-be73f994fe2a",
   "metadata": {},
   "source": [
    "3. Catch all exceptions (use cautiously)\n",
    "This catches any exception, but it can hide real bugs if overused:"
   ]
  },
  {
   "cell_type": "code",
   "execution_count": 4,
   "id": "6b709008-0836-48e8-a012-57dd6157987a",
   "metadata": {},
   "outputs": [
    {
     "name": "stdin",
     "output_type": "stream",
     "text": [
      "Enter a number:  0\n"
     ]
    },
    {
     "name": "stdout",
     "output_type": "stream",
     "text": [
      "An error occurred: division by zero\n"
     ]
    }
   ],
   "source": [
    "try:\n",
    "    num = int(input(\"Enter a number: \"))\n",
    "    result = 10 / num\n",
    "except Exception as e:\n",
    "    print(f\"An error occurred: {e}\")\n"
   ]
  },
  {
   "cell_type": "markdown",
   "id": "5272c408-fa75-441b-be64-41bba3a2f62a",
   "metadata": {},
   "source": [
    "4. Using else and finally with multiple exceptions"
   ]
  },
  {
   "cell_type": "code",
   "execution_count": 5,
   "id": "06de36ee-ef44-4380-b029-b51f5e7fe3f6",
   "metadata": {},
   "outputs": [
    {
     "name": "stdin",
     "output_type": "stream",
     "text": [
      "Enter a number:  0\n"
     ]
    },
    {
     "name": "stdout",
     "output_type": "stream",
     "text": [
      "Cannot divide by zero.\n",
      "End of calculation.\n"
     ]
    }
   ],
   "source": [
    "try:\n",
    "    num = int(input(\"Enter a number: \"))\n",
    "    result = 10 / num\n",
    "except ValueError:\n",
    "    print(\"Not a valid number.\")\n",
    "except ZeroDivisionError:\n",
    "    print(\"Cannot divide by zero.\")\n",
    "else:\n",
    "    print(f\"Result is {result}\")\n",
    "finally:\n",
    "    print(\"End of calculation.\")\n"
   ]
  },
  {
   "cell_type": "markdown",
   "id": "63709f88-86a7-451a-a1df-bc9b7bbef65c",
   "metadata": {},
   "source": [
    "## 8. What is the purpose of the with statement when handling files in Python?"
   ]
  },
  {
   "cell_type": "markdown",
   "id": "8edf83b8-5161-4a0e-a68a-0f4668d0225e",
   "metadata": {},
   "source": [
    "The with statement in Python is used to automatically manage resources, especially when working with files.\n",
    "Its main purpose is to ensure that the file (or other resource) is properly closed after you’re done with it — even if an error occurs during processing.\n",
    "\n",
    "Benefits\n",
    "Automatic cleanup — Closes the file when leaving the block.\n",
    "\n",
    "Cleaner code — No need for explicit close() calls.\n",
    "\n",
    "Safer — Even if an error happens inside the block, Python will still close the file.\n",
    "\n",
    "How it works\n",
    "The object returned by open() supports the context manager protocol (__enter__ and __exit__ methods).\n",
    "\n",
    "When with starts, it calls __enter__ → gives you the file object.\n",
    "\n",
    "When the block ends, it calls __exit__ → closes the file automatically"
   ]
  },
  {
   "cell_type": "markdown",
   "id": "9ca1e5a6-3eb7-4861-8349-2d5ec08c99d4",
   "metadata": {},
   "source": [
    "## 9. What is the difference between multithreading and multiprocessing?"
   ]
  },
  {
   "cell_type": "markdown",
   "id": "98029542-d208-44e1-8149-9cc37f8a04c3",
   "metadata": {},
   "source": [
    "1. Multithreading\n",
    "\n",
    "Definition: Running multiple threads within the same process.\n",
    "\n",
    "Threads share the same memory space.\n",
    "\n",
    "Good for tasks that are I/O-bound (waiting for input/output, e.g., reading files, network requests).\n",
    "\n",
    "In CPython, the GIL (Global Interpreter Lock) means only one thread runs Python bytecode at a time, so CPU-bound tasks don’t gain much speed.\n",
    "\n",
    "Example use cases:\n",
    "\n",
    "Web scraping\n",
    "\n",
    "File reading/writing\n",
    "\n",
    "Network requests\n",
    "\n",
    "2. Multiprocessing\n",
    "                                   \n",
    "Definition: Running multiple processes, each with its own Python interpreter and separate memory.\n",
    "\n",
    "True parallelism for CPU-bound tasks.\n",
    "\n",
    "No GIL limitation because each process runs independently.\n",
    "\n",
    "More memory usage and process creation overhead.\n",
    "\n",
    "Example use cases:\n",
    "\n",
    "Data processing\n",
    "\n",
    "Machine learning training\n",
    "\n",
    "Image/video processing"
   ]
  },
  {
   "cell_type": "markdown",
   "id": "9cddebd7-c525-49b4-a61c-012c72393e2a",
   "metadata": {},
   "source": [
    "## 10. What are the advantages of using logging in a program?"
   ]
  },
  {
   "cell_type": "markdown",
   "id": "991815de-b705-4077-b943-8354fb618501",
   "metadata": {},
   "source": [
    "Advantages of Using Logging\n",
    "1. Keeps a Permanent Record\n",
    "Logs can be written to files, databases, or remote servers.\n",
    "\n",
    "Useful for debugging issues after the program has run.\n",
    "\n",
    "2. Different Levels of Importance\n",
    "You can classify messages by severity:\n",
    "\n",
    "DEBUG → Detailed internal info\n",
    "\n",
    "INFO → General events\n",
    "\n",
    "WARNING → Potential problems\n",
    "\n",
    "ERROR → Errors that occurred\n",
    "\n",
    "CRITICAL → Severe issues\n",
    "\n",
    "Helps filter out unimportant messages.\n",
    "\n",
    "3. Easier Debugging & Maintenance\n",
    "Shows what happened, when, and where in the code.\n",
    "\n",
    "Can include timestamps, function names, and line numbers.\n",
    "\n",
    "4. Flexible Output\n",
    "Can send logs to:\n",
    "\n",
    "Console\n",
    "\n",
    "File\n",
    "\n",
    "Email\n",
    "\n",
    "Web service\n",
    "\n",
    "All without changing your logging calls.\n",
    "\n",
    "5. Better than print() for Large Projects\n",
    "print() is only for temporary, manual debugging.\n",
    "\n",
    "Logging can be enabled, disabled, or filtered without removing code.\n",
    "\n",
    "Keeps debug info separate from normal program output.\n",
    "\n",
    "6. Safe for Production\n",
    "You can turn off or lower logging levels in production to avoid performance hits.\n",
    "\n",
    "Still keeps important error and activity history."
   ]
  },
  {
   "cell_type": "markdown",
   "id": "4934c44f-8372-4bfa-8e63-edc21a530e2c",
   "metadata": {},
   "source": [
    "## 11. What is memory management in Python?"
   ]
  },
  {
   "cell_type": "markdown",
   "id": "7a4900cf-fad8-48b8-8dc4-a25ef7deadc7",
   "metadata": {},
   "source": [
    "Memory management in Python refers to the process of efficiently allocating, using, and freeing memory during the execution of a Python program. It ensures that your program has enough memory to run without leaks or crashes.\n",
    "\n",
    "How Python manages memory:\n",
    "\n",
    "Automatic memory allocation:\n",
    "Python automatically allocates memory for objects (variables, data structures, etc.) when they are created.\n",
    "\n",
    "Reference counting:\n",
    "Each object keeps track of how many references point to it. When the reference count drops to zero (no references), the object’s memory can be reclaimed.\n",
    "\n",
    "Garbage collection:\n",
    "Python uses a garbage collector to detect and clean up circular references (objects referencing each other), which reference counting alone can’t handle.\n",
    "\n",
    "Memory pools and caching:\n",
    "Python manages small objects (like small integers, short strings) efficiently by using internal memory pools and caches to speed up allocation.\n",
    "\n"
   ]
  },
  {
   "cell_type": "markdown",
   "id": "0279b67e-cbdb-49ec-ae6b-5ea47a3e067a",
   "metadata": {},
   "source": [
    "## 12. What are the basic steps involved in exception handling in Python?"
   ]
  },
  {
   "cell_type": "markdown",
   "id": "cd74e27a-c400-47fa-a07b-3b343450fffd",
   "metadata": {},
   "source": [
    "1. Identify risky code\n",
    "Find the part of your code that might cause an error (e.g., file operations, user input, network calls).\n",
    "\n",
    "2. Wrap it in a try block\n",
    "Place the risky code inside a try block so Python can monitor it for exceptions."
   ]
  },
  {
   "cell_type": "code",
   "execution_count": null,
   "id": "9ea9aedf-9814-4b91-8719-69f812f189fc",
   "metadata": {},
   "outputs": [],
   "source": [
    "try:\n",
    "    num = int(input(\"Enter a number: \"))\n",
    "    result = 10 / num"
   ]
  },
  {
   "cell_type": "markdown",
   "id": "5bd5ac81-608f-4688-8c81-1e2fad615328",
   "metadata": {},
   "source": [
    "3. Handle errors with except\n",
    "Add one or more except blocks to catch and handle specific exceptions."
   ]
  },
  {
   "cell_type": "code",
   "execution_count": null,
   "id": "2d086a31-b00e-4822-873b-caf7bd145426",
   "metadata": {},
   "outputs": [],
   "source": [
    "except ValueError:\n",
    "    print(\"Please enter a valid number.\")\n",
    "except ZeroDivisionError:\n",
    "    print(\"You cannot divide by zero.\")\n"
   ]
  },
  {
   "cell_type": "markdown",
   "id": "c307a6c0-e7da-4b95-8894-117bc6884c2a",
   "metadata": {},
   "source": [
    "4. (Optional) Use else\n",
    "Code inside else runs only if no exception occurred."
   ]
  },
  {
   "cell_type": "code",
   "execution_count": null,
   "id": "d29e524e-3ef3-44db-b4a1-24bcb979cda3",
   "metadata": {},
   "outputs": [],
   "source": [
    "else:\n",
    "    print(f\"Result: {result}\")\n"
   ]
  },
  {
   "cell_type": "markdown",
   "id": "5639c21f-8cb4-4d28-8673-284a87069ba6",
   "metadata": {},
   "source": [
    "5.  Use finally\n",
    "Code inside finally runs no matter what — good for cleanup tasks."
   ]
  },
  {
   "cell_type": "code",
   "execution_count": null,
   "id": "5335074e-3fa2-41e5-a5ba-9e914e8617e8",
   "metadata": {},
   "outputs": [],
   "source": [
    "finally:\n",
    "    print(\"Execution finished.\")\n"
   ]
  },
  {
   "cell_type": "markdown",
   "id": "974bd5a8-aa4e-41ff-b957-f537e31398c8",
   "metadata": {},
   "source": [
    "## 13 Why is memory management important in Python?"
   ]
  },
  {
   "cell_type": "markdown",
   "id": "9a9809ea-e4bd-4966-89a1-3f75b5212d05",
   "metadata": {},
   "source": [
    "Memory management is important in Python because it directly affects your program’s performance, stability, and reliability.\n",
    "\n",
    "Key Reasons Why It Matters\n",
    "Prevents Memory Leaks\n",
    "\n",
    "If unused objects aren’t freed, your program’s memory usage will keep growing.\n",
    "\n",
    "This can slow down execution or even crash the program.\n",
    "\n",
    "Optimizes Performance\n",
    "\n",
    "Efficient memory use means less work for the CPU and faster execution.\n",
    "\n",
    "Python’s internal memory pools and garbage collector help reuse memory for small objects.\n",
    "\n",
    "Ensures Program Stability\n",
    "\n",
    "Poor memory management can lead to out of memory errors, causing unexpected termination.\n",
    "\n",
    "Especially important for long-running applications (servers, data pipelines).\n",
    "\n",
    "Enables Scalability\n",
    "\n",
    "When working with large datasets or many concurrent tasks, careful memory handling lets your program handle more data without slowing down.\n",
    "\n",
    "Supports Resource Management\n",
    "\n",
    "Memory is a limited resource — using it wisely ensures your program coexists well with other processes on the system."
   ]
  },
  {
   "cell_type": "markdown",
   "id": "99f89fa5-5c1e-4b1e-a1ed-b7b4a06f4e5b",
   "metadata": {},
   "source": [
    "## 14. What is the role of try and except in exception handling?"
   ]
  },
  {
   "cell_type": "markdown",
   "id": "d4343f72-7129-48c9-b755-2095b0a016fc",
   "metadata": {},
   "source": [
    "In Python exception handling, the try and except blocks work together to detect and handle errors without crashing the program.\n",
    "\n",
    "Role of try\n",
    "The try block contains code that might cause an exception (error).\n",
    "\n",
    "Python monitors this block while running — if an exception occurs, it stops executing the try block immediately and jumps to the matching except block.\n",
    "\n",
    "If no error occurs, the except block is skipped.\n",
    "\n",
    "Role of except\n",
    "The except block contains code that runs only if an exception occurs in the try block.\n",
    "\n",
    "You can catch:\n",
    "\n",
    "Specific exceptions (better practice)\n",
    "\n",
    "Multiple exceptions in one block\n",
    "\n",
    "All exceptions (use cautiously)"
   ]
  },
  {
   "cell_type": "markdown",
   "id": "842534a5-c5c1-4f7a-824b-c2b553d300d4",
   "metadata": {},
   "source": [
    "## 15. How does Python's garbage collection system work?"
   ]
  },
  {
   "cell_type": "markdown",
   "id": "1ef6c7de-9aab-421a-9420-f0dc7926e2e9",
   "metadata": {},
   "source": [
    "Python’s garbage collection (GC) system is responsible for automatically finding and freeing memory that is no longer being used by the program.\n",
    "It ensures your code doesn’t waste memory on unused objects.\n",
    "\n",
    "How it works (in CPython, the most common Python implementation)\n",
    "1. Reference Counting (Primary Mechanism)\n",
    "Every Python object keeps a reference count — the number of variables pointing to it.\n",
    "\n",
    "When the reference count drops to zero, Python immediately frees the memory for that object.\n",
    "\n",
    "\n",
    "2. Garbage Collector for Circular References\n",
    "Sometimes objects reference each other, creating a cycle.\n",
    "\n",
    "Example: Object A refers to Object B, and Object B refers back to A — even if nothing else references them.\n",
    "\n",
    "Reference counting alone won’t clean these up, so Python’s gc module runs a cycle detector that finds and removes such cycles.\n",
    "\n",
    "3. Generational Garbage Collection\n",
    "Python divides objects into generations:\n",
    "\n",
    "Generation 0 → Newly created objects\n",
    "\n",
    "Generation 1 → Survived one GC cycle\n",
    "\n",
    "Generation 2 → Long-lived objects\n",
    "\n",
    "Objects that survive multiple garbage collections are moved to older generations (checked less often) to improve performance.\n",
    "\n",
    "4. Manual Control\n",
    "You can inspect and control GC using the gc module:"
   ]
  },
  {
   "cell_type": "markdown",
   "id": "942486b1-fb09-48ca-9406-1f9089dd3af2",
   "metadata": {},
   "source": [
    "## 16. What is the purpose of the else block in exception handling?"
   ]
  },
  {
   "cell_type": "markdown",
   "id": "e31e4547-389f-4d56-acd5-c1bd7165e54d",
   "metadata": {},
   "source": [
    "Purpose of else\n",
    "Keeps your normal execution code separate from error-handling code.\n",
    "\n",
    "Improves readability by putting success logic in else and error handling in except.\n",
    "\n",
    "Runs after the try block if it finishes without raising any exception."
   ]
  },
  {
   "cell_type": "code",
   "execution_count": null,
   "id": "0c93054a-af28-4db8-b35f-14c27e019f6f",
   "metadata": {},
   "outputs": [],
   "source": [
    "try:\n",
    "    num = int(input(\"Enter a number: \"))\n",
    "    result = 10 / num\n",
    "except ValueError:\n",
    "    print(\"Please enter a valid number.\")\n",
    "except ZeroDivisionError:\n",
    "    print(\"You cannot divide by zero.\")\n",
    "else:\n",
    "    print(f\"The result is {result}\")\n"
   ]
  },
  {
   "cell_type": "markdown",
   "id": "7f9a2f64-5de8-4c5e-88a9-78f9b2990006",
   "metadata": {},
   "source": [
    "## 17. What are the common logging levels in Python?"
   ]
  },
  {
   "cell_type": "markdown",
   "id": "a985234f-e016-47ae-9346-c98b81c11ca7",
   "metadata": {},
   "source": [
    "DEBUG → Used for detailed diagnostic information, mainly for developers when debugging the program.\n",
    "\n",
    "INFO → Used to confirm that things are working as expected.\n",
    "\n",
    "WARNING → Indicates something unexpected happened or a potential issue, but the program can still run.\n",
    "\n",
    "ERROR → Indicates a serious problem that prevented part of the program from working.\n",
    "\n",
    "CRITICAL → Indicates a very severe error, likely causing the program to stop running"
   ]
  },
  {
   "cell_type": "markdown",
   "id": "6d8ab039-c65e-4ca5-a81d-4d0094cb2f4e",
   "metadata": {},
   "source": [
    "## 18. What is the difference between os.fork() and multiprocessing in Python?"
   ]
  },
  {
   "cell_type": "markdown",
   "id": "133dd820-1e67-4076-b641-11f96a0231c4",
   "metadata": {},
   "source": [
    "1. os.fork()\n",
    "What it does: Creates a new process by duplicating the current process (parent).\n",
    "\n",
    "Available only on Unix-like systems (Linux, macOS), not on Windows.\n",
    "\n",
    "The child process starts execution right after the os.fork() call.\n",
    "\n",
    "Lower-level and requires manual handling of inter-process communication (IPC).\n",
    "\n",
    "No automatic object sharing or pickling — you must use things like os.pipe() or sockets.\n",
    "\n",
    "2. multiprocessing module\n",
    "What it does: Provides a high-level API to create and manage processes.\n",
    "\n",
    "Works on both Unix and Windows.\n",
    "\n",
    "Uses os.fork() internally on Unix but uses the Windows API on Windows.\n",
    "\n",
    "Handles pickling/unpickling to pass objects between processes automatically.\n",
    "\n",
    "Includes built-in tools for queues, pipes, locks, and pools."
   ]
  },
  {
   "cell_type": "markdown",
   "id": "8b117e94-8477-4295-ace7-b38d314a68a9",
   "metadata": {},
   "source": [
    "## 19. What is the importance of closing a file in Python?"
   ]
  },
  {
   "cell_type": "markdown",
   "id": "a8f851a8-86cd-457e-abcb-b65b1979abed",
   "metadata": {},
   "source": [
    "Main reasons why closing a file matters\n",
    "Flushes Data to Disk\n",
    "\n",
    "When you write to a file, Python often stores the data in a temporary buffer before writing it to disk.\n",
    "\n",
    "Closing the file makes sure any remaining data in the buffer is actually saved.\n",
    "\n",
    "Frees System Resources\n",
    "\n",
    "Every open file consumes an operating system file descriptor (a limited resource).\n",
    "\n",
    "Closing files prevents running out of available file handles.\n",
    "\n",
    "Prevents Data Corruption\n",
    "\n",
    "If a file remains open, especially for writing, an unexpected program crash could leave it incomplete or corrupted.\n",
    "\n",
    "Good Programming Practice\n",
    "\n",
    "It makes your code cleaner and reduces the chance of accidental errors."
   ]
  },
  {
   "cell_type": "markdown",
   "id": "1e32c627-15eb-49ea-b271-3fe97150791e",
   "metadata": {},
   "source": [
    "## 20. What is the difference between file.read() and file.readline() in Python?"
   ]
  },
  {
   "cell_type": "markdown",
   "id": "75bc3dca-14b1-4093-81b2-1eb52e0dfb63",
   "metadata": {},
   "source": [
    "1. file.read()\n",
    "Reads the entire file by default, or up to the number of bytes/characters you specify.\n",
    "\n",
    "Moves the file pointer forward by the amount read.\n",
    "\n",
    "Can return a large string if the file is big.\n",
    "\n",
    "2. file.readline()\n",
    "Reads only one line from the file at a time.\n",
    "\n",
    "Stops at a newline character (\\n) or end of file.\n",
    "\n",
    "Useful for reading files line-by-line without loading the whole file into memory."
   ]
  },
  {
   "cell_type": "markdown",
   "id": "5c0a4c57-4e91-4dc4-804f-c1cfdd5446ad",
   "metadata": {},
   "source": [
    "## 21. What is the logging module in Python used for?"
   ]
  },
  {
   "cell_type": "markdown",
   "id": "f8b86512-cf4c-4b3c-b4d3-4e90fda14bfe",
   "metadata": {},
   "source": [
    "The logging module in Python is used to record messages about a program’s execution. It helps developers track events, debug issues, and monitor the program without using print() statements.\n",
    "\n",
    "Purpose of the logging module\n",
    "Record program events:\n",
    "You can log messages for debugging, information, warnings, errors, or critical issues.\n",
    "\n",
    "Track issues and errors:\n",
    "Logs help identify what went wrong, when, and where in the code.\n",
    "\n",
    "Control message importance:\n",
    "Supports different logging levels (DEBUG, INFO, WARNING, ERROR, CRITICAL) so you can filter messages based on severity.\n",
    "\n",
    "Flexible output:\n",
    "You can send logs to:\n",
    "\n",
    "The console\n",
    "\n",
    "Files\n",
    "\n",
    "External systems (servers, databases, etc.)\n",
    "\n",
    "Better than print():\n",
    "\n",
    "Can include timestamps, severity, and context.\n",
    "\n",
    "Messages can be turned on/off without changing the code"
   ]
  },
  {
   "cell_type": "markdown",
   "id": "b09f6b2c-041e-4c85-8dd2-6eefcddcb802",
   "metadata": {},
   "source": [
    "## 22. What is the os module in Python used for in file handling?"
   ]
  },
  {
   "cell_type": "markdown",
   "id": "5ade86b6-4176-499a-bafa-e1ee03518a8e",
   "metadata": {},
   "source": [
    "The os module in Python provides functions to interact with the operating system, and it’s widely used in file handling and directory management.\n",
    "\n",
    "Common Uses of os in File Handling"
   ]
  },
  {
   "cell_type": "code",
   "execution_count": null,
   "id": "6fa0bdd4-affa-46da-b4cc-0337a6d5df82",
   "metadata": {},
   "outputs": [],
   "source": [
    "#Check if a file or directory exists\n",
    "\n",
    "\n",
    "import os\n",
    "print(os.path.exists(\"data.txt\"))   # True if file exists\n",
    "#Create or remove directories\n",
    "\n",
    "\n",
    "os.mkdir(\"new_folder\")   # Create a new directory\n",
    "os.rmdir(\"new_folder\")   # Remove an empty directory\n",
    "#List files and directories\n",
    "\n",
    "\n",
    "print(os.listdir(\".\"))   # List all files/folders in the current directory\n",
    "#Get file information\n",
    "\n",
    "\n",
    "print(os.path.isfile(\"data.txt\"))   # True if it's a file\n",
    "print(os.path.getsize(\"data.txt\"))  # Get file size in bytes\n",
    "#Rename or delete files\n",
    "\n",
    "\n",
    "os.rename(\"old.txt\", \"new.txt\")     # Rename a file\n",
    "os.remove(\"new.txt\")                # Delete a file\n",
    "#Work with file paths\n",
    "\n",
    "\n",
    "print(os.path.join(\"folder\", \"file.txt\"))  # Cross-platform path\n",
    "print(os.path.abspath(\"data.txt\"))         # Absolute path"
   ]
  },
  {
   "cell_type": "markdown",
   "id": "7e01a29a-1b71-4fce-8849-c1404730e16f",
   "metadata": {},
   "source": [
    "## 23. What are the challenges associated with memory management in Python?"
   ]
  },
  {
   "cell_type": "markdown",
   "id": "6262ba35-1302-4725-b992-52bd0a1196c3",
   "metadata": {},
   "source": [
    "Memory management in Python is mostly automatic, but it still comes with some challenges that developers should be aware of:\n",
    "\n",
    "1. Circular References\n",
    "Objects referencing each other can create cycles.\n",
    "\n",
    "Simple reference counting can’t free them immediately.\n",
    "\n",
    "Python uses a garbage collector to detect cycles, but it may not run immediately, causing temporary memory retention.\n",
    "\n",
    "Example:\n",
    "\n",
    "\n",
    "a = []\n",
    "b = [a]\n",
    "a.append(b)  # Circular reference\n",
    "2. High Memory Usage\n",
    "Python objects carry extra metadata, so they often use more memory than equivalent C structures.\n",
    "\n",
    "Large datasets or many objects can quickly consume system memory.\n",
    "\n",
    "3. Delayed Garbage Collection\n",
    "The garbage collector runs periodically, so memory may not be released immediately after an object is no longer used.\n",
    "\n",
    "In long-running applications, this can lead to memory bloat if not monitored.\n",
    "\n",
    "4. Memory Leaks\n",
    "Even with garbage collection, improper code can cause memory leaks, e.g.,:\n",
    "\n",
    "Holding references to objects in global lists or caches\n",
    "\n",
    "Unreleased resources like file handles or sockets\n",
    "\n",
    "5. Large Object Overhead\n",
    "Creating many small objects (like small strings or numbers) repeatedly can increase overhead and slow performance.\n",
    "\n",
    "6. Platform Limitations\n",
    "Python’s memory manager relies on the underlying OS memory allocation.\n",
    "\n",
    "On memory-constrained systems, Python may hit limits, causing crashes or poor performance."
   ]
  },
  {
   "cell_type": "markdown",
   "id": "6edc6281-18de-4d0e-9628-42c97b9c75e5",
   "metadata": {},
   "source": [
    "## 24.  How do you raise an exception manually in Python?"
   ]
  },
  {
   "cell_type": "markdown",
   "id": "a848b0b4-490b-4b85-b33a-d820c0e71d4a",
   "metadata": {},
   "source": [
    "you can raise an exception manually using the raise keyword. This allows you to trigger an error intentionally when certain conditions are met.\n",
    "\n",
    "\n",
    "\n",
    "The string is an optional error message describing the problem."
   ]
  },
  {
   "cell_type": "code",
   "execution_count": null,
   "id": "46a24fcb-f8a3-42fb-a32f-0ee7e4788b1d",
   "metadata": {},
   "outputs": [],
   "source": [
    "#Basic Syntax\n",
    "\n",
    "raise ExceptionType(\"Error message\")\n",
    "ExceptionType can be any built-in exception (like ValueError, TypeError, etc.) or a custom exception."
   ]
  },
  {
   "cell_type": "markdown",
   "id": "dd419954-1ded-4df6-bea5-9e68b97e5b0b",
   "metadata": {},
   "source": [
    "## 25. Why is it important to use multithreading in certain applications?"
   ]
  },
  {
   "cell_type": "markdown",
   "id": "679ec2f3-dd28-4216-93db-b2f766149850",
   "metadata": {},
   "source": [
    "Multithreading is important in certain applications because it allows a program to perform multiple tasks concurrently, improving performance and responsiveness, especially for I/O-bound or high-latency operations.\n",
    "\n",
    "Key Reasons to Use Multithreading\n",
    "Improves Responsiveness\n",
    "\n",
    "In GUI or interactive applications, one thread can handle user input while another performs a long-running task.\n",
    "\n",
    "Example: A media player can keep responding to user clicks while loading a song.\n",
    "\n",
    "Efficient I/O Operations\n",
    "\n",
    "Threads can wait for network requests, file reads/writes, or database queries without blocking the entire program.\n",
    "\n",
    "Example: Web servers handling multiple client requests simultaneously.\n",
    "\n",
    "Resource Sharing\n",
    "\n",
    "Threads share the same memory space, making it easier to share data between tasks compared to multiple processes.\n",
    "\n",
    "Better Utilization of CPU During I/O Wait\n",
    "\n",
    "While one thread is waiting for I/O, another thread can continue executing, reducing idle time.\n",
    "\n",
    "Simpler than Multiprocessing for Some Tasks\n",
    "\n",
    "For tasks that are mostly I/O-bound rather than CPU-bound, multithreading avoids the overhead of creating multiple processes."
   ]
  },
  {
   "cell_type": "markdown",
   "id": "13e639ce-9a58-4a79-afda-4ccf633d3869",
   "metadata": {},
   "source": [
    "## Practical Questions"
   ]
  },
  {
   "cell_type": "markdown",
   "id": "7ba6fbc0-a16c-431a-b56b-9eb143246ef2",
   "metadata": {},
   "source": [
    "## 1. How can you open a file for writing in Python and write a string to it?"
   ]
  },
  {
   "cell_type": "code",
   "execution_count": 11,
   "id": "b432987b-f5a3-4cbe-a4fc-43d467dfebc3",
   "metadata": {},
   "outputs": [],
   "source": [
    "# Open a file for writing and write a string to it\n",
    "\n",
    "# Using basic open() and close()\n",
    "f = open(\"example.txt\", \"w\")   # 'w' mode to write (overwrites if file exists)\n",
    "f.write(\"Hello, World!\\n\")     # Write a string to the file\n",
    "f.close()                      # Close the file to save changes\n",
    "\n",
    "# Using 'with' statement (recommended)\n",
    "with open(\"example.txt\", \"w\") as f:\n",
    "    f.write(\"Hello, World!\\n\")  # Automatically closes the file after the block\n"
   ]
  },
  {
   "cell_type": "markdown",
   "id": "252d3c94-46dc-491c-9a53-7eee811a8c51",
   "metadata": {},
   "source": [
    "## 2. Write a Python program to read the contents of a file and print each line?"
   ]
  },
  {
   "cell_type": "code",
   "execution_count": 1,
   "id": "c3357ab5-27a2-43ea-89e2-6f7b56a285c6",
   "metadata": {},
   "outputs": [
    {
     "name": "stdout",
     "output_type": "stream",
     "text": [
      "Hello, World!\n"
     ]
    }
   ],
   "source": [
    "# Python program to read the contents of a file and print each line\n",
    "\n",
    "# Using 'with' to ensure the file closes automatically\n",
    "with open(\"example.txt\", \"r\") as f:   # 'r' mode to read\n",
    "    for line in f:\n",
    "        print(line.strip())  # strip() removes extra spaces/newline characters\n"
   ]
  },
  {
   "cell_type": "markdown",
   "id": "b895b327-06c3-4124-88b6-11895d7c571a",
   "metadata": {},
   "source": [
    "## 3. How would you handle a case where the file doesn't exist while trying to open it for reading?"
   ]
  },
  {
   "cell_type": "code",
   "execution_count": 4,
   "id": "2e81379a-b80c-4771-8c1f-dd0ee57d8e1d",
   "metadata": {},
   "outputs": [
    {
     "name": "stdout",
     "output_type": "stream",
     "text": [
      "Error: The file was not found. Please check the file name or path.\n"
     ]
    }
   ],
   "source": [
    "# Handling case where file doesn't exist\n",
    "try:\n",
    "    with open(\"example.txt1\", \"r\") as f:\n",
    "        for line in f:\n",
    "            print(line.strip())\n",
    "except FileNotFoundError:\n",
    "    print(\"Error: The file was not found. Please check the file name or path.\")\n"
   ]
  },
  {
   "cell_type": "markdown",
   "id": "b77f8330-a427-46e2-ae66-3202812abdf7",
   "metadata": {},
   "source": [
    "## 4. Write a Python script that reads from one file and writes its content to another file?"
   ]
  },
  {
   "cell_type": "code",
   "execution_count": 6,
   "id": "09868fe8-4ac7-4105-8b04-0a268e50c110",
   "metadata": {},
   "outputs": [
    {
     "name": "stdout",
     "output_type": "stream",
     "text": [
      "File copied successfully!\n"
     ]
    }
   ],
   "source": [
    "# Python script to copy contents from one file to another\n",
    "\n",
    "# Read from source file and write to destination file\n",
    "try:\n",
    "    with open(\"example.txt\", \"r\") as src:       # Open source file in read mode\n",
    "        with open(\"destination.txt\", \"w\") as dest:  # Open destination file in write mode\n",
    "            for line in src:\n",
    "                dest.write(line)  # Write each line to destination\n",
    "    print(\"File copied successfully!\")\n",
    "except FileNotFoundError:\n",
    "    print(\"Error: Source file not found.\")\n"
   ]
  },
  {
   "cell_type": "markdown",
   "id": "f60a09b9-a0f5-415f-94ec-a2b742a43004",
   "metadata": {},
   "source": [
    "## 5. How would you catch and handle division by zero error in Python?"
   ]
  },
  {
   "cell_type": "code",
   "execution_count": 7,
   "id": "bc2ca719-a65d-45c7-812d-9e6103e55e9d",
   "metadata": {},
   "outputs": [
    {
     "name": "stdout",
     "output_type": "stream",
     "text": [
      "Error: Division by zero is not allowed.\n"
     ]
    }
   ],
   "source": [
    "# Handling division by zero\n",
    "try:\n",
    "    num1 = 10\n",
    "    num2 = 0\n",
    "    result = num1 / num2\n",
    "    print(\"Result:\", result)\n",
    "except ZeroDivisionError:\n",
    "    print(\"Error: Division by zero is not allowed.\")\n"
   ]
  },
  {
   "cell_type": "markdown",
   "id": "01d61d68-9342-478f-8ba1-1814e46d0ca7",
   "metadata": {},
   "source": [
    "## 6. Write a Python program that logs an error message to a log file when a division by zero exception occur?"
   ]
  },
  {
   "cell_type": "code",
   "execution_count": 8,
   "id": "2886f419-54ee-4ca6-acf1-5848c0b34a47",
   "metadata": {},
   "outputs": [
    {
     "name": "stdout",
     "output_type": "stream",
     "text": [
      "Error: Division by zero. Check error.log for details.\n"
     ]
    }
   ],
   "source": [
    "import logging\n",
    "\n",
    "# Configure logging to write to a file\n",
    "logging.basicConfig(filename=\"error.log\",\n",
    "                    level=logging.ERROR,\n",
    "                    format=\"%(asctime)s - %(levelname)s - %(message)s\")\n",
    "\n",
    "# Division with error handling\n",
    "try:\n",
    "    num1 = 10\n",
    "    num2 = 0\n",
    "    result = num1 / num2\n",
    "except ZeroDivisionError as e:\n",
    "    logging.error(\"Division by zero occurred: %s\", e)\n",
    "    print(\"Error: Division by zero. Check error.log for details.\")\n"
   ]
  },
  {
   "cell_type": "markdown",
   "id": "e170f486-6ce7-46ee-82a1-8b9f8afe47fb",
   "metadata": {},
   "source": [
    "## 7. How do you log information at different levels (INFO, ERROR, WARNING) in Python using the logging module?"
   ]
  },
  {
   "cell_type": "code",
   "execution_count": 10,
   "id": "526c5768-de3a-4324-b322-45d32b3f243a",
   "metadata": {},
   "outputs": [],
   "source": [
    "import logging\n",
    "\n",
    "# Configure logging\n",
    "logging.basicConfig(filename=\"app.log\",\n",
    "                    level=logging.DEBUG,  # Capture all levels\n",
    "                    format=\"%(asctime)s - %(levelname)s - %(message)s\")\n",
    "\n",
    "# Logging at different levels\n",
    "logging.debug(\"This is a DEBUG message – useful for developers.\")\n",
    "logging.info(\"This is an INFO message – general information.\")\n",
    "logging.warning(\"This is a WARNING message – something might be wrong.\")\n",
    "logging.error(\"This is an ERROR message – an error occurred.\")\n",
    "logging.critical(\"This is a CRITICAL message – serious error.\")\n"
   ]
  },
  {
   "cell_type": "markdown",
   "id": "2902fd30-6cc6-4008-a55c-67523b0f3a63",
   "metadata": {},
   "source": [
    "## 8. Write a program to handle a file opening error using exception handling?"
   ]
  },
  {
   "cell_type": "code",
   "execution_count": 11,
   "id": "204c1a26-933e-4449-8195-30c48f0b5de5",
   "metadata": {},
   "outputs": [
    {
     "name": "stdout",
     "output_type": "stream",
     "text": [
      "Error: The file does not exist. Please check the file name or path.\n"
     ]
    }
   ],
   "source": [
    "# Program to handle file opening error\n",
    "\n",
    "try:\n",
    "    # Attempt to open a file\n",
    "    with open(\"non_existing_file.txt\", \"r\") as file:\n",
    "        content = file.read()\n",
    "        print(content)\n",
    "\n",
    "except FileNotFoundError:\n",
    "    print(\"Error: The file does not exist. Please check the file name or path.\")\n"
   ]
  },
  {
   "cell_type": "markdown",
   "id": "fa815d43-8ba5-434f-ad3a-d47201ed7389",
   "metadata": {},
   "source": [
    "## 9. How can you read a file line by line and store its content in a list in Python?"
   ]
  },
  {
   "cell_type": "code",
   "execution_count": 13,
   "id": "5381b26a-13d4-4162-9535-defbe69966ec",
   "metadata": {},
   "outputs": [
    {
     "name": "stdout",
     "output_type": "stream",
     "text": [
      "['Hello, World!\\n']\n"
     ]
    }
   ],
   "source": [
    "# Read file line by line into a list\n",
    "with open(\"example.txt\", \"r\") as file:\n",
    "    lines = file.readlines()  # Reads all lines into a list\n",
    "\n",
    "print(lines)  # List containing each line as an element\n"
   ]
  },
  {
   "cell_type": "markdown",
   "id": "2c903c21-662c-48ab-8c6d-e68f7fff8963",
   "metadata": {},
   "source": [
    "## 10. How can you append data to an existing file in Python"
   ]
  },
  {
   "cell_type": "code",
   "execution_count": 14,
   "id": "fbe06982-6147-4e2c-bf9e-ce455c4af380",
   "metadata": {},
   "outputs": [],
   "source": [
    "# Append data to a file\n",
    "with open(\"example.txt\", \"a\") as file:\n",
    "    file.write(\"This is a new line.\\n\")\n",
    "    file.write(\"Appending another line.\\n\")\n"
   ]
  },
  {
   "cell_type": "markdown",
   "id": "1983d04b-eff7-41a3-9f8a-40ef26c4e158",
   "metadata": {},
   "source": [
    "## 11. Write a Python program that uses a try-except block to handle an error when attempting to access a dictionary key that doesn't exist?"
   ]
  },
  {
   "cell_type": "code",
   "execution_count": 16,
   "id": "9dfd929a-b819-47a1-96fd-fe0c93a861df",
   "metadata": {},
   "outputs": [
    {
     "name": "stdout",
     "output_type": "stream",
     "text": [
      "Error: The key 'city' does not exist in the dictionary.\n"
     ]
    }
   ],
   "source": [
    "# Dictionary example\n",
    "my_dict = {\"name\": \"Sanjay\", \"age\": 25}\n",
    "\n",
    "try:\n",
    "    # Attempt to access a key that might not exist\n",
    "    print(\"City:\", my_dict[\"city\"])\n",
    "except KeyError:\n",
    "    print(\"Error: The key 'city' does not exist in the dictionary.\")\n"
   ]
  },
  {
   "cell_type": "markdown",
   "id": "5d007c8f-633b-4c95-b1e0-891dffff9fb1",
   "metadata": {},
   "source": [
    "## 12. Write a program that demonstrates using multiple except blocks to handle different types of exceptions?"
   ]
  },
  {
   "cell_type": "code",
   "execution_count": 17,
   "id": "812d77f1-050e-4db1-9462-7b7f321691bd",
   "metadata": {},
   "outputs": [
    {
     "name": "stdin",
     "output_type": "stream",
     "text": [
      "Enter a number:  4\n",
      "Enter another number:  0\n"
     ]
    },
    {
     "name": "stdout",
     "output_type": "stream",
     "text": [
      "Error: Division by zero is not allowed.\n"
     ]
    }
   ],
   "source": [
    "# Demonstrate multiple exception handling\n",
    "try:\n",
    "    num1 = int(input(\"Enter a number: \"))\n",
    "    num2 = int(input(\"Enter another number: \"))\n",
    "    result = num1 / num2\n",
    "    print(\"Result:\", result)\n",
    "\n",
    "except ValueError:\n",
    "    print(\"Error: Invalid input. Please enter a valid integer.\")\n",
    "\n",
    "except ZeroDivisionError:\n",
    "    print(\"Error: Division by zero is not allowed.\")\n",
    "\n",
    "except Exception as e:\n",
    "    print(\"An unexpected error occurred:\", e)\n"
   ]
  },
  {
   "cell_type": "markdown",
   "id": "6c572324-3aac-4bc1-bcf5-f56462ed32ae",
   "metadata": {},
   "source": [
    "## 13. How would you check if a file exists before attempting to read it in Python?"
   ]
  },
  {
   "cell_type": "code",
   "execution_count": 18,
   "id": "45443492-3688-463f-a3bf-c24db5cf7eb6",
   "metadata": {},
   "outputs": [
    {
     "name": "stdout",
     "output_type": "stream",
     "text": [
      "Hello, World!\n",
      "This is a new line.\n",
      "Appending another line.\n",
      "\n"
     ]
    }
   ],
   "source": [
    "import os\n",
    "\n",
    "if os.path.exists(\"example.txt\"):\n",
    "    with open(\"example.txt\", \"r\") as file:\n",
    "        content = file.read()\n",
    "        print(content)\n",
    "else:\n",
    "    print(\"Error: The file does not exist.\")\n"
   ]
  },
  {
   "cell_type": "markdown",
   "id": "3b72e34e-8404-42f5-a9f0-58fb2aa61ac4",
   "metadata": {},
   "source": [
    "## 14. Write a program that uses the logging module to log both informational and error messages?"
   ]
  },
  {
   "cell_type": "code",
   "execution_count": 19,
   "id": "3335b15c-d4c5-4ecf-89a4-1ba13dbdc28a",
   "metadata": {},
   "outputs": [],
   "source": [
    "import logging\n",
    "\n",
    "# Configure logging\n",
    "logging.basicConfig(\n",
    "    filename=\"app.log\",           # Log file name\n",
    "    level=logging.DEBUG,           # Capture all levels DEBUG and above\n",
    "    format=\"%(asctime)s - %(levelname)s - %(message)s\"\n",
    ")\n",
    "\n",
    "# Log an informational message\n",
    "logging.info(\"Program started successfully.\")\n",
    "\n",
    "try:\n",
    "    # Example operation\n",
    "    num1 = 10\n",
    "    num2 = 0\n",
    "    result = num1 / num2\n",
    "except ZeroDivisionError as e:\n",
    "    # Log an error message\n",
    "    logging.error(\"Division by zero error occurred: %s\", e)\n",
    "\n",
    "# Log another informational message\n",
    "logging.info(\"Program ended.\")\n"
   ]
  },
  {
   "cell_type": "markdown",
   "id": "13be7371-3adc-4ed8-85c5-cad5da838b26",
   "metadata": {},
   "source": [
    "## 15. Write a Python program that prints the content of a file and handles the case when the file is empty?"
   ]
  },
  {
   "cell_type": "code",
   "execution_count": 22,
   "id": "8fd75aba-d151-4240-aa86-00a621ce5ebc",
   "metadata": {},
   "outputs": [],
   "source": [
    "# Create an empty file\n",
    "with open(\"empty_file.txt\", \"w\") as file:\n",
    "    pass  # Do nothing, just create the file\n"
   ]
  },
  {
   "cell_type": "code",
   "execution_count": 23,
   "id": "7c01a79f-9fc3-4cfc-b9d8-be03af8fb6d6",
   "metadata": {},
   "outputs": [
    {
     "name": "stdout",
     "output_type": "stream",
     "text": [
      "The file is empty.\n"
     ]
    }
   ],
   "source": [
    "# Program to read a file and handle empty file\n",
    "try:\n",
    "    with open(\"empty_file.txt\", \"r\") as file:\n",
    "        content = file.read()  # Read the entire file\n",
    "        if content:            # Check if file is not empty\n",
    "            print(content)\n",
    "        else:\n",
    "            print(\"The file is empty.\")\n",
    "except FileNotFoundError:\n",
    "    print(\"Error: The file does not exist.\")\n"
   ]
  },
  {
   "cell_type": "markdown",
   "id": "3a73068b-b654-4a26-846f-4e41c9b14197",
   "metadata": {},
   "source": [
    "## 16. Demonstrate how to use memory profiling to check the memory usage of a small program?"
   ]
  },
  {
   "cell_type": "code",
   "execution_count": 25,
   "id": "2ee12b2f-ca4b-43d5-a8d3-565bb3794ee8",
   "metadata": {},
   "outputs": [
    {
     "name": "stdout",
     "output_type": "stream",
     "text": [
      "Collecting memory-profiler\n",
      "  Downloading memory_profiler-0.61.0-py3-none-any.whl.metadata (20 kB)\n",
      "Requirement already satisfied: psutil in c:\\users\\lenovo\\anaconda3\\lib\\site-packages (from memory-profiler) (5.9.0)\n",
      "Downloading memory_profiler-0.61.0-py3-none-any.whl (31 kB)\n",
      "Installing collected packages: memory-profiler\n",
      "Successfully installed memory-profiler-0.61.0\n",
      "Note: you may need to restart the kernel to use updated packages.\n"
     ]
    }
   ],
   "source": [
    "pip install memory-profiler\n"
   ]
  },
  {
   "cell_type": "code",
   "execution_count": null,
   "id": "ded662b4-0baf-4e56-bf03-bd07039fa6ed",
   "metadata": {},
   "outputs": [],
   "source": [
    "from memory_profiler import profile\n",
    "\n",
    "@profile\n",
    "def my_function():\n",
    "    data = [i for i in range(100000)]  # Allocate a list\n",
    "    squared = [i**2 for i in data]     # Compute squares\n",
    "    return squared\n",
    "\n",
    "if __name__ == \"__main__\":\n",
    "    my_function()\n"
   ]
  },
  {
   "cell_type": "markdown",
   "id": "dbdd0b90-0393-4dc7-9d96-cc174d4cc072",
   "metadata": {},
   "source": [
    "## 17. Write a Python program to create and write a list of numbers to a file, one number per line"
   ]
  },
  {
   "cell_type": "code",
   "execution_count": 27,
   "id": "df96182e-3b88-41c3-8e2c-c9441747795f",
   "metadata": {},
   "outputs": [
    {
     "name": "stdout",
     "output_type": "stream",
     "text": [
      "Numbers have been written to numbers.txt\n"
     ]
    }
   ],
   "source": [
    "# List of numbers\n",
    "numbers = [10, 20, 30, 40, 50]\n",
    "\n",
    "# Open file in write mode\n",
    "with open(\"numbers.txt\", \"w\") as file:\n",
    "    for num in numbers:\n",
    "        file.write(f\"{num}\\n\")  # Write each number followed by a newline\n",
    "\n",
    "print(\"Numbers have been written to numbers.txt\")\n"
   ]
  },
  {
   "cell_type": "markdown",
   "id": "70f2c752-979c-4926-8b17-719f13b9b9a4",
   "metadata": {},
   "source": [
    "## 18. How would you implement a basic logging setup that logs to a file with rotation after 1MB?"
   ]
  },
  {
   "cell_type": "code",
   "execution_count": 28,
   "id": "e9112a90-09c0-43a8-925e-d928a7a1be3a",
   "metadata": {},
   "outputs": [],
   "source": [
    "import logging\n",
    "from logging.handlers import RotatingFileHandler\n",
    "\n",
    "# Create a logger\n",
    "logger = logging.getLogger(\"MyLogger\")\n",
    "logger.setLevel(logging.DEBUG)  # Log all levels DEBUG and above\n",
    "\n",
    "# Create a rotating file handler\n",
    "handler = RotatingFileHandler(\n",
    "    \"app.log\",      # Log file name\n",
    "    maxBytes=1_000_000,  # 1 MB\n",
    "    backupCount=3        # Keep last 3 log files\n",
    ")\n",
    "\n",
    "# Set a log format\n",
    "formatter = logging.Formatter(\"%(asctime)s - %(levelname)s - %(message)s\")\n",
    "handler.setFormatter(formatter)\n",
    "\n",
    "# Add the handler to the logger\n",
    "logger.addHandler(handler)\n",
    "\n",
    "# Example logs\n",
    "logger.info(\"Program started\")\n",
    "logger.warning(\"This is a warning\")\n",
    "logger.error(\"This is an error\")\n"
   ]
  },
  {
   "cell_type": "markdown",
   "id": "88be01af-e4de-4896-826c-dc90e9922ec7",
   "metadata": {},
   "source": [
    "## 19. Write a program that handles both IndexError and KeyError using a try-except block?"
   ]
  },
  {
   "cell_type": "code",
   "execution_count": 30,
   "id": "6095b27d-bc8f-465f-8fe3-056cba6760a2",
   "metadata": {},
   "outputs": [
    {
     "name": "stdout",
     "output_type": "stream",
     "text": [
      "Error: Tried to access an index that does not exist in the list.\n"
     ]
    }
   ],
   "source": [
    "# Example list and dictionary\n",
    "my_list = [1, 2, 3]\n",
    "my_dict = {\"name\": \"Sanjay\", \"age\": 25}\n",
    "\n",
    "try:\n",
    "    # Attempt to access an invalid list index\n",
    "    print(my_list[5])\n",
    "    \n",
    "    # Attempt to access a non-existent dictionary key\n",
    "    print(my_dict[\"city\"])\n",
    "\n",
    "except IndexError:\n",
    "    print(\"Error: Tried to access an index that does not exist in the list.\")\n",
    "\n",
    "except KeyError:\n",
    "    print(\"Error: Tried to access a key that does not exist in the dictionary.\")\n"
   ]
  },
  {
   "cell_type": "markdown",
   "id": "ce8ad9c1-328d-414b-b523-2f52f4a7506e",
   "metadata": {},
   "source": [
    "## 20. How would you open a file and read its contents using a context manager in Python?"
   ]
  },
  {
   "cell_type": "code",
   "execution_count": 31,
   "id": "49bb3d67-d45a-4960-831e-d2b7e8fc822a",
   "metadata": {},
   "outputs": [
    {
     "name": "stdout",
     "output_type": "stream",
     "text": [
      "Hello, World!\n",
      "This is a new line.\n",
      "Appending another line.\n",
      "\n"
     ]
    }
   ],
   "source": [
    "# Open a file using a context manager and read its contents\n",
    "with open(\"example.txt\", \"r\") as file:  # 'r' mode for reading\n",
    "    content = file.read()               # Read the entire file\n",
    "\n",
    "print(content)  # Print the file content\n"
   ]
  },
  {
   "cell_type": "markdown",
   "id": "93b91814-fb95-438c-8ff9-d38f18d055a9",
   "metadata": {},
   "source": [
    "## 21. Write a Python program that reads a file and prints the number of occurrences of a specific word"
   ]
  },
  {
   "cell_type": "code",
   "execution_count": 34,
   "id": "c87027da-7a33-42d4-97ae-3a01eff845ec",
   "metadata": {},
   "outputs": [
    {
     "name": "stdout",
     "output_type": "stream",
     "text": [
      "The word 'Hello' occurs 1 times in the file.\n"
     ]
    }
   ],
   "source": [
    "# Program to count occurrences of a specific word in a file\n",
    "\n",
    "# Specify the word to search\n",
    "word_to_count = \"Hello\"\n",
    "\n",
    "try:\n",
    "    with open(\"example.txt\", \"r\") as file:\n",
    "        content = file.read()  # Read entire file content\n",
    "        \n",
    "        # Convert content to lowercase for case-insensitive matching (optional)\n",
    "        # content = content.lower()\n",
    "        # word_to_count = word_to_count.lower()\n",
    "        \n",
    "        # Count occurrences\n",
    "        count = content.count(word_to_count)\n",
    "        \n",
    "    print(f\"The word '{word_to_count}' occurs {count} times in the file.\")\n",
    "\n",
    "except FileNotFoundError:\n",
    "    print(\"Error: The file does not exist.\")\n"
   ]
  },
  {
   "cell_type": "markdown",
   "id": "79ba1665-af2b-4048-a72b-4b250b10d51f",
   "metadata": {},
   "source": [
    "## 22. How can you check if a file is empty before attempting to read its contents?"
   ]
  },
  {
   "cell_type": "code",
   "execution_count": 36,
   "id": "742578ee-ce1a-4165-a37d-97d6458d300a",
   "metadata": {},
   "outputs": [
    {
     "name": "stdout",
     "output_type": "stream",
     "text": [
      "The file is empty.\n"
     ]
    }
   ],
   "source": [
    "try:\n",
    "    with open(\"empty_file.txt\", \"r\") as file:\n",
    "        content = file.read()\n",
    "        if content:\n",
    "            print(content)\n",
    "        else:\n",
    "            print(\"The file is empty.\")\n",
    "except FileNotFoundError:\n",
    "    print(\"The file does not exist.\")\n"
   ]
  },
  {
   "cell_type": "markdown",
   "id": "986e26d1-31d6-445b-b7c7-f9c95e984cbb",
   "metadata": {},
   "source": [
    "## 23. Write a Python program that writes to a log file when an error occurs during file handling."
   ]
  },
  {
   "cell_type": "code",
   "execution_count": 37,
   "id": "1a70e58d-1e49-442a-a3df-7ffc37f8f721",
   "metadata": {},
   "outputs": [
    {
     "name": "stdout",
     "output_type": "stream",
     "text": [
      "Error: The file does not exist. Check file_errors.log for details.\n"
     ]
    }
   ],
   "source": [
    "import logging\n",
    "\n",
    "# Configure logging\n",
    "logging.basicConfig(\n",
    "    filename=\"file_errors.log\",\n",
    "    level=logging.ERROR,\n",
    "    format=\"%(asctime)s - %(levelname)s - %(message)s\"\n",
    ")\n",
    "\n",
    "try:\n",
    "    # Attempt to open a non-existent file\n",
    "    with open(\"non_existing_file.txt\", \"r\") as file:\n",
    "        content = file.read()\n",
    "        print(content)\n",
    "\n",
    "except FileNotFoundError as e:\n",
    "    logging.error(\"File not found: %s\", e)\n",
    "    print(\"Error: The file does not exist. Check file_errors.log for details.\")\n",
    "\n",
    "except IOError as e:\n",
    "    logging.error(\"IO error occurred: %s\", e)\n",
    "    print(\"Error: An I/O error occurred. Check file_errors.log for details.\")\n"
   ]
  },
  {
   "cell_type": "code",
   "execution_count": null,
   "id": "e7789ca0-3ec3-4f4f-b5e2-508e1eac5e28",
   "metadata": {},
   "outputs": [],
   "source": []
  }
 ],
 "metadata": {
  "kernelspec": {
   "display_name": "Python 3 (ipykernel)",
   "language": "python",
   "name": "python3"
  },
  "language_info": {
   "codemirror_mode": {
    "name": "ipython",
    "version": 3
   },
   "file_extension": ".py",
   "mimetype": "text/x-python",
   "name": "python",
   "nbconvert_exporter": "python",
   "pygments_lexer": "ipython3",
   "version": "3.12.7"
  }
 },
 "nbformat": 4,
 "nbformat_minor": 5
}
