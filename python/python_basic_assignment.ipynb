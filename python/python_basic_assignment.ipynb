{
 "cells": [
  {
   "cell_type": "markdown",
   "id": "eeb018e1-7447-4649-891b-17a8bffe693f",
   "metadata": {},
   "source": [
    "## 1. What is Python, and why is it popular \n",
    "## Python:\n",
    "Python is a high-level, interpreted programming language known for its simplicity and readability. It was created by Guido van Rossum and first released in 1991. Python supports multiple programming paradigms including procedural, object-oriented, and functional programming.\n",
    "\n",
    "## Why is Python Popular?\n",
    "Easy to Learn and Use:\n",
    "\n",
    "Its syntax is simple and similar to English, making it beginner-friendly.\n",
    "\n",
    "Versatile and General-Purpose:\n",
    "\n",
    "Python can be used for web development, data science, machine learning, automation, game development, and more.\n",
    "\n",
    "Huge Community Support:\n",
    "\n",
    "A large and active community means plenty of tutorials, libraries, frameworks, and help when you're stuck.\n",
    "\n",
    "Extensive Libraries and Frameworks:\n",
    "\n",
    "Libraries like NumPy, Pandas, Matplotlib, Scikit-learn, TensorFlow, Django, and Flask make development easier and faster.\n",
    "\n",
    "Platform Independent:\n",
    "\n",
    "Python code can run on different operating systems like Windows, macOS, and Linux without modification.\n",
    "\n",
    "Strong Support for Data Science & AI:\n",
    "\n",
    "Python is the top choice for data analysis, machine learning, and artificial intelligence due to its powerful tools.\n",
    "\n"
   ]
  },
  {
   "cell_type": "markdown",
   "id": "42d59dcb-4618-425c-9e8c-6bfda9fd6027",
   "metadata": {},
   "source": [
    "## 2. What is an interpreter in Python?\n",
    "An interpreter in Python is a program that reads and executes Python code line by line rather than compiling the whole program at once. When you write a Python script, the interpreter processes each line individually, converting it into machine code during runtime. This behavior makes Python more flexible and easier to debug, especially for beginners. If there’s an error in any line, the interpreter will stop at that line and raise an error, allowing the programmer to fix it immediately without compiling the entire program again."
   ]
  },
  {
   "cell_type": "markdown",
   "id": "aec312b4-83d4-4867-9a92-a65e20c75e67",
   "metadata": {},
   "source": [
    "## 3. What are pre-defined keywords in Python?\n",
    "Pre-defined keywords in Python are reserved words that have special meaning and functionality in the language. They are part of Python's syntax and structure. These keywords cannot be used as identifiers (such as variable names, function names, etc.) because they are reserved by Python for internal operations. Python has 35+ keywords, such as if, else, for, while, def, return, True, False, import, and many more. These words define the basic building blocks of Python programs."
   ]
  },
  {
   "cell_type": "markdown",
   "id": "2b243b59-f123-47bf-8e16-9d8b0ff0bc4a",
   "metadata": {},
   "source": [
    "## 4. Can keywords be used as variable names?\n",
    "No, keywords cannot be used as variable names in Python. Since keywords are reserved words that serve specific functions in the language syntax, using them as variable names will result in a SyntaxError."
   ]
  },
  {
   "cell_type": "markdown",
   "id": "c3d3d083-c27e-471a-bb84-eb16203aff9c",
   "metadata": {},
   "source": [
    "## 5. What is mutability in Python?\n",
    "Mutability refers to the ability of an object to be changed after it has been created. In Python, data types are classified into two categories:\n",
    "\n",
    "Mutable types: Can be changed in place (e.g., list, dict, set)\n",
    "\n",
    "Immutable types: Cannot be changed once defined (e.g., int, float, str, tuple)\n",
    "\n",
    "Understanding mutability is important because it affects how variables behave when passed to functions or copied.\n",
    "\n"
   ]
  },
  {
   "cell_type": "markdown",
   "id": "52dd329a-c036-4712-8644-ae8858b50c15",
   "metadata": {},
   "source": [
    "## 6. Why are lists mutable but tuples are immutable?\n",
    "Lists are mutable because they are intended to be used when the data needs to change over time, such as adding, removing, or modifying items. Python provides various list methods like append(), pop(), and sort() for this purpose.\n",
    "\n",
    "Tuples are immutable by design to ensure data integrity. Once a tuple is created, its values cannot be changed. This makes tuples safer and faster to use, especially when they are used as keys in dictionaries or as constants in programs where data should remain unchanged.\n",
    "\n"
   ]
  },
  {
   "cell_type": "markdown",
   "id": "c522ec82-5620-4500-8842-9234e91cb3ba",
   "metadata": {},
   "source": [
    "## 7. What is the difference between == and is operators in Python?\n",
    "The == operator checks if the values of two variables are equal, regardless of whether they are the same object in memory.\n",
    "\n",
    "The is operator checks whether two variables point to the same object in memory (i.e., identity)."
   ]
  },
  {
   "cell_type": "code",
   "execution_count": 1,
   "id": "19a70103-7e3b-4edd-b867-298d8180c2d7",
   "metadata": {},
   "outputs": [
    {
     "name": "stdout",
     "output_type": "stream",
     "text": [
      "True\n",
      "False\n"
     ]
    }
   ],
   "source": [
    "a = [1, 2, 3]\n",
    "b = [1, 2, 3]\n",
    "print(a == b)  # True (values are equal)\n",
    "print(a is b)  # False (different memory locations)\n"
   ]
  },
  {
   "cell_type": "markdown",
   "id": "c07025fb-f678-49fe-8558-2b91f7a51880",
   "metadata": {},
   "source": [
    "## 8. What are logical operators in Python?\n",
    "Logical operators are used to combine multiple conditions and return a Boolean value (True or False). Python provides three logical operators:\n",
    "\n",
    "and: Returns True if both conditions are true.\n",
    "\n",
    "or: Returns True if at least one condition is true.\n",
    "\n",
    "not: Reverses the result (True becomes False, and vice versa)."
   ]
  },
  {
   "cell_type": "markdown",
   "id": "4d3577f6-9015-4051-ac28-897d6684733e",
   "metadata": {},
   "source": [
    "## 9. What is type casting in Python?\n",
    "Type casting is the process of converting the data type of a variable from one type to another. Python supports two types of casting:\n",
    "\n",
    "Implicit Type Casting: Done automatically by Python.\n",
    "\n",
    "Explicit Type Casting: Done manually using built-in functions like int(), float(), str(), etc."
   ]
  },
  {
   "cell_type": "code",
   "execution_count": 2,
   "id": "c1d7895c-2c35-49b9-b4dc-67f9e2fdbab2",
   "metadata": {},
   "outputs": [],
   "source": [
    "x = \"100\"\n",
    "y = int(x)  # Converts string to integer\n"
   ]
  },
  {
   "cell_type": "markdown",
   "id": "401a69e3-c761-4f80-a334-c45891717322",
   "metadata": {},
   "source": [
    "## 10. What is the difference between implicit and explicit type casting?\n",
    "Implicit Type Casting: Python automatically converts one data type to another without user intervention"
   ]
  },
  {
   "cell_type": "code",
   "execution_count": 3,
   "id": "f7fa1d39-a89f-4984-875e-780caf8b35bd",
   "metadata": {},
   "outputs": [],
   "source": [
    "a = 5\n",
    "b = 3.2\n",
    "c = a + b  # a is converted to float\n"
   ]
  },
  {
   "cell_type": "markdown",
   "id": "02ce5657-6129-4d55-9397-55a0b08f7a03",
   "metadata": {},
   "source": [
    "Explicit Type Casting: The programmer manually changes the data type using functions like int(), float(), str(), etc."
   ]
  },
  {
   "cell_type": "code",
   "execution_count": 5,
   "id": "dd979071-5b85-4261-afdd-cfaf5305113c",
   "metadata": {},
   "outputs": [],
   "source": [
    "x = \"10\"\n",
    "y = int(x)  # string to int\n",
    "# Explicit casting provides better control, while implicit casting makes code cleaner but may lead to unexpected results if not handled carefully."
   ]
  },
  {
   "cell_type": "markdown",
   "id": "20576053-acfa-4cbb-b896-6b2bbf2fa3d6",
   "metadata": {},
   "source": [
    "## 11. What is the purpose of conditional statements in Python?\n",
    "Conditional statements are used to execute specific blocks of code based on certain conditions. They allow the program to make decisions and follow different paths depending on the input or scenario. The main conditional statements are:\n",
    "\n",
    "if\n",
    "\n",
    "elif (else if)\n",
    "\n",
    "else"
   ]
  },
  {
   "cell_type": "markdown",
   "id": "24180cc2-016d-4df8-a5d3-bc90a0a5f527",
   "metadata": {},
   "source": [
    "## 12. How does the elif statement work?\n",
    "The elif statement stands for else if. It is used to check multiple conditions after an if statement. Only the first condition that evaluates to True will be executed."
   ]
  },
  {
   "cell_type": "code",
   "execution_count": 6,
   "id": "1e605a2a-e59a-4f46-b64a-3c32d8387b24",
   "metadata": {},
   "outputs": [
    {
     "name": "stdout",
     "output_type": "stream",
     "text": [
      "Very Good\n"
     ]
    }
   ],
   "source": [
    "marks = 75\n",
    "if marks >= 90:\n",
    "    print(\"Excellent\")\n",
    "elif marks >= 75:\n",
    "    print(\"Very Good\")\n",
    "elif marks >= 50:\n",
    "    print(\"Good\")\n",
    "else:\n",
    "    print(\"Fail\")\n"
   ]
  },
  {
   "cell_type": "markdown",
   "id": "cfea97bb-3b7d-433a-897c-1e0cf2efa680",
   "metadata": {},
   "source": [
    "## 13. What is the difference between for and while loops?\n",
    "A for loop is used when the number of iterations is known or finite. It is commonly used to iterate over sequences like lists, tuples, or a range of numbers.\n",
    "\n",
    "A while loop is used when the number of iterations is unknown, and it continues as long as a specified condition is true."
   ]
  },
  {
   "cell_type": "markdown",
   "id": "7af9dd12-7a32-421d-b3e6-890e5c58c920",
   "metadata": {},
   "source": [
    "## 14. Describe a scenario where a while loop is more suitable than a for loop.\n",
    "A while loop is more suitable in cases where the number of iterations is not known in advance. For example, if you're continuously prompting a user for input until they enter a specific keyword, a while loop is ideal."
   ]
  },
  {
   "cell_type": "code",
   "execution_count": 7,
   "id": "ff8a34fe-bb1c-40a6-8262-8ed1673c988a",
   "metadata": {},
   "outputs": [
    {
     "name": "stdin",
     "output_type": "stream",
     "text": [
      "Type 'exit' to quit:  exit\n"
     ]
    },
    {
     "name": "stdout",
     "output_type": "stream",
     "text": [
      "Goodbye!\n"
     ]
    }
   ],
   "source": [
    "while True:\n",
    "    user_input = input(\"Type 'exit' to quit: \")\n",
    "    if user_input == \"exit\":\n",
    "        print(\"Goodbye!\")\n",
    "        break\n"
   ]
  },
  {
   "cell_type": "markdown",
   "id": "d56d0519-b7a5-4c2e-8e68-3eda9884192e",
   "metadata": {},
   "source": [
    "## 1 Write a Python program to print \"Hello, World!\""
   ]
  },
  {
   "cell_type": "code",
   "execution_count": 8,
   "id": "3469fbe2-c673-4888-93a4-a69de2bd3bd3",
   "metadata": {},
   "outputs": [
    {
     "name": "stdout",
     "output_type": "stream",
     "text": [
      "Hello, World!\n"
     ]
    }
   ],
   "source": [
    "print(\"Hello, World!\")\n"
   ]
  },
  {
   "cell_type": "markdown",
   "id": "46d30c5d-f190-4ea3-a462-03a00eb43326",
   "metadata": {},
   "source": [
    "## 2 Write a Python program that displays your name and age8"
   ]
  },
  {
   "cell_type": "code",
   "execution_count": 9,
   "id": "26d746bd-b007-4651-9d58-42c7111e727b",
   "metadata": {},
   "outputs": [
    {
     "name": "stdout",
     "output_type": "stream",
     "text": [
      "Name: Sanjay Kumar Saini\n",
      "Age: 21\n"
     ]
    }
   ],
   "source": [
    "name = \"Sanjay Kumar Saini\"\n",
    "age = 21\n",
    "print(\"Name:\", name)\n",
    "print(\"Age:\", age)\n"
   ]
  },
  {
   "cell_type": "markdown",
   "id": "cfdcb03b-f0cf-4fc4-b43a-9731af234dd6",
   "metadata": {},
   "source": [
    "## 3 Write code to print all the pre-defined keywords in Python using the keyword library"
   ]
  },
  {
   "cell_type": "code",
   "execution_count": 10,
   "id": "95eb0fa2-e355-4369-86d7-f7f279405393",
   "metadata": {},
   "outputs": [
    {
     "name": "stdout",
     "output_type": "stream",
     "text": [
      "Python Keywords:\n",
      "['False', 'None', 'True', 'and', 'as', 'assert', 'async', 'await', 'break', 'class', 'continue', 'def', 'del', 'elif', 'else', 'except', 'finally', 'for', 'from', 'global', 'if', 'import', 'in', 'is', 'lambda', 'nonlocal', 'not', 'or', 'pass', 'raise', 'return', 'try', 'while', 'with', 'yield']\n"
     ]
    }
   ],
   "source": [
    "import keyword\n",
    "\n",
    "print(\"Python Keywords:\")\n",
    "print(keyword.kwlist)\n"
   ]
  },
  {
   "cell_type": "markdown",
   "id": "125dda72-277c-4698-a83e-8eaae8ddc6d5",
   "metadata": {},
   "source": [
    "## 4 Write a program that checks if a given word is a Python keyword"
   ]
  },
  {
   "cell_type": "code",
   "execution_count": 12,
   "id": "be6acbb2-cfef-4e4c-890f-06cd97ce247e",
   "metadata": {},
   "outputs": [
    {
     "name": "stdin",
     "output_type": "stream",
     "text": [
      "Enter a word:  import\n"
     ]
    },
    {
     "name": "stdout",
     "output_type": "stream",
     "text": [
      "'import' is a Python keyword.\n"
     ]
    }
   ],
   "source": [
    "import keyword\n",
    "\n",
    "word = input(\"Enter a word: \")\n",
    "if keyword.iskeyword(word):\n",
    "    print(f\"'{word}' is a Python keyword.\")\n",
    "else:\n",
    "    print(f\"'{word}' is NOT a Python keyword.\")\n"
   ]
  },
  {
   "cell_type": "markdown",
   "id": "63041894-6181-4c55-9b32-77b8277a3c15",
   "metadata": {},
   "source": [
    "## 5. Create a list and tuple in Python, and demonstrate how attempting to change an element works differently for each.\n"
   ]
  },
  {
   "cell_type": "code",
   "execution_count": 13,
   "id": "9d28b908-4ed8-4da7-aa78-4ebfbcfc4a00",
   "metadata": {},
   "outputs": [
    {
     "name": "stdout",
     "output_type": "stream",
     "text": [
      "Modified list: [10, 99, 30]\n"
     ]
    }
   ],
   "source": [
    "# Create a list\n",
    "my_list = [10, 20, 30]\n",
    "\n",
    "# Create a tuple\n",
    "my_tuple = (10, 20, 30)\n",
    "my_list[1] = 99\n",
    "print(\"Modified list:\", my_list)\n"
   ]
  },
  {
   "cell_type": "code",
   "execution_count": 14,
   "id": "32ed6160-226e-457e-b336-016579bad2c0",
   "metadata": {},
   "outputs": [
    {
     "ename": "TypeError",
     "evalue": "'tuple' object does not support item assignment",
     "output_type": "error",
     "traceback": [
      "\u001b[1;31m---------------------------------------------------------------------------\u001b[0m",
      "\u001b[1;31mTypeError\u001b[0m                                 Traceback (most recent call last)",
      "Cell \u001b[1;32mIn[14], line 1\u001b[0m\n\u001b[1;32m----> 1\u001b[0m my_tuple[\u001b[38;5;241m1\u001b[39m] \u001b[38;5;241m=\u001b[39m \u001b[38;5;241m99\u001b[39m\n",
      "\u001b[1;31mTypeError\u001b[0m: 'tuple' object does not support item assignment"
     ]
    }
   ],
   "source": [
    "my_tuple[1] = 99  # This will raise an error\n"
   ]
  },
  {
   "cell_type": "markdown",
   "id": "de30e71e-2246-45bd-bff9-eecb6ab11ea8",
   "metadata": {},
   "source": [
    "## 6. Write a function to demonstrate the behavior of mutable and immutable arguments."
   ]
  },
  {
   "cell_type": "code",
   "execution_count": 15,
   "id": "2bbb0adf-8deb-4079-8d8f-1aa822d325cd",
   "metadata": {},
   "outputs": [
    {
     "name": "stdout",
     "output_type": "stream",
     "text": [
      "Inside function - num: 15\n",
      "Inside function - list: [1, 2, 3, 10]\n",
      "Outside function - x: 5\n",
      "Outside function - list: [1, 2, 3, 10]\n"
     ]
    }
   ],
   "source": [
    "def modify_data(num, my_list):\n",
    "    num += 10         # Immutable (int)\n",
    "    my_list.append(10)  # Mutable (list)\n",
    "    print(\"Inside function - num:\", num)\n",
    "    print(\"Inside function - list:\", my_list)\n",
    "\n",
    "x = 5\n",
    "lst = [1, 2, 3]\n",
    "modify_data(x, lst)\n",
    "print(\"Outside function - x:\", x)\n",
    "print(\"Outside function - list:\", lst)\n"
   ]
  },
  {
   "cell_type": "markdown",
   "id": "c80f5ef4-846b-4c48-879a-4fabadea270d",
   "metadata": {},
   "source": [
    "## 6. Write a function to demonstrate the behavior of mutable and immutable arguments"
   ]
  },
  {
   "cell_type": "code",
   "execution_count": 16,
   "id": "3f74cc47-97d3-43d0-92be-3b137d230bb4",
   "metadata": {},
   "outputs": [
    {
     "name": "stdin",
     "output_type": "stream",
     "text": [
      "Enter first number:  5\n",
      "Enter second number:  3\n"
     ]
    },
    {
     "name": "stdout",
     "output_type": "stream",
     "text": [
      "Sum: 8.0\n",
      "Difference: 2.0\n",
      "Product: 15.0\n",
      "Quotient: 1.6666666666666667\n",
      "Modulus: 2.0\n"
     ]
    }
   ],
   "source": [
    "a = float(input(\"Enter first number: \"))\n",
    "b = float(input(\"Enter second number: \"))\n",
    "\n",
    "print(\"Sum:\", a + b)\n",
    "print(\"Difference:\", a - b)\n",
    "print(\"Product:\", a * b)\n",
    "print(\"Quotient:\", a / b)\n",
    "print(\"Modulus:\", a % b)\n"
   ]
  },
  {
   "cell_type": "markdown",
   "id": "180edda6-e1a7-4c46-b7f5-57d420dc830a",
   "metadata": {},
   "source": [
    "## 7. Write a program that performs basic arithmetic operations on two user-input numbers"
   ]
  },
  {
   "cell_type": "code",
   "execution_count": 17,
   "id": "329fdde5-7c3f-4501-b8c3-0cdaa6f985ba",
   "metadata": {},
   "outputs": [
    {
     "name": "stdin",
     "output_type": "stream",
     "text": [
      "Enter a number:  45\n"
     ]
    },
    {
     "name": "stdout",
     "output_type": "stream",
     "text": [
      "False\n",
      "True\n",
      "True\n"
     ]
    }
   ],
   "source": [
    "x = int(input(\"Enter a number: \"))\n",
    "print(x > 0 and x < 10)  # True if x is between 1 and 9\n",
    "print(x < 0 or x > 10)   # True if x is less than 0 or greater than 10\n",
    "print(not(x == 5))       # True if x is not 5\n"
   ]
  },
  {
   "cell_type": "markdown",
   "id": "1701ab2e-078f-468e-98ed-c0a19d122852",
   "metadata": {},
   "source": [
    "## 8. Write a program to demonstrate the use of logical operators."
   ]
  },
  {
   "cell_type": "code",
   "execution_count": 18,
   "id": "a58461d6-361d-4642-9c48-26e77af27a1b",
   "metadata": {},
   "outputs": [
    {
     "name": "stdout",
     "output_type": "stream",
     "text": [
      "Logical AND:\n",
      "True\n",
      "False\n",
      "\n",
      "Logical OR:\n",
      "True\n",
      "False\n",
      "\n",
      "Logical NOT:\n",
      "False\n",
      "True\n"
     ]
    }
   ],
   "source": [
    "# Define some variables\n",
    "a = 10\n",
    "b = 5\n",
    "c = 15\n",
    "\n",
    "# Logical AND\n",
    "print(\"Logical AND:\")\n",
    "print(a > b and a < c)   # True and True → True\n",
    "print(a > b and a > c)   # True and False → False\n",
    "\n",
    "# Logical OR\n",
    "print(\"\\nLogical OR:\")\n",
    "print(a < b or a < c)    # False or True → True\n",
    "print(a < b or a > c)    # False or False → False\n",
    "\n",
    "# Logical NOT\n",
    "print(\"\\nLogical NOT:\")\n",
    "print(not(a > b))        # not True → False\n",
    "print(not(a < b))        # not False → True\n"
   ]
  },
  {
   "cell_type": "markdown",
   "id": "55aac522-de10-4034-9316-202f0872fb0b",
   "metadata": {},
   "source": [
    "## 9. Write a Python program to convert user input from string to integer, float, and boolean types"
   ]
  },
  {
   "cell_type": "code",
   "execution_count": 20,
   "id": "89f2c04e-fa65-4c9c-b6e5-d9e769bcad3c",
   "metadata": {},
   "outputs": [
    {
     "name": "stdin",
     "output_type": "stream",
     "text": [
      "Enter a value:  12\n"
     ]
    },
    {
     "name": "stdout",
     "output_type": "stream",
     "text": [
      "As Integer: 12\n",
      "As Float: 12.0\n",
      "As Boolean: True\n"
     ]
    }
   ],
   "source": [
    "user_input = input(\"Enter a value: \")\n",
    "\n",
    "int_value = int(user_input)\n",
    "float_value = float(user_input)\n",
    "bool_value = bool(user_input)\n",
    "\n",
    "print(\"As Integer:\", int_value)\n",
    "print(\"As Float:\", float_value)\n",
    "print(\"As Boolean:\", bool_value)\n"
   ]
  },
  {
   "cell_type": "markdown",
   "id": "f8b97ef8-968e-4bd2-a6b5-862548e93d52",
   "metadata": {},
   "source": [
    "## 10. Write code to demonstrate type casting with list elements."
   ]
  },
  {
   "cell_type": "code",
   "execution_count": 21,
   "id": "8a5b7a2f-d0e0-4017-a48c-1cc2f8d992a2",
   "metadata": {},
   "outputs": [
    {
     "name": "stdout",
     "output_type": "stream",
     "text": [
      "Original list (strings): ['10', '20', '30', '40']\n",
      "Converted list (integers): [10, 20, 30, 40]\n"
     ]
    }
   ],
   "source": [
    "# List of numbers as strings\n",
    "string_list = ['10', '20', '30', '40']\n",
    "\n",
    "# Empty list to store integers\n",
    "int_list = []\n",
    "\n",
    "# Convert each string to an integer and add to new list\n",
    "for item in string_list:\n",
    "    int_list.append(int(item))\n",
    "\n",
    "# Print original and converted lists\n",
    "print(\"Original list (strings):\", string_list)\n",
    "print(\"Converted list (integers):\", int_list)\n"
   ]
  },
  {
   "cell_type": "markdown",
   "id": "91e99f8f-b556-46be-87b6-295f7480a1a4",
   "metadata": {},
   "source": [
    "## 11. Write a program that checks if a number is positive, negative, or zero"
   ]
  },
  {
   "cell_type": "code",
   "execution_count": 23,
   "id": "10125546-9fc2-45c9-8722-92562911f5c5",
   "metadata": {},
   "outputs": [
    {
     "name": "stdin",
     "output_type": "stream",
     "text": [
      "Enter a number:  -9\n"
     ]
    },
    {
     "name": "stdout",
     "output_type": "stream",
     "text": [
      "Negative number\n"
     ]
    }
   ],
   "source": [
    "num = float(input(\"Enter a number: \"))\n",
    "if num > 0:\n",
    "    print(\"Positive number\")\n",
    "elif num < 0:\n",
    "    print(\"Negative number\")\n",
    "else:\n",
    "    print(\"Zero\")\n"
   ]
  },
  {
   "cell_type": "markdown",
   "id": "1b84ee6c-7537-404f-a6bc-8b81248bdc7d",
   "metadata": {},
   "source": [
    "## 12. Write a for loop to print numbers from 1 to 10."
   ]
  },
  {
   "cell_type": "code",
   "execution_count": 24,
   "id": "a15c538b-261c-4107-9907-b2e4a53b6351",
   "metadata": {},
   "outputs": [
    {
     "name": "stdout",
     "output_type": "stream",
     "text": [
      "1\n",
      "2\n",
      "3\n",
      "4\n",
      "5\n",
      "6\n",
      "7\n",
      "8\n",
      "9\n",
      "10\n"
     ]
    }
   ],
   "source": [
    "for i in range(1, 11):\n",
    "    print(i)\n"
   ]
  },
  {
   "cell_type": "markdown",
   "id": "a8e3831a-8c15-4fa6-af41-b33ee8e5ddfc",
   "metadata": {},
   "source": [
    "## 13. Write a Python program to find the sum of all even numbers between 1 and 50"
   ]
  },
  {
   "cell_type": "code",
   "execution_count": 26,
   "id": "bbb7c30c-3dc3-4fff-b3fc-0137b02f64eb",
   "metadata": {},
   "outputs": [
    {
     "name": "stdout",
     "output_type": "stream",
     "text": [
      "Sum of even numbers between 1 and 50: 650\n"
     ]
    }
   ],
   "source": [
    "total = 0\n",
    "for i in range(1, 51):\n",
    "    if i % 2 == 0:\n",
    "        total += i\n",
    "print(\"Sum of even numbers between 1 and 50:\", total)\n"
   ]
  },
  {
   "cell_type": "markdown",
   "id": "a3cd627e-fbc7-4d19-b7c7-19efbbe87b98",
   "metadata": {},
   "source": [
    "## 14. Write a program to reverse a string using a while loop."
   ]
  },
  {
   "cell_type": "code",
   "execution_count": 27,
   "id": "bb050d39-d3d4-4260-8c83-c146155541fd",
   "metadata": {},
   "outputs": [
    {
     "name": "stdin",
     "output_type": "stream",
     "text": [
      "Enter a string:  sanjay\n"
     ]
    },
    {
     "name": "stdout",
     "output_type": "stream",
     "text": [
      "Reversed string: yajnas\n"
     ]
    }
   ],
   "source": [
    "# Get input from the user\n",
    "s = input(\"Enter a string: \")\n",
    "\n",
    "# Initialize an empty string to store the reversed string\n",
    "reversed_str = \"\"\n",
    "\n",
    "# Start from the last character of the string\n",
    "i = len(s) - 1\n",
    "\n",
    "# Use while loop to reverse the string\n",
    "while i >= 0:\n",
    "    reversed_str += s[i]  # Add current character to reversed_str\n",
    "    i -= 1  # Move to the previous character\n",
    "\n",
    "# Print the reversed string\n",
    "print(\"Reversed string:\", reversed_str)\n"
   ]
  },
  {
   "cell_type": "markdown",
   "id": "e3e62795-b64b-4641-899e-2116b8c3f67a",
   "metadata": {},
   "source": [
    "## 15. Write a Python program to calculate the factorial of a number provided by the user using a while loop."
   ]
  },
  {
   "cell_type": "code",
   "execution_count": 28,
   "id": "3aa9b1af-e885-4ffd-a9b4-eeb6527520e4",
   "metadata": {},
   "outputs": [
    {
     "name": "stdin",
     "output_type": "stream",
     "text": [
      "Enter a number:  5\n"
     ]
    },
    {
     "name": "stdout",
     "output_type": "stream",
     "text": [
      "Factorial of 5 is 120\n"
     ]
    }
   ],
   "source": [
    "num = int(input(\"Enter a number: \"))\n",
    "fact = 1\n",
    "i = 1\n",
    "\n",
    "while i <= num:\n",
    "    fact *= i\n",
    "    i += 1\n",
    "\n",
    "print(\"Factorial of\", num, \"is\", fact)\n"
   ]
  },
  {
   "cell_type": "code",
   "execution_count": null,
   "id": "53a3afcd-5cf1-4513-855a-06b66761416c",
   "metadata": {},
   "outputs": [],
   "source": []
  }
 ],
 "metadata": {
  "kernelspec": {
   "display_name": "Python 3 (ipykernel)",
   "language": "python",
   "name": "python3"
  },
  "language_info": {
   "codemirror_mode": {
    "name": "ipython",
    "version": 3
   },
   "file_extension": ".py",
   "mimetype": "text/x-python",
   "name": "python",
   "nbconvert_exporter": "python",
   "pygments_lexer": "ipython3",
   "version": "3.12.7"
  }
 },
 "nbformat": 4,
 "nbformat_minor": 5
}
