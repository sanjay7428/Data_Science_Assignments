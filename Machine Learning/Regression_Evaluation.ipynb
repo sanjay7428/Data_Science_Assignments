{
 "cells": [
  {
   "cell_type": "markdown",
   "id": "0bd203d0-eb42-44ed-8930-b12327e0e8be",
   "metadata": {},
   "source": [
    "## Regression & Its Evaluation | Assignment"
   ]
  },
  {
   "cell_type": "markdown",
   "id": "5ad303b2-3a15-4f80-a881-eb062c5f5b68",
   "metadata": {},
   "source": [
    "## Question 1: What is Simple Linear Regression?\n"
   ]
  },
  {
   "cell_type": "markdown",
   "id": "2592e1c9-4df0-4414-801f-e731e7b5f9d8",
   "metadata": {},
   "source": [
    "Simple Linear Regression is a basic statistical and machine learning technique used to study the relationship between two variables — one independent variable (X) and one dependent variable (Y).\n",
    "\n",
    "It helps to predict the value of Y based on the given value of X using a straight-line relationship.\n",
    "\n",
    "🔹 Definition:\n",
    "\n",
    "Simple Linear Regression finds the best-fitting straight line (called the regression line) that shows how Y changes as X changes.\n",
    "\n",
    "The mathematical form of the regression line is:\n",
    "\n",
    "Y=a+bX\n",
    "\n",
    "Where:\n",
    "\n",
    "Y = Dependent variable (the one we want to predict)\n",
    "\n",
    "X = Independent variable (the input or predictor)\n",
    "\n",
    "a = Intercept (the value of Y when X = 0)\n",
    "\n",
    "b = Slope (how much Y changes for each unit change in X)\n"
   ]
  },
  {
   "cell_type": "markdown",
   "id": "cec4a7ae-fa10-4cb1-b126-3096daa9066c",
   "metadata": {},
   "source": [
    "## Question 2: What are the key assumptions of Simple Linear Regression?"
   ]
  },
  {
   "cell_type": "markdown",
   "id": "3cd60f3b-1e83-44c3-99ef-8747353e5469",
   "metadata": {},
   "source": [
    "Key Assumptions of Simple Linear Regression\n",
    "1. Linearity\n",
    "\n",
    "The relationship between the independent variable (X) and dependent variable (Y) should be linear.\n",
    "\n",
    "This means that changes in X result in proportional changes in Y.\n",
    "\n",
    "Example: If you double the study hours, the exam score should roughly double.\n",
    "\n",
    " How to check:\n",
    "Plot a scatter plot of X vs Y. If the points roughly form a straight line, the assumption holds.\n",
    "\n",
    "2. Independence of Errors\n",
    "\n",
    "The residuals (errors) — the differences between actual and predicted values — should be independent of each other.\n",
    "\n",
    "No pattern should exist among errors (for example, one error should not depend on the previous one).\n",
    "\n",
    " How to check:\n",
    "Use the Durbin-Watson test or check the residual plot for patterns.\n",
    "\n",
    "3. Homoscedasticity (Constant Variance of Errors)\n",
    "\n",
    "The variance of residuals should remain constant across all levels of X.\n",
    "\n",
    "In simple terms, the spread of errors should be the same for small and large values of X.\n",
    "\n",
    " How to check:\n",
    "Plot residuals vs predicted values — the spread should look even (not funnel-shaped).\n",
    "\n",
    "4. Normality of Errors\n",
    "\n",
    "The residuals should be normally distributed (bell-shaped curve).\n",
    "\n",
    "This is important for making valid confidence intervals and hypothesis tests.\n",
    "\n",
    " How to check:\n",
    "Use a histogram or Q-Q plot of residuals.\n",
    "\n",
    "5. No or Minimal Multicollinearity\n",
    "\n",
    "In simple linear regression, there is only one independent variable, so this is usually not an issue.\n",
    "\n",
    "However, in multiple linear regression, it means that the predictors should not be highly correlated with each other."
   ]
  },
  {
   "cell_type": "markdown",
   "id": "bdbd8934-330b-404d-9dde-2d7225437eb5",
   "metadata": {},
   "source": [
    "## Question 3: What is heteroscedasticity, and why is it important to address in regression models?"
   ]
  },
  {
   "cell_type": "markdown",
   "id": "d5542f6f-e2bd-423c-880a-cfca784bb1db",
   "metadata": {},
   "source": [
    "Definition of Heteroscedasticity\n",
    "\n",
    "Heteroscedasticity means that the variance of the errors (residuals) in a regression model is not constant across all levels of the independent variable (X).\n",
    "\n",
    "In simple terms —\n",
    "When the spread of residuals (the differences between actual and predicted values) increases or decreases as X changes, the data is heteroscedastic.\n",
    "\n",
    "It’s Important to Address\n",
    "\n",
    "Violates Regression Assumptions\n",
    "\n",
    "Linear regression assumes constant variance of errors (homoscedasticity).\n",
    "\n",
    "Heteroscedasticity breaks this assumption.\n",
    "\n",
    "Leads to Inefficient Estimates\n",
    "\n",
    "The regression coefficients (a, b) remain unbiased, but the standard errors become incorrect.\n",
    "\n",
    "This can make t-tests and confidence intervals unreliable.\n",
    "\n",
    "Reduces Model Accuracy\n",
    "\n",
    "It affects the reliability of predictions, especially for higher or lower ranges of X.\n",
    "\n",
    "Misleading Significance Tests\n",
    "\n",
    "You might think a variable is significant when it’s not (or vice versa)."
   ]
  },
  {
   "cell_type": "markdown",
   "id": "063413bc-4bbe-4e93-a3c2-6e7359865d78",
   "metadata": {},
   "source": [
    "## Question 4: What is Multiple Linear Regression?"
   ]
  },
  {
   "cell_type": "markdown",
   "id": "9e07506a-7a20-4bf9-94da-53a8f8130d21",
   "metadata": {},
   "source": [
    "Definition:\n",
    "\n",
    "Multiple Linear Regression is an extension of Simple Linear Regression that uses two or more independent variables (X₁, X₂, X₃, …) to predict the value of a dependent variable (Y).\n",
    "\n",
    "It helps us understand how several factors together influence an outcome.\n",
    "\n",
    "Mathematical Equation:\n",
    "\n",
    "$$\n",
    "Y = a + b_1X_1 + b_2X_2 + b_3X_3 + \\cdots + b_nX_n + \\varepsilon\n",
    "$$\n",
    "\n",
    "Y = Dependent variable (what we want to predict)\n",
    "\n",
    "a = Intercept (value of Y when all Xs are 0)\n",
    "\n",
    "b₁, b₂, b₃, … bₙ = Coefficients (how much Y changes for a one-unit change in each X)\n",
    "\n",
    "X₁, X₂, X₃, … Xₙ = Independent variables (predictors)\n",
    "\n",
    "ε = Error term (difference between actual and predicted Y)\n"
   ]
  },
  {
   "cell_type": "markdown",
   "id": "6c9a849c-69ce-4d76-ad94-665c4428ef90",
   "metadata": {},
   "source": [
    "## Question 5: What is polynomial regression, and how does it differ from linear regression?\n"
   ]
  },
  {
   "cell_type": "markdown",
   "id": "cf2cd339-4c86-4378-bd4d-e704d4c250c5",
   "metadata": {},
   "source": [
    "Definition of Polynomial Regression\n",
    "\n",
    "Polynomial Regression is a type of regression analysis where the relationship between the independent variable (X) and the dependent variable (Y) is modeled as an nth-degree polynomial.\n",
    "\n",
    "It’s used when the data shows a curved (non-linear) relationship rather than a straight line.\n",
    "\n",
    "Mathematical Form:\n",
    "$$\n",
    "Y = a + b_1X + b_2X^2 + b_3X^3 + \\cdots + b_nX^n + \\varepsilon\n",
    "$$\n",
    "\n",
    "\n",
    "Y = Dependent variable\n",
    "\n",
    "X, X², X³, … Xⁿ = Independent variable and its powers\n",
    "\n",
    "a = Intercept\n",
    "\n",
    "b₁, b₂, b₃, … bₙ = Coefficients\n",
    "\n",
    "ε = Error term"
   ]
  },
  {
   "cell_type": "markdown",
   "id": "7963f455-2c6f-4908-a93a-c78fd9075065",
   "metadata": {},
   "source": [
    "## Question 6: Implement a Python program to fit a Simple Linear Regression model tothe following sample data:\n",
    "● X = [1, 2, 3, 4, 5]\n",
    "\n",
    "● Y = [2.1, 4.3, 6.1, 7.9, 10.2]\n",
    "## Plot the regression line over the data points"
   ]
  },
  {
   "cell_type": "code",
   "execution_count": 1,
   "id": "4e9db772-298c-4bd9-b523-5a48e5a3c727",
   "metadata": {},
   "outputs": [
    {
     "name": "stdout",
     "output_type": "stream",
     "text": [
      "Intercept (a): 0.17999999999999794\n",
      "Slope (b): 1.9800000000000004\n",
      "Equation of line: Y = 0.18 + 1.98X\n"
     ]
    },
    {
     "data": {
      "image/png": "[encoded data removed]",
      "text/plain": [
       "<Figure size 640x480 with 1 Axes>"
      ]
     },
     "metadata": {},
     "output_type": "display_data"
    }
   ],
   "source": [
    "# Import required libraries\n",
    "import numpy as np\n",
    "import matplotlib.pyplot as plt\n",
    "from sklearn.linear_model import LinearRegression\n",
    "\n",
    "# Given data\n",
    "X = np.array([1, 2, 3, 4, 5]).reshape(-1, 1)  # Independent variable (reshaped for sklearn)\n",
    "Y = np.array([2.1, 4.3, 6.1, 7.9, 10.2])     # Dependent variable\n",
    "\n",
    "# Create and fit the Linear Regression model\n",
    "model = LinearRegression()\n",
    "model.fit(X, Y)\n",
    "\n",
    "# Predict Y values for given X\n",
    "Y_pred = model.predict(X)\n",
    "\n",
    "# Print model parameters\n",
    "print(\"Intercept (a):\", model.intercept_)\n",
    "print(\"Slope (b):\", model.coef_[0])\n",
    "print(\"Equation of line: Y = {:.2f} + {:.2f}X\".format(model.intercept_, model.coef_[0]))\n",
    "\n",
    "# Plot the data points\n",
    "plt.scatter(X, Y, color='blue', label='Actual Data')\n",
    "\n",
    "# Plot the regression line\n",
    "plt.plot(X, Y_pred, color='red', label='Regression Line')\n",
    "\n",
    "# Add labels and title\n",
    "plt.title(\"Simple Linear Regression Example\")\n",
    "plt.xlabel(\"X\")\n",
    "plt.ylabel(\"Y\")\n",
    "plt.legend()\n",
    "plt.grid(True)\n",
    "plt.show()\n"
   ]
  },
  {
   "cell_type": "markdown",
   "id": "756400da-7011-40aa-bafe-72b38aa788be",
   "metadata": {},
   "source": [
    "## Question 7: Fit a Multiple Linear Regression model on this sample data:\n",
    "● Area = [1200, 1500, 1800, 2000]\n",
    "\n",
    "● Rooms = [2, 3, 3, 4]\n",
    "\n",
    "● Price = [250000, 300000, 320000, 370000]\n",
    "## Check for multicollinearity using VIF and report the results"
   ]
  },
  {
   "cell_type": "code",
   "execution_count": 2,
   "id": "18137ad9-a357-40fa-ae4b-02190b0dcbd2",
   "metadata": {},
   "outputs": [
    {
     "name": "stdout",
     "output_type": "stream",
     "text": [
      "Intercept (a): 103157.8947368421\n",
      "Coefficients (b1, b2): [   63.15789474 34736.84210526]\n",
      "Equation: Price = 103157.89 + 63.16*Area + 34736.84*Rooms\n",
      "\n",
      "Variance Inflation Factor (VIF) Results:\n",
      "  Feature        VIF\n",
      "0   const  34.210526\n",
      "1    Area   7.736842\n",
      "2   Rooms   7.736842\n"
     ]
    }
   ],
   "source": [
    "# Import required libraries\n",
    "import pandas as pd\n",
    "import numpy as np\n",
    "from sklearn.linear_model import LinearRegression\n",
    "from statsmodels.stats.outliers_influence import variance_inflation_factor\n",
    "import statsmodels.api as sm\n",
    "\n",
    "# Sample data\n",
    "data = {\n",
    "    'Area': [1200, 1500, 1800, 2000],\n",
    "    'Rooms': [2, 3, 3, 4],\n",
    "    'Price': [250000, 300000, 320000, 370000]\n",
    "}\n",
    "df = pd.DataFrame(data)\n",
    "\n",
    "# Define independent (X) and dependent (Y) variables\n",
    "X = df[['Area', 'Rooms']]\n",
    "Y = df['Price']\n",
    "\n",
    "# Fit Multiple Linear Regression model\n",
    "model = LinearRegression()\n",
    "model.fit(X, Y)\n",
    "\n",
    "# Display model parameters\n",
    "print(\"Intercept (a):\", model.intercept_)\n",
    "print(\"Coefficients (b1, b2):\", model.coef_)\n",
    "print(f\"Equation: Price = {model.intercept_:.2f} + {model.coef_[0]:.2f}*Area + {model.coef_[1]:.2f}*Rooms\")\n",
    "\n",
    "# -----------------------------\n",
    "# Step 2: Check for Multicollinearity using VIF\n",
    "# -----------------------------\n",
    "\n",
    "# Add constant for statsmodels\n",
    "X_vif = sm.add_constant(X)\n",
    "\n",
    "# Calculate VIF for each variable\n",
    "vif_data = pd.DataFrame()\n",
    "vif_data[\"Feature\"] = X_vif.columns\n",
    "vif_data[\"VIF\"] = [variance_inflation_factor(X_vif.values, i) for i in range(X_vif.shape[1])]\n",
    "\n",
    "print(\"\\nVariance Inflation Factor (VIF) Results:\")\n",
    "print(vif_data)\n"
   ]
  },
  {
   "cell_type": "markdown",
   "id": "4e5031ef-bfc1-445e-9d1c-aa42f6c74603",
   "metadata": {},
   "source": [
    "## Question 8: Implement polynomial regression on the following data:\n",
    "● X = [1, 2, 3, 4, 5]\n",
    "\n",
    "● Y = [2.2, 4.8, 7.5, 11.2, 14.7]\n",
    "## Fit a 2nd-degree polynomial and plot the resulting curve."
   ]
  },
  {
   "cell_type": "code",
   "execution_count": 3,
   "id": "172bb5ab-c63c-474d-b6c6-db06ccba15cd",
   "metadata": {},
   "outputs": [
    {
     "name": "stdout",
     "output_type": "stream",
     "text": [
      "Intercept (a): 0.060000000000016485\n",
      "Coefficients (b1, b2): [0.   1.94 0.2 ]\n",
      "Equation: Y = 0.06 + 1.94*X + 0.20*X²\n"
     ]
    },
    {
     "data": {
      "image/png": "[encoded data removed]",
      "text/plain": [
       "<Figure size 640x480 with 1 Axes>"
      ]
     },
     "metadata": {},
     "output_type": "display_data"
    }
   ],
   "source": [
    "# Import required libraries\n",
    "import numpy as np\n",
    "import matplotlib.pyplot as plt\n",
    "from sklearn.linear_model import LinearRegression\n",
    "from sklearn.preprocessing import PolynomialFeatures\n",
    "\n",
    "# Given data\n",
    "X = np.array([1, 2, 3, 4, 5]).reshape(-1, 1)\n",
    "Y = np.array([2.2, 4.8, 7.5, 11.2, 14.7])\n",
    "\n",
    "# Transform features for polynomial regression (degree = 2)\n",
    "poly = PolynomialFeatures(degree=2)\n",
    "X_poly = poly.fit_transform(X)\n",
    "\n",
    "# Fit the model\n",
    "model = LinearRegression()\n",
    "model.fit(X_poly, Y)\n",
    "\n",
    "# Predict Y values\n",
    "Y_pred = model.predict(X_poly)\n",
    "\n",
    "# Display model parameters\n",
    "print(\"Intercept (a):\", model.intercept_)\n",
    "print(\"Coefficients (b1, b2):\", model.coef_)\n",
    "print(f\"Equation: Y = {model.intercept_:.2f} + {model.coef_[1]:.2f}*X + {model.coef_[2]:.2f}*X²\")\n",
    "\n",
    "# Plot the data points\n",
    "plt.scatter(X, Y, color='blue', label='Actual Data')\n",
    "\n",
    "# Plot the polynomial regression curve\n",
    "plt.plot(X, Y_pred, color='red', label='Polynomial Regression (degree=2)')\n",
    "\n",
    "# Add labels and title\n",
    "plt.title(\"Polynomial Regression (2nd Degree)\")\n",
    "plt.xlabel(\"X\")\n",
    "plt.ylabel(\"Y\")\n",
    "plt.legend()\n",
    "plt.grid(True)\n",
    "plt.show()\n"
   ]
  },
  {
   "cell_type": "markdown",
   "id": "e875fc23-058e-4400-960b-6fafc2d3d6d3",
   "metadata": {},
   "source": [
    "## Question 9: Create a residuals plot for a regression model trained on this data:\n",
    "● X = [10, 20, 30, 40, 50]\n",
    "\n",
    "● Y = [15, 35, 40, 50, 65]\n",
    "## Assess heteroscedasticity by examining the spread of residuals."
   ]
  },
  {
   "cell_type": "code",
   "execution_count": 4,
   "id": "42538f3e-3370-4b11-8995-72da6f849d0a",
   "metadata": {},
   "outputs": [
    {
     "name": "stdout",
     "output_type": "stream",
     "text": [
      "Intercept (a): 6.499999999999993\n",
      "Slope (b): 1.1500000000000001\n",
      "Equation: Y = 6.50 + 1.15X\n",
      "\n",
      "Residuals (Y - Y_pred): [-3.   5.5 -1.  -2.5  1. ]\n"
     ]
    },
    {
     "data": {
      "image/png": "[encoded data removed]",
      "text/plain": [
       "<Figure size 640x480 with 1 Axes>"
      ]
     },
     "metadata": {},
     "output_type": "display_data"
    }
   ],
   "source": [
    "# Import required libraries\n",
    "import numpy as np\n",
    "import matplotlib.pyplot as plt\n",
    "from sklearn.linear_model import LinearRegression\n",
    "\n",
    "# Given data\n",
    "X = np.array([10, 20, 30, 40, 50]).reshape(-1, 1)\n",
    "Y = np.array([15, 35, 40, 50, 65])\n",
    "\n",
    "# Fit a Simple Linear Regression model\n",
    "model = LinearRegression()\n",
    "model.fit(X, Y)\n",
    "\n",
    "# Predict Y values\n",
    "Y_pred = model.predict(X)\n",
    "\n",
    "# Calculate residuals (Actual - Predicted)\n",
    "residuals = Y - Y_pred\n",
    "\n",
    "# Print model details\n",
    "print(\"Intercept (a):\", model.intercept_)\n",
    "print(\"Slope (b):\", model.coef_[0])\n",
    "print(\"Equation: Y = {:.2f} + {:.2f}X\".format(model.intercept_, model.coef_[0]))\n",
    "\n",
    "# Display residuals\n",
    "print(\"\\nResiduals (Y - Y_pred):\", residuals)\n",
    "\n",
    "# -----------------------------\n",
    "# Step 2: Plot Residuals\n",
    "# -----------------------------\n",
    "plt.scatter(X, residuals, color='purple', label='Residuals')\n",
    "plt.axhline(y=0, color='black', linestyle='--')  # horizontal reference line\n",
    "plt.title(\"Residual Plot\")\n",
    "plt.xlabel(\"X\")\n",
    "plt.ylabel(\"Residuals (Y - Y_pred)\")\n",
    "plt.legend()\n",
    "plt.grid(True)\n",
    "plt.show()\n"
   ]
  },
  {
   "cell_type": "markdown",
   "id": "d394d937-6de2-498b-8df5-127d8c3e7579",
   "metadata": {},
   "source": [
    "## Question 10: Imagine you are a data scientist working for a real estate company. You need to predict house prices using features like area, number of rooms, and location. However, you detect heteroscedasticity and multicollinearity in your regression model. Explain the steps you would take to address these issues and ensure a robust model."
   ]
  },
  {
   "cell_type": "markdown",
   "id": "2ed55e33-079d-49c8-9405-03297e5cefd2",
   "metadata": {},
   "source": [
    "Step 1: Addressing Heteroscedasticity\n",
    " Problem:\n",
    "\n",
    "Residuals (errors) do not have constant variance — they may increase with larger house sizes or prices.\n",
    "This violates a key regression assumption and can make standard errors unreliable.\n",
    "\n",
    " Solutions:\n",
    "️⃣ Transform the Dependent Variable (Y)\n",
    "\n",
    "Apply transformations like:\n",
    "\n",
    "Logarithmic (log(Y)),\n",
    "\n",
    "Square root (√Y), or\n",
    "\n",
    "Box-Cox transformation.\n",
    "\n",
    "This stabilizes variance and makes the relationship more linear.\n",
    "\n",
    "\n",
    "2️ Use Weighted Least Squares (WLS)\n",
    "\n",
    "Assign weights to observations inversely proportional to the variance of errors.\n",
    "\n",
    "Gives less importance to high-variance points, reducing heteroscedasticity.\n",
    "\n",
    "3️ Use Robust Standard Errors\n",
    "\n",
    "Instead of fixing heteroscedasticity, you can make the model robust to it.\n",
    "\n",
    "In Python (using statsmodels):\n",
    "\n",
    "model = sm.OLS(Y, X).fit(cov_type='HC3')\n",
    "\n",
    "\n",
    "This provides robust standard errors that are valid even with heteroscedasticity.\n",
    "\n",
    "️⃣ Re-examine Features\n",
    "\n",
    "Sometimes, missing variables cause heteroscedasticity (e.g., “location” affects variance).\n",
    "\n",
    "Adding relevant variables can improve model stability.\n",
    "\n",
    " Step 2: Addressing Multicollinearity\n",
    " Problem:\n",
    "\n",
    "Predictor variables are highly correlated, e.g.:\n",
    "\n",
    "Area and Number of Rooms — larger houses naturally have more rooms.\n",
    "\n",
    "This causes unstable coefficients and makes interpretation unreliable.\n",
    "\n",
    " Solutions:\n",
    "️⃣ Check Correlation and VIF\n",
    "\n",
    "Use a correlation matrix and Variance Inflation Factor (VIF) to identify highly correlated predictors.\n",
    "\n",
    "from statsmodels.stats.outliers_influence import variance_inflation_factor\n",
    "\n",
    "\n",
    "If VIF > 10, it indicates strong multicollinearity.\n",
    "\n",
    "️⃣ Remove or Combine Correlated Variables\n",
    "\n",
    "Drop one of the correlated variables.\n",
    "\n",
    "Or create a new composite feature, e.g.:\n",
    "\n",
    "Area_per_room = Area / Rooms\n",
    "\n",
    "This combines both variables meaningfully.\n",
    "\n",
    "️⃣ Use Regularization Techniques\n",
    "\n",
    "Ridge Regression and Lasso Regression handle multicollinearity by shrinking or removing correlated coefficients.\n",
    "\n",
    "from sklearn.linear_model import Ridge, Lasso\n",
    "\n",
    "\n",
    "Ridge reduces coefficient magnitude (keeps all variables).\n",
    "\n",
    "Lasso can eliminate less important correlated features.\n",
    "\n",
    "️⃣ Dimensionality Reduction\n",
    "\n",
    "Apply Principal Component Analysis (PCA) to combine correlated predictors into uncorrelated components.\n",
    "\n",
    "This keeps the model stable and interpretable.\n",
    "\n",
    " Step 3: Validate the Final Model\n",
    "\n",
    "After addressing both issues:\n",
    "\n",
    "Re-fit the regression model.\n",
    "\n",
    "Check again for:\n",
    "\n",
    "Residual patterns (for heteroscedasticity)\n",
    "\n",
    "VIF values (for multicollinearity)\n",
    "\n",
    "Evaluate:\n",
    "\n",
    "R² and Adjusted R²\n",
    "\n",
    "RMSE (Root Mean Squared Error)\n",
    "\n",
    "Cross-validation scores"
   ]
  },
  {
   "cell_type": "code",
   "execution_count": null,
   "id": "c49cf562-691c-451d-8387-07ef17917c21",
   "metadata": {},
   "outputs": [],
   "source": []
  }
 ],
 "metadata": {
  "kernelspec": {
   "display_name": "Python 3 (ipykernel)",
   "language": "python",
   "name": "python3"
  },
  "language_info": {
   "codemirror_mode": {
    "name": "ipython",
    "version": 3
   },
   "file_extension": ".py",
   "mimetype": "text/x-python",
   "name": "python",
   "nbconvert_exporter": "python",
   "pygments_lexer": "ipython3",
   "version": "3.12.7"
  }
 },
 "nbformat": 4,
 "nbformat_minor": 5
}
